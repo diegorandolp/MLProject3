{
 "cells": [
  {
   "metadata": {},
   "cell_type": "markdown",
   "source": "# Load data",
   "id": "fca21fe7f6b9f5d2"
  },
  {
   "metadata": {
    "ExecuteTime": {
     "end_time": "2024-10-29T05:44:26.502698Z",
     "start_time": "2024-10-29T05:44:22.579650Z"
    }
   },
   "cell_type": "code",
   "source": [
    "import numpy as np\n",
    "import pandas as pd\n",
    "import matplotlib.pyplot as plt\n",
    "import seaborn as sns\n",
    "import umap\n",
    "import pickle"
   ],
   "id": "890bfea64590aff7",
   "outputs": [],
   "execution_count": 1
  },
  {
   "metadata": {
    "ExecuteTime": {
     "end_time": "2024-10-29T05:45:11.951785Z",
     "start_time": "2024-10-29T05:45:11.942164Z"
    }
   },
   "cell_type": "code",
   "source": [
    "# Load the data\n",
    "def load_features_train():\n",
    "    with open(r\"C:\\Code\\UTEC\\ML\\Project3\\Project\\data\\pickle\\features.pkl\", \"rb\") as archivo:\n",
    "        feature_vectors_f = pickle.load(archivo)\n",
    "        video_ids_f = pickle.load(archivo)\n",
    "    return feature_vectors_f, video_ids_f"
   ],
   "id": "f2de82eeda40c214",
   "outputs": [],
   "execution_count": 4
  },
  {
   "metadata": {
    "ExecuteTime": {
     "end_time": "2024-10-29T05:45:13.649212Z",
     "start_time": "2024-10-29T05:45:13.188579Z"
    }
   },
   "cell_type": "code",
   "source": "feature_vectors, video_ids = load_features_train()",
   "id": "373c5042111b758e",
   "outputs": [],
   "execution_count": 5
  },
  {
   "metadata": {
    "ExecuteTime": {
     "end_time": "2024-10-29T05:55:55.282695Z",
     "start_time": "2024-10-29T05:55:55.151611Z"
    }
   },
   "cell_type": "code",
   "source": [
    "# Simplify the data using the mean\n",
    "X = []\n",
    "for feature_vector in feature_vectors:\n",
    "    try:\n",
    "        X.append(np.mean(feature_vector, axis=0))\n",
    "    except:\n",
    "        print(\"Error\")"
   ],
   "id": "a58266e67996c554",
   "outputs": [],
   "execution_count": 17
  },
  {
   "metadata": {
    "ExecuteTime": {
     "end_time": "2024-10-29T06:27:23.662608Z",
     "start_time": "2024-10-29T06:27:23.638198Z"
    }
   },
   "cell_type": "code",
   "source": [
    "# Remove nan values\n",
    "for i in range(len(X)):\n",
    "    if np.isnan(X[i]).any():\n",
    "        X.pop(i)"
   ],
   "id": "b9aa2500af73ac46",
   "outputs": [],
   "execution_count": 34
  },
  {
   "metadata": {
    "ExecuteTime": {
     "end_time": "2024-10-29T06:27:42.301310Z",
     "start_time": "2024-10-29T06:27:42.278467Z"
    }
   },
   "cell_type": "code",
   "source": [
    "X = np.array(X)\n",
    "print(X.shape)"
   ],
   "id": "c5841f6318c869e7",
   "outputs": [
    {
     "name": "stdout",
     "output_type": "stream",
     "text": [
      "(10694, 512)\n"
     ]
    }
   ],
   "execution_count": 35
  },
  {
   "metadata": {},
   "cell_type": "markdown",
   "source": "# UMAP",
   "id": "634084aa0607c271"
  },
  {
   "cell_type": "code",
   "id": "initial_id",
   "metadata": {
    "collapsed": true,
    "ExecuteTime": {
     "end_time": "2024-10-29T06:29:09.229091Z",
     "start_time": "2024-10-29T06:28:51.839437Z"
    }
   },
   "source": [
    "umap_red = umap.UMAP(n_components=30)\n",
    "X_umap = umap_red.fit_transform(X)"
   ],
   "outputs": [],
   "execution_count": 36
  },
  {
   "metadata": {
    "ExecuteTime": {
     "end_time": "2024-10-29T06:29:25.512464Z",
     "start_time": "2024-10-29T06:29:25.509069Z"
    }
   },
   "cell_type": "code",
   "source": "print(X_umap.shape)",
   "id": "110c53fa223306a9",
   "outputs": [
    {
     "name": "stdout",
     "output_type": "stream",
     "text": [
      "(10694, 30)\n"
     ]
    }
   ],
   "execution_count": 37
  }
 ],
 "metadata": {
  "kernelspec": {
   "display_name": "Python 3",
   "language": "python",
   "name": "python3"
  },
  "language_info": {
   "codemirror_mode": {
    "name": "ipython",
    "version": 2
   },
   "file_extension": ".py",
   "mimetype": "text/x-python",
   "name": "python",
   "nbconvert_exporter": "python",
   "pygments_lexer": "ipython2",
   "version": "2.7.6"
  }
 },
 "nbformat": 4,
 "nbformat_minor": 5
}
