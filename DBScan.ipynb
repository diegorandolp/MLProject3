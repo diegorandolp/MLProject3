{
 "cells": [
  {
   "metadata": {},
   "cell_type": "markdown",
   "source": "# Load data",
   "id": "fca21fe7f6b9f5d2"
  },
  {
   "metadata": {
    "ExecuteTime": {
     "end_time": "2024-10-29T07:38:25.929683Z",
     "start_time": "2024-10-29T07:38:25.923712Z"
    }
   },
   "cell_type": "code",
   "source": [
    "import numpy as np\n",
    "import pandas as pd\n",
    "import matplotlib.pyplot as plt\n",
    "import seaborn as sns\n",
    "import umap\n",
    "import pickle\n",
    "from sklearn.preprocessing import LabelEncoder\n",
    "from sklearn.metrics import make_scorer, silhouette_score, adjusted_rand_score\n",
    "from sklearn.metrics import mutual_info_score\n",
    "from sklearn.cluster import DBSCAN"
   ],
   "id": "890bfea64590aff7",
   "outputs": [],
   "execution_count": 58
  },
  {
   "metadata": {
    "ExecuteTime": {
     "end_time": "2024-10-29T06:58:28.676327Z",
     "start_time": "2024-10-29T06:58:28.673162Z"
    }
   },
   "cell_type": "code",
   "source": [
    "# Load the data\n",
    "def load_features_train():\n",
    "    with open(r\"C:\\Code\\UTEC\\ML\\Project3\\Project\\data\\pickle\\features.pkl\", \"rb\") as archivo:\n",
    "        feature_vectors_f = pickle.load(archivo)\n",
    "        video_ids_f = pickle.load(archivo)\n",
    "    return feature_vectors_f, video_ids_f"
   ],
   "id": "f2de82eeda40c214",
   "outputs": [],
   "execution_count": 40
  },
  {
   "metadata": {
    "ExecuteTime": {
     "end_time": "2024-10-29T06:58:31.262911Z",
     "start_time": "2024-10-29T06:58:30.167713Z"
    }
   },
   "cell_type": "code",
   "source": "feature_vectors, video_ids = load_features_train()",
   "id": "373c5042111b758e",
   "outputs": [],
   "execution_count": 41
  },
  {
   "metadata": {
    "ExecuteTime": {
     "end_time": "2024-10-29T06:58:33.678749Z",
     "start_time": "2024-10-29T06:58:33.503643Z"
    }
   },
   "cell_type": "code",
   "source": [
    "# Simplify the data using the mean\n",
    "X = []\n",
    "for feature_vector in feature_vectors:\n",
    "    try:\n",
    "        X.append(np.mean(feature_vector, axis=0))\n",
    "    except:\n",
    "        print(\"Error\")"
   ],
   "id": "a58266e67996c554",
   "outputs": [
    {
     "name": "stderr",
     "output_type": "stream",
     "text": [
      "C:\\Users\\Usuario\\miniconda3\\Lib\\site-packages\\numpy\\core\\fromnumeric.py:3504: RuntimeWarning: Mean of empty slice.\n",
      "  return _methods._mean(a, axis=axis, dtype=dtype,\n",
      "C:\\Users\\Usuario\\miniconda3\\Lib\\site-packages\\numpy\\core\\_methods.py:129: RuntimeWarning: invalid value encountered in scalar divide\n",
      "  ret = ret.dtype.type(ret / rcount)\n"
     ]
    }
   ],
   "execution_count": 42
  },
  {
   "metadata": {
    "ExecuteTime": {
     "end_time": "2024-10-29T06:59:04.789910Z",
     "start_time": "2024-10-29T06:59:04.763265Z"
    }
   },
   "cell_type": "code",
   "source": [
    "# Remove nan values\n",
    "for i in range(len(X)):\n",
    "    if np.isnan(X[i]).any():\n",
    "        X.pop(i)\n",
    "        video_ids.pop(i)"
   ],
   "id": "b9aa2500af73ac46",
   "outputs": [],
   "execution_count": 44
  },
  {
   "metadata": {
    "ExecuteTime": {
     "end_time": "2024-10-29T06:59:24.323312Z",
     "start_time": "2024-10-29T06:59:24.308251Z"
    }
   },
   "cell_type": "code",
   "source": [
    "X = np.array(X)\n",
    "print(X.shape)\n",
    "print(len(video_ids))"
   ],
   "id": "c5841f6318c869e7",
   "outputs": [
    {
     "name": "stdout",
     "output_type": "stream",
     "text": [
      "(10694, 512)\n",
      "10694\n"
     ]
    }
   ],
   "execution_count": 46
  },
  {
   "metadata": {},
   "cell_type": "markdown",
   "source": "# Get labels",
   "id": "d517943a32aa73dd"
  },
  {
   "metadata": {
    "ExecuteTime": {
     "end_time": "2024-10-29T07:05:06.101625Z",
     "start_time": "2024-10-29T07:05:06.083345Z"
    }
   },
   "cell_type": "code",
   "source": [
    "# get labels from train_subset.csv which contains the id and label of the videos\n",
    "train_subset_labels = pd.read_csv(r\"C:\\Code\\UTEC\\ML\\Project3\\Project\\data\\csv\\train_subset.csv\")\n",
    "# select the labels that are in video_ids\n",
    "Y_train = train_subset_labels[train_subset_labels[\"youtube_id\"].isin(video_ids)]\n",
    "# encode the lables to numbers\n",
    "labelEncoder = LabelEncoder()\n",
    "Y_train = labelEncoder.fit_transform(Y_train[\"label\"])\n"
   ],
   "id": "c0e1db912cf4e5bb",
   "outputs": [],
   "execution_count": 53
  },
  {
   "metadata": {
    "ExecuteTime": {
     "end_time": "2024-10-29T07:05:07.248029Z",
     "start_time": "2024-10-29T07:05:07.243536Z"
    }
   },
   "cell_type": "code",
   "source": "print(Y_train.shape)",
   "id": "a5c5339d5d1b4161",
   "outputs": [
    {
     "name": "stdout",
     "output_type": "stream",
     "text": [
      "(10694,)\n"
     ]
    }
   ],
   "execution_count": 54
  },
  {
   "metadata": {},
   "cell_type": "markdown",
   "source": "# UMAP",
   "id": "634084aa0607c271"
  },
  {
   "cell_type": "code",
   "id": "initial_id",
   "metadata": {
    "collapsed": true,
    "ExecuteTime": {
     "end_time": "2024-10-29T07:54:36.196336Z",
     "start_time": "2024-10-29T07:54:31.602042Z"
    }
   },
   "source": [
    "umap_red = umap.UMAP(n_components=30)\n",
    "X_umap = umap_red.fit_transform(X)"
   ],
   "outputs": [],
   "execution_count": 84
  },
  {
   "metadata": {
    "ExecuteTime": {
     "end_time": "2024-10-29T07:54:36.882213Z",
     "start_time": "2024-10-29T07:54:36.878510Z"
    }
   },
   "cell_type": "code",
   "source": "print(X_umap.shape)",
   "id": "110c53fa223306a9",
   "outputs": [
    {
     "name": "stdout",
     "output_type": "stream",
     "text": [
      "(10694, 30)\n"
     ]
    }
   ],
   "execution_count": 85
  },
  {
   "metadata": {},
   "cell_type": "markdown",
   "source": "# DBScan",
   "id": "520ff834923a43aa"
  },
  {
   "metadata": {
    "ExecuteTime": {
     "end_time": "2024-10-29T07:58:59.820939Z",
     "start_time": "2024-10-29T07:58:59.807247Z"
    }
   },
   "cell_type": "code",
   "source": [
    "from sklearn.preprocessing import StandardScaler\n",
    "\n",
    "X_umap = StandardScaler().fit_transform(X_umap)\n"
   ],
   "id": "88688dd4adb100e4",
   "outputs": [],
   "execution_count": 96
  },
  {
   "metadata": {
    "ExecuteTime": {
     "end_time": "2024-10-29T07:59:01.447077Z",
     "start_time": "2024-10-29T07:59:01.319665Z"
    }
   },
   "cell_type": "code",
   "source": [
    "dbscan = DBSCAN(eps=1.5, min_samples=4).fit(X_umap)\n",
    "labels_dbscan_umap_train = dbscan.labels_"
   ],
   "id": "e58c73884579cc9",
   "outputs": [],
   "execution_count": 97
  },
  {
   "metadata": {
    "ExecuteTime": {
     "end_time": "2024-10-29T07:59:05.219082Z",
     "start_time": "2024-10-29T07:59:03.958802Z"
    }
   },
   "cell_type": "code",
   "source": [
    "silhouette_scr = silhouette_score(X_umap, labels_dbscan_umap_train)\n",
    "adjusted_rand_scr = adjusted_rand_score(Y_train, labels_dbscan_umap_train)\n",
    "mutual_info_scr = mutual_info_score(Y_train, labels_dbscan_umap_train)\n",
    "print(silhouette_scr, adjusted_rand_scr, mutual_info_scr)"
   ],
   "id": "7d52824a66e3d06",
   "outputs": [
    {
     "name": "stdout",
     "output_type": "stream",
     "text": [
      "0.4461402 3.0344647300155194e-05 0.011053652416185195\n"
     ]
    }
   ],
   "execution_count": 98
  }
 ],
 "metadata": {
  "kernelspec": {
   "display_name": "Python 3",
   "language": "python",
   "name": "python3"
  },
  "language_info": {
   "codemirror_mode": {
    "name": "ipython",
    "version": 2
   },
   "file_extension": ".py",
   "mimetype": "text/x-python",
   "name": "python",
   "nbconvert_exporter": "python",
   "pygments_lexer": "ipython2",
   "version": "2.7.6"
  }
 },
 "nbformat": 4,
 "nbformat_minor": 5
}
