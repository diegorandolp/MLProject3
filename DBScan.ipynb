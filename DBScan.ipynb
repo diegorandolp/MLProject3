{
 "cells": [
  {
   "metadata": {},
   "cell_type": "markdown",
   "source": "# Load data",
   "id": "fca21fe7f6b9f5d2"
  },
  {
   "metadata": {
    "ExecuteTime": {
     "end_time": "2024-10-30T16:38:39.930882Z",
     "start_time": "2024-10-30T16:38:35.851699Z"
    }
   },
   "cell_type": "code",
   "source": [
    "import numpy as np\n",
    "import pandas as pd\n",
    "import matplotlib.pyplot as plt\n",
    "import seaborn as sns\n",
    "import umap\n",
    "import pickle\n",
    "\n",
    "from fontTools.misc.psOperators import ps_integer\n",
    "from networkx.classes import neighbors\n",
    "from sklearn.preprocessing import LabelEncoder\n",
    "from sklearn.metrics import make_scorer, silhouette_score, adjusted_rand_score, rand_score, adjusted_mutual_info_score\n",
    "from sklearn.metrics import mutual_info_score\n",
    "from sklearn.cluster import DBSCAN"
   ],
   "id": "890bfea64590aff7",
   "outputs": [],
   "execution_count": 1
  },
  {
   "metadata": {
    "ExecuteTime": {
     "end_time": "2024-10-30T19:42:56.845476Z",
     "start_time": "2024-10-30T19:42:56.839085Z"
    }
   },
   "cell_type": "code",
   "source": [
    "# Load the data\n",
    "def load_features_train():\n",
    "    with open(r\"C:\\Code\\UTEC\\ML\\Project3\\Project\\data\\pickle\\features.pkl\", \"rb\") as archivo:\n",
    "        feature_vectors_f = pickle.load(archivo)\n",
    "        video_ids_f = pickle.load(archivo)\n",
    "    return feature_vectors_f, video_ids_f"
   ],
   "id": "f2de82eeda40c214",
   "outputs": [],
   "execution_count": 150
  },
  {
   "metadata": {
    "ExecuteTime": {
     "end_time": "2024-10-30T19:42:59.059010Z",
     "start_time": "2024-10-30T19:42:58.528036Z"
    }
   },
   "cell_type": "code",
   "source": "feature_vectors, video_ids = load_features_train()",
   "id": "373c5042111b758e",
   "outputs": [],
   "execution_count": 151
  },
  {
   "metadata": {
    "ExecuteTime": {
     "end_time": "2024-10-30T19:43:03.123707Z",
     "start_time": "2024-10-30T19:43:01.864699Z"
    }
   },
   "cell_type": "code",
   "source": [
    "# Modifier to have only the ids that are in the train_subset_10.csv\n",
    "train_subset_10 = pd.read_csv(r\"C:\\Code\\UTEC\\ML\\Project3\\Project\\data\\csv\\train_subset_10.csv\")\n",
    "ids_train_subset_10 = train_subset_10[\"youtube_id\"].values\n",
    "# select the ids and labels that are in ids_train_subset_10\n",
    "mod_feature_vectors = []\n",
    "mod_video_ids = []\n",
    "for i in range(len(video_ids)):\n",
    "    if video_ids[i] in ids_train_subset_10:\n",
    "        mod_feature_vectors.append(feature_vectors[i])\n",
    "        mod_video_ids.append(video_ids[i])\n",
    "feature_vectors = mod_feature_vectors\n",
    "video_ids = mod_video_ids"
   ],
   "id": "a4d5804506cdd2",
   "outputs": [],
   "execution_count": 152
  },
  {
   "metadata": {
    "ExecuteTime": {
     "end_time": "2024-10-30T19:43:04.119760Z",
     "start_time": "2024-10-30T19:43:04.113042Z"
    }
   },
   "cell_type": "code",
   "source": [
    "print(len(feature_vectors))\n",
    "print(len(video_ids))"
   ],
   "id": "8f7ba341128f017a",
   "outputs": [
    {
     "name": "stdout",
     "output_type": "stream",
     "text": [
      "5415\n",
      "5415\n"
     ]
    }
   ],
   "execution_count": 153
  },
  {
   "metadata": {
    "ExecuteTime": {
     "end_time": "2024-10-30T19:43:07.669970Z",
     "start_time": "2024-10-30T19:43:07.517498Z"
    }
   },
   "cell_type": "code",
   "source": [
    "# Simplify the data using the mean\n",
    "X = []\n",
    "for feature_vector in feature_vectors:\n",
    "    try:\n",
    "        X.append(np.mean(feature_vector, axis=0))\n",
    "    except:\n",
    "        print(\"Error\")"
   ],
   "id": "a58266e67996c554",
   "outputs": [
    {
     "name": "stderr",
     "output_type": "stream",
     "text": [
      "C:\\Users\\Usuario\\miniconda3\\Lib\\site-packages\\numpy\\core\\fromnumeric.py:3504: RuntimeWarning: Mean of empty slice.\n",
      "  return _methods._mean(a, axis=axis, dtype=dtype,\n",
      "C:\\Users\\Usuario\\miniconda3\\Lib\\site-packages\\numpy\\core\\_methods.py:129: RuntimeWarning: invalid value encountered in scalar divide\n",
      "  ret = ret.dtype.type(ret / rcount)\n"
     ]
    }
   ],
   "execution_count": 154
  },
  {
   "metadata": {
    "ExecuteTime": {
     "end_time": "2024-10-30T19:43:11.251737Z",
     "start_time": "2024-10-30T19:43:11.229943Z"
    }
   },
   "cell_type": "code",
   "source": [
    "# Remove nan values\n",
    "for i in range(len(X)):\n",
    "    if np.isnan(X[i]).any():\n",
    "        X.pop(i)\n",
    "        video_ids.pop(i)"
   ],
   "id": "b9aa2500af73ac46",
   "outputs": [],
   "execution_count": 156
  },
  {
   "metadata": {
    "ExecuteTime": {
     "end_time": "2024-10-30T19:43:13.361524Z",
     "start_time": "2024-10-30T19:43:13.346888Z"
    }
   },
   "cell_type": "code",
   "source": [
    "X = np.array(X)\n",
    "print(X.shape)\n",
    "print(len(video_ids))"
   ],
   "id": "c5841f6318c869e7",
   "outputs": [
    {
     "name": "stdout",
     "output_type": "stream",
     "text": [
      "(5414, 512)\n",
      "5414\n"
     ]
    }
   ],
   "execution_count": 157
  },
  {
   "metadata": {},
   "cell_type": "code",
   "outputs": [],
   "execution_count": null,
   "source": "",
   "id": "d58612890d7429f0"
  },
  {
   "metadata": {},
   "cell_type": "markdown",
   "source": "# Get labels",
   "id": "d517943a32aa73dd"
  },
  {
   "metadata": {
    "ExecuteTime": {
     "end_time": "2024-10-30T19:43:19.134951Z",
     "start_time": "2024-10-30T19:43:19.100809Z"
    }
   },
   "cell_type": "code",
   "source": [
    "# get labels from train_subset.csv which contains the id and label of the videos\n",
    "train_subset_labels = pd.read_csv(r\"C:\\Code\\UTEC\\ML\\Project3\\Project\\data\\csv\\train_subset.csv\")\n",
    "# select the labels that are in video_ids\n",
    "train_subset_labels = train_subset_labels[train_subset_labels[\"youtube_id\"].isin(video_ids)]\n",
    "\n",
    "train_subset_labels"
   ],
   "id": "c0e1db912cf4e5bb",
   "outputs": [
    {
     "data": {
      "text/plain": [
       "        youtube_id             label\n",
       "1      zeIkGEHK46I      riding camel\n",
       "2      -Fwy8NwefTk          shot put\n",
       "5      sDD0p8h88rI        dying hair\n",
       "6      09AinCnKAE8      riding camel\n",
       "8      qyTDZajMSqQ    baking cookies\n",
       "...            ...               ...\n",
       "10701  wJwVI6nKcqk        dying hair\n",
       "10702  PGnss27GIDg    baking cookies\n",
       "10706  QpKnQpqND0k  flipping pancake\n",
       "10707  LDQ71GNtp28  wrapping present\n",
       "10713  XhZTEPRW5lk          shot put\n",
       "\n",
       "[5414 rows x 2 columns]"
      ],
      "text/html": [
       "<div>\n",
       "<style scoped>\n",
       "    .dataframe tbody tr th:only-of-type {\n",
       "        vertical-align: middle;\n",
       "    }\n",
       "\n",
       "    .dataframe tbody tr th {\n",
       "        vertical-align: top;\n",
       "    }\n",
       "\n",
       "    .dataframe thead th {\n",
       "        text-align: right;\n",
       "    }\n",
       "</style>\n",
       "<table border=\"1\" class=\"dataframe\">\n",
       "  <thead>\n",
       "    <tr style=\"text-align: right;\">\n",
       "      <th></th>\n",
       "      <th>youtube_id</th>\n",
       "      <th>label</th>\n",
       "    </tr>\n",
       "  </thead>\n",
       "  <tbody>\n",
       "    <tr>\n",
       "      <th>1</th>\n",
       "      <td>zeIkGEHK46I</td>\n",
       "      <td>riding camel</td>\n",
       "    </tr>\n",
       "    <tr>\n",
       "      <th>2</th>\n",
       "      <td>-Fwy8NwefTk</td>\n",
       "      <td>shot put</td>\n",
       "    </tr>\n",
       "    <tr>\n",
       "      <th>5</th>\n",
       "      <td>sDD0p8h88rI</td>\n",
       "      <td>dying hair</td>\n",
       "    </tr>\n",
       "    <tr>\n",
       "      <th>6</th>\n",
       "      <td>09AinCnKAE8</td>\n",
       "      <td>riding camel</td>\n",
       "    </tr>\n",
       "    <tr>\n",
       "      <th>8</th>\n",
       "      <td>qyTDZajMSqQ</td>\n",
       "      <td>baking cookies</td>\n",
       "    </tr>\n",
       "    <tr>\n",
       "      <th>...</th>\n",
       "      <td>...</td>\n",
       "      <td>...</td>\n",
       "    </tr>\n",
       "    <tr>\n",
       "      <th>10701</th>\n",
       "      <td>wJwVI6nKcqk</td>\n",
       "      <td>dying hair</td>\n",
       "    </tr>\n",
       "    <tr>\n",
       "      <th>10702</th>\n",
       "      <td>PGnss27GIDg</td>\n",
       "      <td>baking cookies</td>\n",
       "    </tr>\n",
       "    <tr>\n",
       "      <th>10706</th>\n",
       "      <td>QpKnQpqND0k</td>\n",
       "      <td>flipping pancake</td>\n",
       "    </tr>\n",
       "    <tr>\n",
       "      <th>10707</th>\n",
       "      <td>LDQ71GNtp28</td>\n",
       "      <td>wrapping present</td>\n",
       "    </tr>\n",
       "    <tr>\n",
       "      <th>10713</th>\n",
       "      <td>XhZTEPRW5lk</td>\n",
       "      <td>shot put</td>\n",
       "    </tr>\n",
       "  </tbody>\n",
       "</table>\n",
       "<p>5414 rows × 2 columns</p>\n",
       "</div>"
      ]
     },
     "execution_count": 158,
     "metadata": {},
     "output_type": "execute_result"
    }
   ],
   "execution_count": 158
  },
  {
   "metadata": {
    "ExecuteTime": {
     "end_time": "2024-10-30T19:45:36.096103Z",
     "start_time": "2024-10-30T19:45:33.786416Z"
    }
   },
   "cell_type": "code",
   "source": [
    "Y_train_no_encode = []\n",
    "# sort the labels to have the same order as in the feature vectors and video_ids\n",
    "for video_id in video_ids:\n",
    "    sort_label = train_subset_labels[train_subset_labels[\"youtube_id\"] == video_id][\"label\"].values[0]\n",
    "    Y_train_no_encode.append(sort_label)\n",
    "    "
   ],
   "id": "84b563e8e48ff3f5",
   "outputs": [],
   "execution_count": 159
  },
  {
   "metadata": {
    "ExecuteTime": {
     "end_time": "2024-10-30T19:45:38.407178Z",
     "start_time": "2024-10-30T19:45:38.396617Z"
    }
   },
   "cell_type": "code",
   "source": [
    "# encode the lables to numbers\n",
    "labelEncoder = LabelEncoder()\n",
    "Y_train = labelEncoder.fit_transform(Y_train_no_encode)"
   ],
   "id": "b625e09f2f1b2ff9",
   "outputs": [],
   "execution_count": 160
  },
  {
   "metadata": {
    "ExecuteTime": {
     "end_time": "2024-10-30T19:45:40.310597Z",
     "start_time": "2024-10-30T19:45:40.299920Z"
    }
   },
   "cell_type": "code",
   "source": "print(Y_train.shape)",
   "id": "a5c5339d5d1b4161",
   "outputs": [
    {
     "name": "stdout",
     "output_type": "stream",
     "text": [
      "(5414,)\n"
     ]
    }
   ],
   "execution_count": 161
  },
  {
   "metadata": {
    "ExecuteTime": {
     "end_time": "2024-10-30T19:45:41.843710Z",
     "start_time": "2024-10-30T19:45:41.836630Z"
    }
   },
   "cell_type": "code",
   "source": "print(Y_train_no_encode[0:5])",
   "id": "e3e5d55d74954d80",
   "outputs": [
    {
     "name": "stdout",
     "output_type": "stream",
     "text": [
      "['balloon blowing', 'balloon blowing', 'baking cookies', 'baking cookies', 'balloon blowing']\n"
     ]
    }
   ],
   "execution_count": 162
  },
  {
   "metadata": {
    "ExecuteTime": {
     "end_time": "2024-10-30T19:45:43.504609Z",
     "start_time": "2024-10-30T19:45:43.493460Z"
    }
   },
   "cell_type": "code",
   "source": "print(np.unique(Y_train))",
   "id": "4efedb12be5d607d",
   "outputs": [
    {
     "name": "stdout",
     "output_type": "stream",
     "text": [
      "[0 1 2 3 4 5 6 7 8 9]\n"
     ]
    }
   ],
   "execution_count": 163
  },
  {
   "metadata": {},
   "cell_type": "markdown",
   "source": "# UMAP",
   "id": "634084aa0607c271"
  },
  {
   "cell_type": "code",
   "id": "initial_id",
   "metadata": {
    "collapsed": true,
    "ExecuteTime": {
     "end_time": "2024-10-30T20:02:34.277814Z",
     "start_time": "2024-10-30T20:02:28.403564Z"
    }
   },
   "source": [
    "umap_red = umap.UMAP(n_components=8)\n",
    "X_umap = umap_red.fit_transform(X)"
   ],
   "outputs": [],
   "execution_count": 189
  },
  {
   "metadata": {
    "ExecuteTime": {
     "end_time": "2024-10-30T20:02:34.286960Z",
     "start_time": "2024-10-30T20:02:34.284154Z"
    }
   },
   "cell_type": "code",
   "source": "print(X_umap.shape)",
   "id": "110c53fa223306a9",
   "outputs": [
    {
     "name": "stdout",
     "output_type": "stream",
     "text": [
      "(5414, 8)\n"
     ]
    }
   ],
   "execution_count": 190
  },
  {
   "metadata": {
    "ExecuteTime": {
     "end_time": "2024-10-29T15:26:12.112778Z",
     "start_time": "2024-10-29T15:26:12.105825Z"
    }
   },
   "cell_type": "code",
   "source": [
    "# save the umap model\n",
    "# with open(r\"C:\\Code\\UTEC\\ML\\Project3\\Project\\data\\pickle\\x_umap.pkl\", \"wb\") as archivo:\n",
    "#         pickle.dump(X_umap, archivo)"
   ],
   "id": "82f05831bff5b224",
   "outputs": [],
   "execution_count": 40
  },
  {
   "metadata": {
    "ExecuteTime": {
     "end_time": "2024-10-29T15:28:08.944753Z",
     "start_time": "2024-10-29T15:28:08.939701Z"
    }
   },
   "cell_type": "code",
   "source": [
    "# load the umap model\n",
    "# with open(r\"C:\\Code\\UTEC\\ML\\Project3\\Project\\data\\pickle\\x_umap.pkl\", \"rb\") as archivo:\n",
    "#         X_umap_temp = pickle.load(archivo)\n",
    "# print(X_umap_temp.shape)"
   ],
   "id": "c9718df7cf98dcce",
   "outputs": [
    {
     "name": "stdout",
     "output_type": "stream",
     "text": [
      "(10694, 30)\n"
     ]
    }
   ],
   "execution_count": 41
  },
  {
   "metadata": {},
   "cell_type": "markdown",
   "source": "# DBScan",
   "id": "520ff834923a43aa"
  },
  {
   "metadata": {
    "ExecuteTime": {
     "end_time": "2024-10-30T20:02:38.213243Z",
     "start_time": "2024-10-30T20:02:38.207290Z"
    }
   },
   "cell_type": "code",
   "source": [
    "from sklearn.preprocessing import StandardScaler\n",
    "\n",
    "X_umap = StandardScaler().fit_transform(X_umap)\n"
   ],
   "id": "88688dd4adb100e4",
   "outputs": [],
   "execution_count": 191
  },
  {
   "metadata": {
    "ExecuteTime": {
     "end_time": "2024-10-30T19:46:03.569658Z",
     "start_time": "2024-10-30T19:46:03.312439Z"
    }
   },
   "cell_type": "code",
   "source": [
    "dbscan = DBSCAN(eps=1.5, min_samples=4).fit(X_umap)\n",
    "labels_dbscan_umap_train = dbscan.labels_"
   ],
   "id": "e58c73884579cc9",
   "outputs": [],
   "execution_count": 167
  },
  {
   "metadata": {
    "ExecuteTime": {
     "end_time": "2024-10-30T16:40:34.173134Z",
     "start_time": "2024-10-30T16:40:34.169488Z"
    }
   },
   "cell_type": "code",
   "source": "print(len(labels_dbscan_umap_train), len(X_umap))",
   "id": "eb14ab63c26af41e",
   "outputs": [
    {
     "name": "stdout",
     "output_type": "stream",
     "text": [
      "10694 10694\n"
     ]
    }
   ],
   "execution_count": 22
  },
  {
   "metadata": {
    "ExecuteTime": {
     "end_time": "2024-10-30T16:40:35.461497Z",
     "start_time": "2024-10-30T16:40:35.457188Z"
    }
   },
   "cell_type": "code",
   "source": "print(np.unique(labels_dbscan_umap_train))",
   "id": "3b37ab3145d355b0",
   "outputs": [
    {
     "name": "stdout",
     "output_type": "stream",
     "text": [
      "[-1  0  1  2  3  4  5  6  7  8  9 10 11 12 13]\n"
     ]
    }
   ],
   "execution_count": 23
  },
  {
   "metadata": {
    "ExecuteTime": {
     "end_time": "2024-10-30T16:40:42.656853Z",
     "start_time": "2024-10-30T16:40:41.474144Z"
    }
   },
   "cell_type": "code",
   "source": [
    "silhouette_scr = silhouette_score(X_umap, labels_dbscan_umap_train)\n",
    "adjusted_rand_scr = adjusted_rand_score(Y_train, labels_dbscan_umap_train)\n",
    "mutual_info_scr = mutual_info_score(Y_train, labels_dbscan_umap_train)\n",
    "print(silhouette_scr, adjusted_rand_scr, mutual_info_scr)"
   ],
   "id": "7d52824a66e3d06",
   "outputs": [
    {
     "name": "stdout",
     "output_type": "stream",
     "text": [
      "0.47573468 0.7288382983454574 2.479975240243041\n"
     ]
    }
   ],
   "execution_count": 24
  },
  {
   "metadata": {
    "ExecuteTime": {
     "end_time": "2024-10-30T19:36:18.083471Z",
     "start_time": "2024-10-30T19:36:18.079732Z"
    }
   },
   "cell_type": "code",
   "source": [
    "ult, cult = np.unique(labels_dbscan_umap_train, return_counts=True)\n",
    "print(ult, cult)"
   ],
   "id": "ef21b12546cd6a59",
   "outputs": [
    {
     "name": "stdout",
     "output_type": "stream",
     "text": [
      "[1 2 3 4 5 6 7 8 9] [ 534  647  693  466  479  581  546 1204  264]\n"
     ]
    }
   ],
   "execution_count": 149
  },
  {
   "metadata": {
    "ExecuteTime": {
     "end_time": "2024-10-30T16:40:56.701828Z",
     "start_time": "2024-10-30T16:40:56.695537Z"
    }
   },
   "cell_type": "code",
   "source": [
    "prueba = {\n",
    "    'ids_train': video_ids[0:10],\n",
    "    'Y_train': Y_train[0:10],\n",
    "    'Y_pred' : labels_dbscan_umap_train[0:10]\n",
    "}\n",
    "df_prueba = pd.DataFrame(prueba)\n",
    "df_prueba"
   ],
   "id": "6bc1ad23b46349b0",
   "outputs": [
    {
     "data": {
      "text/plain": [
       "     ids_train  Y_train  Y_pred\n",
       "0  --gx7yb1-x0        1       0\n",
       "1  --Ntf6n-j9Q        1       0\n",
       "2  -07Ke73N4zI        2       1\n",
       "3  -1MXpPymXFU        0       1\n",
       "4  -2KvnLMnrA0        6       2\n",
       "5  -36efvC2K54        0       1\n",
       "6  -3tVVBhz8-o        1       0\n",
       "7  -5oULXqj45c       13       3\n",
       "8  -5s-IR39XaY        5       4\n",
       "9  -5Vx7UtZpzk        5       4"
      ],
      "text/html": [
       "<div>\n",
       "<style scoped>\n",
       "    .dataframe tbody tr th:only-of-type {\n",
       "        vertical-align: middle;\n",
       "    }\n",
       "\n",
       "    .dataframe tbody tr th {\n",
       "        vertical-align: top;\n",
       "    }\n",
       "\n",
       "    .dataframe thead th {\n",
       "        text-align: right;\n",
       "    }\n",
       "</style>\n",
       "<table border=\"1\" class=\"dataframe\">\n",
       "  <thead>\n",
       "    <tr style=\"text-align: right;\">\n",
       "      <th></th>\n",
       "      <th>ids_train</th>\n",
       "      <th>Y_train</th>\n",
       "      <th>Y_pred</th>\n",
       "    </tr>\n",
       "  </thead>\n",
       "  <tbody>\n",
       "    <tr>\n",
       "      <th>0</th>\n",
       "      <td>--gx7yb1-x0</td>\n",
       "      <td>1</td>\n",
       "      <td>0</td>\n",
       "    </tr>\n",
       "    <tr>\n",
       "      <th>1</th>\n",
       "      <td>--Ntf6n-j9Q</td>\n",
       "      <td>1</td>\n",
       "      <td>0</td>\n",
       "    </tr>\n",
       "    <tr>\n",
       "      <th>2</th>\n",
       "      <td>-07Ke73N4zI</td>\n",
       "      <td>2</td>\n",
       "      <td>1</td>\n",
       "    </tr>\n",
       "    <tr>\n",
       "      <th>3</th>\n",
       "      <td>-1MXpPymXFU</td>\n",
       "      <td>0</td>\n",
       "      <td>1</td>\n",
       "    </tr>\n",
       "    <tr>\n",
       "      <th>4</th>\n",
       "      <td>-2KvnLMnrA0</td>\n",
       "      <td>6</td>\n",
       "      <td>2</td>\n",
       "    </tr>\n",
       "    <tr>\n",
       "      <th>5</th>\n",
       "      <td>-36efvC2K54</td>\n",
       "      <td>0</td>\n",
       "      <td>1</td>\n",
       "    </tr>\n",
       "    <tr>\n",
       "      <th>6</th>\n",
       "      <td>-3tVVBhz8-o</td>\n",
       "      <td>1</td>\n",
       "      <td>0</td>\n",
       "    </tr>\n",
       "    <tr>\n",
       "      <th>7</th>\n",
       "      <td>-5oULXqj45c</td>\n",
       "      <td>13</td>\n",
       "      <td>3</td>\n",
       "    </tr>\n",
       "    <tr>\n",
       "      <th>8</th>\n",
       "      <td>-5s-IR39XaY</td>\n",
       "      <td>5</td>\n",
       "      <td>4</td>\n",
       "    </tr>\n",
       "    <tr>\n",
       "      <th>9</th>\n",
       "      <td>-5Vx7UtZpzk</td>\n",
       "      <td>5</td>\n",
       "      <td>4</td>\n",
       "    </tr>\n",
       "  </tbody>\n",
       "</table>\n",
       "</div>"
      ]
     },
     "execution_count": 25,
     "metadata": {},
     "output_type": "execute_result"
    }
   ],
   "execution_count": 25
  },
  {
   "metadata": {},
   "cell_type": "markdown",
   "source": "# DBScan implementation",
   "id": "526aa847bd5a5094"
  },
  {
   "metadata": {
    "ExecuteTime": {
     "end_time": "2024-10-30T20:02:42.938273Z",
     "start_time": "2024-10-30T20:02:42.930943Z"
    }
   },
   "cell_type": "code",
   "source": [
    "from sklearn.neighbors import KDTree\n",
    "from collections import deque\n",
    "class DBScan_custom:\n",
    "    def __init__(self, eps=0.5, min_samples=5):\n",
    "        self.eps = eps\n",
    "        self.min_samples = min_samples\n",
    "        self.X = None\n",
    "        self.labels = None\n",
    "        \n",
    "    def fit(self, X):\n",
    "        self.X = X\n",
    "        # load in KDtree for eficient search of neighbours\n",
    "        kdtree = KDTree(X)\n",
    "        # all noise\n",
    "        self.labels = np.full(len(X), -1)\n",
    "        # get the nn in the eps radius\n",
    "        nns = kdtree.query_radius(X, r=self.eps)\n",
    "        # iterate trough all the points to find the clusters\n",
    "        cluster_number = 0\n",
    "        visited_points = np.zeros(len(X))\n",
    "        for i in range(len(X)):\n",
    "            # skip if the point is already assigned to a cluster\n",
    "            if self.labels[i] != -1:\n",
    "                continue\n",
    "            visited_points[i] = 1\n",
    "            # core points\n",
    "            if len(nns[i]) >= self.min_samples:\n",
    "                cluster_number += 1\n",
    "                # assign the cluster number to the current point if doesnt have a cluster\n",
    "                if self.labels[i] == -1:\n",
    "                    self.labels[i] = cluster_number\n",
    "                # expand the cluster from the current point to its nns\n",
    "                nns_p = deque(nns[i])\n",
    "                j = nns_p.pop()\n",
    "                # iterate through all the nns and assign the same cluster number\n",
    "                while True:\n",
    "                    if visited_points[j] == 0:\n",
    "                        visited_points[j] = 1\n",
    "                        nns_nn_p = nns[j]\n",
    "                        if nns_nn_p.size >= self.min_samples:\n",
    "                            for item in nns_nn_p:\n",
    "                                nns_p.append(item)\n",
    "                    if self.labels[j] == -1:\n",
    "                        self.labels[j] = cluster_number\n",
    "                    # break if there are no more nns cores\n",
    "                    if len(nns_p) == 0:\n",
    "                        break\n",
    "                    j = nns_p.pop()\n",
    "        return self\n",
    "    def labels_(self):\n",
    "        return self.labels\n",
    "    def predict(self, X_test):\n",
    "        # return the label of the nn of the train points\n",
    "        labels = []\n",
    "        kdtree = KDTree(self.X)\n",
    "        dist, nns_1 = kdtree.query(X_test, k=1)\n",
    "        for i in range(len(nns_1)):\n",
    "            labels.append(self.labels[nns_1[i][0]])\n",
    "        return labels\n",
    "\n",
    "        "
   ],
   "id": "26f3d27285358518",
   "outputs": [],
   "execution_count": 192
  },
  {
   "metadata": {
    "ExecuteTime": {
     "end_time": "2024-10-30T20:02:48.258548Z",
     "start_time": "2024-10-30T20:02:46.695292Z"
    }
   },
   "cell_type": "code",
   "source": [
    "dbscan = DBScan_custom(eps=1.5, min_samples=4).fit(X_umap)\n",
    "labels_dbscan_umap_train = dbscan.labels_()"
   ],
   "id": "2a3f0e11b031c4ac",
   "outputs": [],
   "execution_count": 193
  },
  {
   "metadata": {
    "ExecuteTime": {
     "end_time": "2024-10-30T20:02:48.535722Z",
     "start_time": "2024-10-30T20:02:48.531048Z"
    }
   },
   "cell_type": "code",
   "source": "print(len(labels_dbscan_umap_train))",
   "id": "3de9562a48228891",
   "outputs": [
    {
     "name": "stdout",
     "output_type": "stream",
     "text": [
      "5414\n"
     ]
    }
   ],
   "execution_count": 194
  },
  {
   "metadata": {
    "ExecuteTime": {
     "end_time": "2024-10-30T20:02:51.146823Z",
     "start_time": "2024-10-30T20:02:51.142184Z"
    }
   },
   "cell_type": "code",
   "source": "print(np.unique(labels_dbscan_umap_train))",
   "id": "45e602d35e9102f4",
   "outputs": [
    {
     "name": "stdout",
     "output_type": "stream",
     "text": [
      "[1 2 3 4 5 6 7 8]\n"
     ]
    }
   ],
   "execution_count": 195
  },
  {
   "metadata": {
    "ExecuteTime": {
     "end_time": "2024-10-30T20:03:02.610425Z",
     "start_time": "2024-10-30T20:03:02.606035Z"
    }
   },
   "cell_type": "code",
   "source": [
    "def metrics_clustering(X, Y_true, Y_pred):\n",
    "    silhouette_scr = silhouette_score(X, Y_pred)\n",
    "    rand_scr = rand_score(Y_true, Y_pred)\n",
    "    adj_mutual_info_scr = adjusted_mutual_info_score(Y_true, Y_pred)\n",
    "    return silhouette_scr, rand_scr, adj_mutual_info_scr"
   ],
   "id": "7e2e319484c6532a",
   "outputs": [],
   "execution_count": 196
  },
  {
   "metadata": {
    "ExecuteTime": {
     "end_time": "2024-10-30T20:03:05.677196Z",
     "start_time": "2024-10-30T20:03:05.170990Z"
    }
   },
   "cell_type": "code",
   "source": [
    "silhouette_scr, rand_scr, mutual_info_scr= metrics_clustering(X_umap, Y_train, labels_dbscan_umap_train)\n",
    "print(silhouette_scr, rand_scr, mutual_info_scr)"
   ],
   "id": "cc60bce7bb398609",
   "outputs": [
    {
     "name": "stdout",
     "output_type": "stream",
     "text": [
      "0.8061307 0.9488584276070325 0.9085740182169194\n"
     ]
    }
   ],
   "execution_count": 197
  },
  {
   "metadata": {},
   "cell_type": "code",
   "outputs": [],
   "execution_count": null,
   "source": [
    "# Find the best parameters for DBScan\n",
    "# TODO:  apply the model to the test data, submit the results"
   ],
   "id": "8bfa9d1d9a8fa0f5"
  },
  {
   "metadata": {
    "ExecuteTime": {
     "end_time": "2024-10-30T19:12:10.674651Z",
     "start_time": "2024-10-30T19:12:10.670461Z"
    }
   },
   "cell_type": "code",
   "source": [
    "# Find the best parameters for DBScan\n",
    "def best_params_dbscan(X, Y_true, eps_values, min_samples_values):\n",
    "    metric_s = []\n",
    "    for eps_value in eps_values:\n",
    "        for min_samples_value in min_samples_values:\n",
    "            print(eps_value, min_samples_value)\n",
    "            dbscan = DBScan_custom(eps=eps_value, min_samples=min_samples_value).fit(X)\n",
    "            Y_pred = dbscan.labels_()\n",
    "            silhouette_scr, rand_scr, adj_mutual_info_scr = metrics_clustering(X, Y_true, Y_pred)\n",
    "            metric_s.append([eps_value, min_samples_value, silhouette_scr, rand_scr, adj_mutual_info_scr])\n",
    "    return metric_s"
   ],
   "id": "45d35a09a84daffd",
   "outputs": [],
   "execution_count": 123
  },
  {
   "metadata": {
    "ExecuteTime": {
     "end_time": "2024-10-30T20:02:00.862119Z",
     "start_time": "2024-10-30T20:00:51.358519Z"
    }
   },
   "cell_type": "code",
   "source": [
    "eps_values = [0.1, 0.5, 1, 1.5, 2, 2.5, 3]\n",
    "min_samples_values = [2, 3, 4, 5, 6, 7, 8]\n",
    "metrics_search = best_params_dbscan(X_umap, Y_train, eps_values, min_samples_values)"
   ],
   "id": "7a97c8b04c00a6ad",
   "outputs": [
    {
     "name": "stdout",
     "output_type": "stream",
     "text": [
      "0.1 2\n",
      "0.1 3\n",
      "0.1 4\n",
      "0.1 5\n",
      "0.1 6\n",
      "0.1 7\n",
      "0.1 8\n",
      "0.5 2\n",
      "0.5 3\n",
      "0.5 4\n",
      "0.5 5\n",
      "0.5 6\n",
      "0.5 7\n",
      "0.5 8\n",
      "1 2\n",
      "1 3\n",
      "1 4\n",
      "1 5\n",
      "1 6\n",
      "1 7\n",
      "1 8\n",
      "1.5 2\n",
      "1.5 3\n",
      "1.5 4\n",
      "1.5 5\n",
      "1.5 6\n",
      "1.5 7\n",
      "1.5 8\n",
      "2 2\n",
      "2 3\n",
      "2 4\n",
      "2 5\n",
      "2 6\n",
      "2 7\n",
      "2 8\n",
      "2.5 2\n",
      "2.5 3\n",
      "2.5 4\n",
      "2.5 5\n",
      "2.5 6\n",
      "2.5 7\n",
      "2.5 8\n",
      "3 2\n",
      "3 3\n",
      "3 4\n",
      "3 5\n",
      "3 6\n",
      "3 7\n",
      "3 8\n"
     ]
    }
   ],
   "execution_count": 187
  },
  {
   "metadata": {
    "ExecuteTime": {
     "end_time": "2024-10-30T20:02:01.853006Z",
     "start_time": "2024-10-30T20:02:00.864132Z"
    }
   },
   "cell_type": "code",
   "source": [
    "# graph the rsultas of the grid search\n",
    "df_metric_search = pd.DataFrame(metrics_search, columns=[\"eps\", \"min_samples\", \"silhouette_scr\", \"rand_scr\", \"adj_mutual_info_scr\"])\n",
    "\n",
    "for metric in [\"silhouette_scr\", \"rand_scr\", \"adj_mutual_info_scr\"]:\n",
    "    heatmap_data = df_metric_search.pivot(index=\"eps\", columns=\"min_samples\", values=metric)\n",
    "    plt.figure(figsize=(8, 6))\n",
    "    sns.heatmap(heatmap_data, annot=True, fmt=\".2f\", cbar_kws={'label': metric})\n",
    "    plt.title(f\"Heatmap of {metric} for different eps and min_samples\")\n",
    "    plt.xlabel(\"min_samples\")\n",
    "    plt.ylabel(\"eps\")\n",
    "    plt.show()\n"
   ],
   "id": "5d4883649ebd807a",
   "outputs": [
    {
     "data": {
      "text/plain": [
       "<Figure size 800x600 with 2 Axes>"
      ],
      "image/png": "[encoded data removed]"
     },
     "metadata": {},
     "output_type": "display_data"
    },
    {
     "data": {
      "text/plain": [
       "<Figure size 800x600 with 2 Axes>"
      ],
      "image/png": "[encoded data removed]"
     },
     "metadata": {},
     "output_type": "display_data"
    },
    {
     "data": {
      "text/plain": [
       "<Figure size 800x600 with 2 Axes>"
      ],
      "image/png": "[encoded data removed]"
     },
     "metadata": {},
     "output_type": "display_data"
    }
   ],
   "execution_count": 188
  },
  {
   "metadata": {},
   "cell_type": "markdown",
   "source": "### Segun los graficos los mejores parametros son eps=1 y min_samples = [2:8], se escoge min_samples = 4",
   "id": "c6d629eee7b1374c"
  },
  {
   "metadata": {},
   "cell_type": "markdown",
   "source": "# Assign acctions to the labels based on majority voting (Train)",
   "id": "5ea0be642b479e08"
  },
  {
   "metadata": {
    "ExecuteTime": {
     "end_time": "2024-10-30T19:14:23.520504Z",
     "start_time": "2024-10-30T19:14:23.514457Z"
    }
   },
   "cell_type": "code",
   "source": [
    "import statistics\n",
    "def actions_dictionary(labels, Y):\n",
    "    unique_labels = np.unique(labels)\n",
    "    action_dict = {}\n",
    "    for label in unique_labels:\n",
    "        index_labels = np.where(labels == label)[0]\n",
    "        actions_string = [Y[i] for i in index_labels] \n",
    "        action_majority = statistics.mode(actions_string)\n",
    "        action_dict[label] = action_majority\n",
    "    return action_dict\n",
    "        \n",
    "        "
   ],
   "id": "5f3cc23538136316",
   "outputs": [],
   "execution_count": 126
  },
  {
   "metadata": {
    "ExecuteTime": {
     "end_time": "2024-10-30T19:46:47.851261Z",
     "start_time": "2024-10-30T19:46:47.840389Z"
    }
   },
   "cell_type": "code",
   "source": "train_dictionary_actions = actions_dictionary(labels_dbscan_umap_train, Y_train_no_encode)",
   "id": "ffaca0e2731da06e",
   "outputs": [],
   "execution_count": 174
  },
  {
   "metadata": {
    "ExecuteTime": {
     "end_time": "2024-10-30T19:46:51.297935Z",
     "start_time": "2024-10-30T19:46:51.288900Z"
    }
   },
   "cell_type": "code",
   "source": "print(train_dictionary_actions)",
   "id": "3d43ee2959f3d14d",
   "outputs": [
    {
     "name": "stdout",
     "output_type": "stream",
     "text": [
      "{1: 'balloon blowing', 2: 'baking cookies', 3: 'shot put', 4: 'flipping pancake', 5: 'riding camel', 6: 'wrapping present', 7: 'stretching leg', 8: 'dying hair', 9: 'spraying'}\n"
     ]
    }
   ],
   "execution_count": 175
  },
  {
   "metadata": {
    "ExecuteTime": {
     "end_time": "2024-10-30T19:14:32.078258Z",
     "start_time": "2024-10-30T19:14:32.073060Z"
    }
   },
   "cell_type": "code",
   "source": "print(type(train_dictionary_actions))",
   "id": "5e2e9c7294d2af9",
   "outputs": [
    {
     "name": "stdout",
     "output_type": "stream",
     "text": [
      "<class 'dict'>\n"
     ]
    }
   ],
   "execution_count": 129
  },
  {
   "metadata": {
    "ExecuteTime": {
     "end_time": "2024-10-30T19:14:33.930219Z",
     "start_time": "2024-10-30T19:14:33.926501Z"
    }
   },
   "cell_type": "code",
   "source": [
    "# Decode the actions\n",
    "def decode_labels(labels, dictionary):\n",
    "    decoded_labels = []\n",
    "    for label in labels:\n",
    "        decoded_labels.append(dictionary[label])\n",
    "    return decoded_labels"
   ],
   "id": "242d184101a1fa2f",
   "outputs": [],
   "execution_count": 130
  },
  {
   "metadata": {},
   "cell_type": "markdown",
   "source": "# Load Data test",
   "id": "e7d086d9b10605a9"
  },
  {
   "metadata": {
    "ExecuteTime": {
     "end_time": "2024-10-30T19:46:57.110979Z",
     "start_time": "2024-10-30T19:46:57.101373Z"
    }
   },
   "cell_type": "code",
   "source": [
    "def load_features_test():\n",
    "    with open(r\"C:\\Code\\UTEC\\ML\\Project3\\Project\\data\\pickle\\features_test.pkl\", \"rb\") as archivo:\n",
    "        feature_vectors_test_f = pickle.load(archivo)\n",
    "        video_ids_test_f = pickle.load(archivo)\n",
    "    return feature_vectors_test_f, video_ids_test_f"
   ],
   "id": "f6530743194fda74",
   "outputs": [],
   "execution_count": 176
  },
  {
   "metadata": {
    "ExecuteTime": {
     "end_time": "2024-10-30T19:47:00.201178Z",
     "start_time": "2024-10-30T19:47:00.051604Z"
    }
   },
   "cell_type": "code",
   "source": "feature_vectors_test, video_ids_test = load_features_test()",
   "id": "cf6aabe45e3625cd",
   "outputs": [],
   "execution_count": 177
  },
  {
   "metadata": {
    "ExecuteTime": {
     "end_time": "2024-10-30T20:03:28.135972Z",
     "start_time": "2024-10-30T20:03:28.098535Z"
    }
   },
   "cell_type": "code",
   "source": [
    "X_test = []\n",
    "for feature_vector in feature_vectors_test:\n",
    "    try:\n",
    "        X_test.append(np.mean(feature_vector, axis=0))\n",
    "    except:\n",
    "        print(\"Error\")"
   ],
   "id": "9e56d19b5485c288",
   "outputs": [],
   "execution_count": 198
  },
  {
   "metadata": {
    "ExecuteTime": {
     "end_time": "2024-10-30T20:03:30.180141Z",
     "start_time": "2024-10-30T20:03:30.172203Z"
    }
   },
   "cell_type": "code",
   "source": [
    "for i in range(len(X_test)):\n",
    "    if np.isnan(X_test[i]).any():\n",
    "        X_test.pop(i)\n",
    "        video_ids_test.pop(i)"
   ],
   "id": "dd43d1da5a67d3ba",
   "outputs": [],
   "execution_count": 199
  },
  {
   "metadata": {
    "ExecuteTime": {
     "end_time": "2024-10-30T19:47:09.597496Z",
     "start_time": "2024-10-30T19:47:09.584914Z"
    }
   },
   "cell_type": "code",
   "source": [
    "X_test = np.array(X_test)\n",
    "print(X_test.shape)\n",
    "print(len(video_ids_test))"
   ],
   "id": "2354f07d1919d2d9",
   "outputs": [
    {
     "name": "stdout",
     "output_type": "stream",
     "text": [
      "(1626, 512)\n",
      "1626\n"
     ]
    }
   ],
   "execution_count": 180
  },
  {
   "metadata": {},
   "cell_type": "markdown",
   "source": "# Apply the best model of DBScan-UMAP to the test data",
   "id": "41207837708072c8"
  },
  {
   "metadata": {
    "ExecuteTime": {
     "end_time": "2024-10-30T20:03:50.068668Z",
     "start_time": "2024-10-30T20:03:46.030996Z"
    }
   },
   "cell_type": "code",
   "source": [
    "umap_red = umap.UMAP(n_components=8)\n",
    "X_test_umap = umap_red.fit_transform(X_test)\n",
    "X_test_umap = StandardScaler().fit_transform(X_test_umap)\n"
   ],
   "id": "9095f41f45515316",
   "outputs": [],
   "execution_count": 200
  },
  {
   "metadata": {
    "ExecuteTime": {
     "end_time": "2024-10-30T20:03:57.945242Z",
     "start_time": "2024-10-30T20:03:57.937613Z"
    }
   },
   "cell_type": "code",
   "source": "print(X_test_umap.shape)",
   "id": "b8b526035c809ece",
   "outputs": [
    {
     "name": "stdout",
     "output_type": "stream",
     "text": [
      "(1626, 8)\n"
     ]
    }
   ],
   "execution_count": 201
  },
  {
   "metadata": {
    "ExecuteTime": {
     "end_time": "2024-10-30T20:04:02.284298Z",
     "start_time": "2024-10-30T20:04:00.648396Z"
    }
   },
   "cell_type": "code",
   "source": [
    "dbscan = DBScan_custom(eps=1, min_samples=4).fit(X_umap)\n",
    "Y_test_pred = dbscan.predict(X_test_umap)"
   ],
   "id": "6064e3d39f62ca45",
   "outputs": [],
   "execution_count": 202
  },
  {
   "metadata": {
    "ExecuteTime": {
     "end_time": "2024-10-30T20:04:03.166781Z",
     "start_time": "2024-10-30T20:04:03.163312Z"
    }
   },
   "cell_type": "code",
   "source": "print(Y_test_pred[0:10])",
   "id": "6732b1fc236870a",
   "outputs": [
    {
     "name": "stdout",
     "output_type": "stream",
     "text": [
      "[7, 2, 8, 7, 1, 8, 1, 6, 8, 6]\n"
     ]
    }
   ],
   "execution_count": 203
  },
  {
   "metadata": {
    "ExecuteTime": {
     "end_time": "2024-10-30T19:15:04.492212Z",
     "start_time": "2024-10-30T19:15:04.481221Z"
    }
   },
   "cell_type": "code",
   "source": "Y_test_pred_string = decode_labels(Y_test_pred, train_dictionary_actions)",
   "id": "ea79a5055a8fbcd6",
   "outputs": [],
   "execution_count": 140
  },
  {
   "metadata": {
    "ExecuteTime": {
     "end_time": "2024-10-30T20:04:07.525642Z",
     "start_time": "2024-10-30T20:04:07.521297Z"
    }
   },
   "cell_type": "code",
   "source": [
    "lu, clu = np.unique(Y_test_pred, return_counts=True)\n",
    "print(lu, clu)"
   ],
   "id": "d747b0adf52bbb27",
   "outputs": [
    {
     "name": "stdout",
     "output_type": "stream",
     "text": [
      "[1 2 4 6 7 8 9] [122 354   5 351  65 650  79]\n"
     ]
    }
   ],
   "execution_count": 204
  },
  {
   "metadata": {
    "ExecuteTime": {
     "end_time": "2024-10-30T20:04:15.107464Z",
     "start_time": "2024-10-30T20:04:15.092563Z"
    }
   },
   "cell_type": "code",
   "source": [
    "prueba2 = { \"youtube_id\": video_ids_test, \"label\": Y_test_pred}\n",
    "df_prueba2 = pd.DataFrame(prueba2)\n",
    "df_prueba2"
   ],
   "id": "ccb32f154699ddd3",
   "outputs": [
    {
     "data": {
      "text/plain": [
       "       youtube_id  label\n",
       "0     -3T2VPGo2jI      7\n",
       "1     -7Wz9S-ZZz4      2\n",
       "2     -a1f1ikmdd8      8\n",
       "3     -AZMzKjls-k      7\n",
       "4     -bGVnGCy2yY      1\n",
       "...           ...    ...\n",
       "1621  Ztyij17ill0      7\n",
       "1622  zujZagp-4jQ      8\n",
       "1623  ZuvChCAjbak      8\n",
       "1624  ZxpwgIZg4lI      8\n",
       "1625  zz1YMml9Z6k      2\n",
       "\n",
       "[1626 rows x 2 columns]"
      ],
      "text/html": [
       "<div>\n",
       "<style scoped>\n",
       "    .dataframe tbody tr th:only-of-type {\n",
       "        vertical-align: middle;\n",
       "    }\n",
       "\n",
       "    .dataframe tbody tr th {\n",
       "        vertical-align: top;\n",
       "    }\n",
       "\n",
       "    .dataframe thead th {\n",
       "        text-align: right;\n",
       "    }\n",
       "</style>\n",
       "<table border=\"1\" class=\"dataframe\">\n",
       "  <thead>\n",
       "    <tr style=\"text-align: right;\">\n",
       "      <th></th>\n",
       "      <th>youtube_id</th>\n",
       "      <th>label</th>\n",
       "    </tr>\n",
       "  </thead>\n",
       "  <tbody>\n",
       "    <tr>\n",
       "      <th>0</th>\n",
       "      <td>-3T2VPGo2jI</td>\n",
       "      <td>7</td>\n",
       "    </tr>\n",
       "    <tr>\n",
       "      <th>1</th>\n",
       "      <td>-7Wz9S-ZZz4</td>\n",
       "      <td>2</td>\n",
       "    </tr>\n",
       "    <tr>\n",
       "      <th>2</th>\n",
       "      <td>-a1f1ikmdd8</td>\n",
       "      <td>8</td>\n",
       "    </tr>\n",
       "    <tr>\n",
       "      <th>3</th>\n",
       "      <td>-AZMzKjls-k</td>\n",
       "      <td>7</td>\n",
       "    </tr>\n",
       "    <tr>\n",
       "      <th>4</th>\n",
       "      <td>-bGVnGCy2yY</td>\n",
       "      <td>1</td>\n",
       "    </tr>\n",
       "    <tr>\n",
       "      <th>...</th>\n",
       "      <td>...</td>\n",
       "      <td>...</td>\n",
       "    </tr>\n",
       "    <tr>\n",
       "      <th>1621</th>\n",
       "      <td>Ztyij17ill0</td>\n",
       "      <td>7</td>\n",
       "    </tr>\n",
       "    <tr>\n",
       "      <th>1622</th>\n",
       "      <td>zujZagp-4jQ</td>\n",
       "      <td>8</td>\n",
       "    </tr>\n",
       "    <tr>\n",
       "      <th>1623</th>\n",
       "      <td>ZuvChCAjbak</td>\n",
       "      <td>8</td>\n",
       "    </tr>\n",
       "    <tr>\n",
       "      <th>1624</th>\n",
       "      <td>ZxpwgIZg4lI</td>\n",
       "      <td>8</td>\n",
       "    </tr>\n",
       "    <tr>\n",
       "      <th>1625</th>\n",
       "      <td>zz1YMml9Z6k</td>\n",
       "      <td>2</td>\n",
       "    </tr>\n",
       "  </tbody>\n",
       "</table>\n",
       "<p>1626 rows × 2 columns</p>\n",
       "</div>"
      ]
     },
     "execution_count": 205,
     "metadata": {},
     "output_type": "execute_result"
    }
   ],
   "execution_count": 205
  },
  {
   "metadata": {
    "ExecuteTime": {
     "end_time": "2024-10-30T20:04:17.552787Z",
     "start_time": "2024-10-30T20:04:17.547284Z"
    }
   },
   "cell_type": "code",
   "source": [
    "# Save the results as csv\n",
    "df_prueba2.to_csv(r\"C:\\Code\\UTEC\\ML\\Project3\\Project\\data\\csv\\submission.csv\", index=False)"
   ],
   "id": "3a0d5e895fe9fd0e",
   "outputs": [],
   "execution_count": 206
  },
  {
   "metadata": {
    "ExecuteTime": {
     "end_time": "2024-10-30T20:04:18.850831Z",
     "start_time": "2024-10-30T20:04:18.842629Z"
    }
   },
   "cell_type": "code",
   "source": [
    "test_subset_10 = pd.read_csv(r\"C:\\Code\\UTEC\\ML\\Project3\\Project\\data\\csv\\test_subset_10.csv\")\n",
    "ids_test_subset_10 = test_subset_10[\"youtube_id\"].values\n",
    "# select the ids and labels that are in ids_test_subset_10\n",
    "df_prueba2_subset = df_prueba2[df_prueba2[\"youtube_id\"].isin(ids_test_subset_10)]\n",
    "print(df_prueba2_subset.head(5))"
   ],
   "id": "eca69fed10938592",
   "outputs": [
    {
     "name": "stdout",
     "output_type": "stream",
     "text": [
      "    youtube_id  label\n",
      "1  -7Wz9S-ZZz4      2\n",
      "2  -a1f1ikmdd8      8\n",
      "4  -bGVnGCy2yY      1\n",
      "5  -BrNqmFy-6Y      8\n",
      "6  -CsBjy8T-II      1\n"
     ]
    }
   ],
   "execution_count": 207
  },
  {
   "metadata": {
    "ExecuteTime": {
     "end_time": "2024-10-30T20:04:21.711030Z",
     "start_time": "2024-10-30T20:04:21.707243Z"
    }
   },
   "cell_type": "code",
   "source": "print(len(df_prueba2_subset.values))",
   "id": "ebd7e1c4ded13bec",
   "outputs": [
    {
     "name": "stdout",
     "output_type": "stream",
     "text": [
      "805\n"
     ]
    }
   ],
   "execution_count": 208
  },
  {
   "metadata": {
    "ExecuteTime": {
     "end_time": "2024-10-30T20:04:23.064468Z",
     "start_time": "2024-10-30T20:04:23.058900Z"
    }
   },
   "cell_type": "code",
   "source": [
    "# Save the results as csv\n",
    "df_prueba2_subset.to_csv(r\"C:\\Code\\UTEC\\ML\\Project3\\Project\\data\\csv\\submission_subset.csv\", index=False)"
   ],
   "id": "ebea65cf9c13659c",
   "outputs": [],
   "execution_count": 209
  }
 ],
 "metadata": {
  "kernelspec": {
   "display_name": "Python 3",
   "language": "python",
   "name": "python3"
  },
  "language_info": {
   "codemirror_mode": {
    "name": "ipython",
    "version": 2
   },
   "file_extension": ".py",
   "mimetype": "text/x-python",
   "name": "python",
   "nbconvert_exporter": "python",
   "pygments_lexer": "ipython2",
   "version": "2.7.6"
  }
 },
 "nbformat": 4,
 "nbformat_minor": 5
}
