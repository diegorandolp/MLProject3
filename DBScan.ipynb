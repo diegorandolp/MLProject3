{
 "cells": [
  {
   "metadata": {},
   "cell_type": "markdown",
   "source": "# Load data",
   "id": "fca21fe7f6b9f5d2"
  },
  {
   "metadata": {
    "ExecuteTime": {
     "end_time": "2024-10-30T08:05:08.494314Z",
     "start_time": "2024-10-30T08:05:08.469016Z"
    }
   },
   "cell_type": "code",
   "source": [
    "import numpy as np\n",
    "import pandas as pd\n",
    "import matplotlib.pyplot as plt\n",
    "import seaborn as sns\n",
    "import umap\n",
    "import pickle\n",
    "\n",
    "from fontTools.misc.psOperators import ps_integer\n",
    "from networkx.classes import neighbors\n",
    "from sklearn.preprocessing import LabelEncoder\n",
    "from sklearn.metrics import make_scorer, silhouette_score, adjusted_rand_score, rand_score, adjusted_mutual_info_score\n",
    "from sklearn.metrics import mutual_info_score\n",
    "from sklearn.cluster import DBSCAN"
   ],
   "id": "890bfea64590aff7",
   "outputs": [],
   "execution_count": 132
  },
  {
   "metadata": {
    "ExecuteTime": {
     "end_time": "2024-10-29T23:50:27.544760Z",
     "start_time": "2024-10-29T23:50:27.539037Z"
    }
   },
   "cell_type": "code",
   "source": [
    "# Load the data\n",
    "def load_features_train():\n",
    "    with open(r\"C:\\Code\\UTEC\\ML\\Project3\\Project\\data\\pickle\\features.pkl\", \"rb\") as archivo:\n",
    "        feature_vectors_f = pickle.load(archivo)\n",
    "        video_ids_f = pickle.load(archivo)\n",
    "    return feature_vectors_f, video_ids_f"
   ],
   "id": "f2de82eeda40c214",
   "outputs": [],
   "execution_count": 3
  },
  {
   "metadata": {
    "ExecuteTime": {
     "end_time": "2024-10-29T23:50:29.696317Z",
     "start_time": "2024-10-29T23:50:29.144087Z"
    }
   },
   "cell_type": "code",
   "source": "feature_vectors, video_ids = load_features_train()",
   "id": "373c5042111b758e",
   "outputs": [],
   "execution_count": 4
  },
  {
   "metadata": {
    "ExecuteTime": {
     "end_time": "2024-10-29T23:50:31.120494Z",
     "start_time": "2024-10-29T23:50:30.984806Z"
    }
   },
   "cell_type": "code",
   "source": [
    "# Simplify the data using the mean\n",
    "X = []\n",
    "for feature_vector in feature_vectors:\n",
    "    try:\n",
    "        X.append(np.mean(feature_vector, axis=0))\n",
    "    except:\n",
    "        print(\"Error\")"
   ],
   "id": "a58266e67996c554",
   "outputs": [
    {
     "name": "stderr",
     "output_type": "stream",
     "text": [
      "C:\\Users\\Usuario\\miniconda3\\Lib\\site-packages\\numpy\\core\\fromnumeric.py:3504: RuntimeWarning: Mean of empty slice.\n",
      "  return _methods._mean(a, axis=axis, dtype=dtype,\n",
      "C:\\Users\\Usuario\\miniconda3\\Lib\\site-packages\\numpy\\core\\_methods.py:129: RuntimeWarning: invalid value encountered in scalar divide\n",
      "  ret = ret.dtype.type(ret / rcount)\n"
     ]
    }
   ],
   "execution_count": 5
  },
  {
   "metadata": {
    "ExecuteTime": {
     "end_time": "2024-10-29T23:50:36.448071Z",
     "start_time": "2024-10-29T23:50:36.425606Z"
    }
   },
   "cell_type": "code",
   "source": [
    "# Remove nan values\n",
    "for i in range(len(X)):\n",
    "    if np.isnan(X[i]).any():\n",
    "        X.pop(i)\n",
    "        video_ids.pop(i)"
   ],
   "id": "b9aa2500af73ac46",
   "outputs": [],
   "execution_count": 7
  },
  {
   "metadata": {
    "ExecuteTime": {
     "end_time": "2024-10-29T23:50:38.354092Z",
     "start_time": "2024-10-29T23:50:38.331328Z"
    }
   },
   "cell_type": "code",
   "source": [
    "X = np.array(X)\n",
    "print(X.shape)\n",
    "print(len(video_ids))"
   ],
   "id": "c5841f6318c869e7",
   "outputs": [
    {
     "name": "stdout",
     "output_type": "stream",
     "text": [
      "(10694, 512)\n",
      "10694\n"
     ]
    }
   ],
   "execution_count": 8
  },
  {
   "metadata": {},
   "cell_type": "markdown",
   "source": "# Get labels",
   "id": "d517943a32aa73dd"
  },
  {
   "metadata": {
    "ExecuteTime": {
     "end_time": "2024-10-30T06:30:47.207086Z",
     "start_time": "2024-10-30T06:30:47.169982Z"
    }
   },
   "cell_type": "code",
   "source": [
    "# get labels from train_subset.csv which contains the id and label of the videos\n",
    "train_subset_labels = pd.read_csv(r\"C:\\Code\\UTEC\\ML\\Project3\\Project\\data\\csv\\train_subset.csv\")\n",
    "# select the labels that are in video_ids\n",
    "train_subset_labels = train_subset_labels[train_subset_labels[\"youtube_id\"].isin(video_ids)]\n",
    "\n",
    "train_subset_labels"
   ],
   "id": "c0e1db912cf4e5bb",
   "outputs": [
    {
     "data": {
      "text/plain": [
       "        youtube_id               label\n",
       "0      GcTww0NOCk0           hopscotch\n",
       "1      zeIkGEHK46I        riding camel\n",
       "2      -Fwy8NwefTk            shot put\n",
       "3      YYgESo5eQD8               situp\n",
       "4      38Ml6v4vPzY    playing clarinet\n",
       "...            ...                 ...\n",
       "10712  M0O8lByHQ-k           hopscotch\n",
       "10713  XhZTEPRW5lk            shot put\n",
       "10714  egfzXatr0jc    playing clarinet\n",
       "10715  mQ0-F4Y24xo  playing ice hockey\n",
       "10716  CybHailRBYU               situp\n",
       "\n",
       "[10694 rows x 2 columns]"
      ],
      "text/html": [
       "<div>\n",
       "<style scoped>\n",
       "    .dataframe tbody tr th:only-of-type {\n",
       "        vertical-align: middle;\n",
       "    }\n",
       "\n",
       "    .dataframe tbody tr th {\n",
       "        vertical-align: top;\n",
       "    }\n",
       "\n",
       "    .dataframe thead th {\n",
       "        text-align: right;\n",
       "    }\n",
       "</style>\n",
       "<table border=\"1\" class=\"dataframe\">\n",
       "  <thead>\n",
       "    <tr style=\"text-align: right;\">\n",
       "      <th></th>\n",
       "      <th>youtube_id</th>\n",
       "      <th>label</th>\n",
       "    </tr>\n",
       "  </thead>\n",
       "  <tbody>\n",
       "    <tr>\n",
       "      <th>0</th>\n",
       "      <td>GcTww0NOCk0</td>\n",
       "      <td>hopscotch</td>\n",
       "    </tr>\n",
       "    <tr>\n",
       "      <th>1</th>\n",
       "      <td>zeIkGEHK46I</td>\n",
       "      <td>riding camel</td>\n",
       "    </tr>\n",
       "    <tr>\n",
       "      <th>2</th>\n",
       "      <td>-Fwy8NwefTk</td>\n",
       "      <td>shot put</td>\n",
       "    </tr>\n",
       "    <tr>\n",
       "      <th>3</th>\n",
       "      <td>YYgESo5eQD8</td>\n",
       "      <td>situp</td>\n",
       "    </tr>\n",
       "    <tr>\n",
       "      <th>4</th>\n",
       "      <td>38Ml6v4vPzY</td>\n",
       "      <td>playing clarinet</td>\n",
       "    </tr>\n",
       "    <tr>\n",
       "      <th>...</th>\n",
       "      <td>...</td>\n",
       "      <td>...</td>\n",
       "    </tr>\n",
       "    <tr>\n",
       "      <th>10712</th>\n",
       "      <td>M0O8lByHQ-k</td>\n",
       "      <td>hopscotch</td>\n",
       "    </tr>\n",
       "    <tr>\n",
       "      <th>10713</th>\n",
       "      <td>XhZTEPRW5lk</td>\n",
       "      <td>shot put</td>\n",
       "    </tr>\n",
       "    <tr>\n",
       "      <th>10714</th>\n",
       "      <td>egfzXatr0jc</td>\n",
       "      <td>playing clarinet</td>\n",
       "    </tr>\n",
       "    <tr>\n",
       "      <th>10715</th>\n",
       "      <td>mQ0-F4Y24xo</td>\n",
       "      <td>playing ice hockey</td>\n",
       "    </tr>\n",
       "    <tr>\n",
       "      <th>10716</th>\n",
       "      <td>CybHailRBYU</td>\n",
       "      <td>situp</td>\n",
       "    </tr>\n",
       "  </tbody>\n",
       "</table>\n",
       "<p>10694 rows × 2 columns</p>\n",
       "</div>"
      ]
     },
     "execution_count": 103,
     "metadata": {},
     "output_type": "execute_result"
    }
   ],
   "execution_count": 103
  },
  {
   "metadata": {
    "ExecuteTime": {
     "end_time": "2024-10-30T06:30:55.712594Z",
     "start_time": "2024-10-30T06:30:49.313723Z"
    }
   },
   "cell_type": "code",
   "source": [
    "Y_train_no_encode = []\n",
    "# sort the labels to have the same order as in the feature vectors and video_ids\n",
    "for video_id in video_ids:\n",
    "    sort_label = train_subset_labels[train_subset_labels[\"youtube_id\"] == video_id][\"label\"].values[0]\n",
    "    Y_train_no_encode.append(sort_label)\n",
    "    "
   ],
   "id": "84b563e8e48ff3f5",
   "outputs": [],
   "execution_count": 104
  },
  {
   "metadata": {
    "ExecuteTime": {
     "end_time": "2024-10-30T06:30:56.353284Z",
     "start_time": "2024-10-30T06:30:56.345991Z"
    }
   },
   "cell_type": "code",
   "source": [
    "# encode the lables to numbers\n",
    "labelEncoder = LabelEncoder()\n",
    "Y_train = labelEncoder.fit_transform(Y_train_no_encode)"
   ],
   "id": "b625e09f2f1b2ff9",
   "outputs": [],
   "execution_count": 105
  },
  {
   "metadata": {
    "ExecuteTime": {
     "end_time": "2024-10-30T06:30:57.737844Z",
     "start_time": "2024-10-30T06:30:57.733370Z"
    }
   },
   "cell_type": "code",
   "source": "print(Y_train.shape)",
   "id": "a5c5339d5d1b4161",
   "outputs": [
    {
     "name": "stdout",
     "output_type": "stream",
     "text": [
      "(10694,)\n"
     ]
    }
   ],
   "execution_count": 106
  },
  {
   "metadata": {
    "ExecuteTime": {
     "end_time": "2024-10-30T07:07:57.755503Z",
     "start_time": "2024-10-30T07:07:57.751249Z"
    }
   },
   "cell_type": "code",
   "source": "print(Y_train_no_encode[0:5])",
   "id": "e3e5d55d74954d80",
   "outputs": [
    {
     "name": "stdout",
     "output_type": "stream",
     "text": [
      "['balloon blowing', 'balloon blowing', 'cooking chicken', 'baking cookies', 'golf driving']\n"
     ]
    }
   ],
   "execution_count": 112
  },
  {
   "metadata": {
    "ExecuteTime": {
     "end_time": "2024-10-30T07:25:31.675156Z",
     "start_time": "2024-10-30T07:25:31.669276Z"
    }
   },
   "cell_type": "code",
   "source": "print(np.unique(Y_train))",
   "id": "4efedb12be5d607d",
   "outputs": [
    {
     "name": "stdout",
     "output_type": "stream",
     "text": [
      "[ 0  1  2  3  4  5  6  7  8  9 10 11 12 13 14 15 16 17 18 19]\n"
     ]
    }
   ],
   "execution_count": 123
  },
  {
   "metadata": {},
   "cell_type": "markdown",
   "source": "# UMAP",
   "id": "634084aa0607c271"
  },
  {
   "cell_type": "code",
   "id": "initial_id",
   "metadata": {
    "collapsed": true,
    "ExecuteTime": {
     "end_time": "2024-10-29T23:51:27.878171Z",
     "start_time": "2024-10-29T23:51:11.949060Z"
    }
   },
   "source": [
    "umap_red = umap.UMAP(n_components=30)\n",
    "X_umap = umap_red.fit_transform(X)"
   ],
   "outputs": [],
   "execution_count": 13
  },
  {
   "metadata": {
    "ExecuteTime": {
     "end_time": "2024-10-29T23:51:27.886418Z",
     "start_time": "2024-10-29T23:51:27.883707Z"
    }
   },
   "cell_type": "code",
   "source": "print(X_umap.shape)",
   "id": "110c53fa223306a9",
   "outputs": [
    {
     "name": "stdout",
     "output_type": "stream",
     "text": [
      "(10694, 30)\n"
     ]
    }
   ],
   "execution_count": 14
  },
  {
   "metadata": {
    "ExecuteTime": {
     "end_time": "2024-10-29T15:26:12.112778Z",
     "start_time": "2024-10-29T15:26:12.105825Z"
    }
   },
   "cell_type": "code",
   "source": [
    "# save the umap model\n",
    "with open(r\"C:\\Code\\UTEC\\ML\\Project3\\Project\\data\\pickle\\x_umap.pkl\", \"wb\") as archivo:\n",
    "        pickle.dump(X_umap, archivo)"
   ],
   "id": "82f05831bff5b224",
   "outputs": [],
   "execution_count": 40
  },
  {
   "metadata": {
    "ExecuteTime": {
     "end_time": "2024-10-29T15:28:08.944753Z",
     "start_time": "2024-10-29T15:28:08.939701Z"
    }
   },
   "cell_type": "code",
   "source": [
    "# load the umap model\n",
    "with open(r\"C:\\Code\\UTEC\\ML\\Project3\\Project\\data\\pickle\\x_umap.pkl\", \"rb\") as archivo:\n",
    "        X_umap_temp = pickle.load(archivo)\n",
    "print(X_umap_temp.shape)"
   ],
   "id": "c9718df7cf98dcce",
   "outputs": [
    {
     "name": "stdout",
     "output_type": "stream",
     "text": [
      "(10694, 30)\n"
     ]
    }
   ],
   "execution_count": 41
  },
  {
   "metadata": {},
   "cell_type": "markdown",
   "source": "# DBScan",
   "id": "520ff834923a43aa"
  },
  {
   "metadata": {
    "ExecuteTime": {
     "end_time": "2024-10-30T00:05:21.519905Z",
     "start_time": "2024-10-30T00:05:21.509747Z"
    }
   },
   "cell_type": "code",
   "source": [
    "from sklearn.preprocessing import StandardScaler\n",
    "\n",
    "X_umap = StandardScaler().fit_transform(X_umap)\n"
   ],
   "id": "88688dd4adb100e4",
   "outputs": [],
   "execution_count": 31
  },
  {
   "metadata": {
    "ExecuteTime": {
     "end_time": "2024-10-30T00:05:24.119951Z",
     "start_time": "2024-10-30T00:05:23.833402Z"
    }
   },
   "cell_type": "code",
   "source": [
    "dbscan = DBSCAN(eps=1.5, min_samples=4).fit(X_umap)\n",
    "labels_dbscan_umap_train = dbscan.labels_"
   ],
   "id": "e58c73884579cc9",
   "outputs": [],
   "execution_count": 32
  },
  {
   "metadata": {
    "ExecuteTime": {
     "end_time": "2024-10-30T00:05:48.975104Z",
     "start_time": "2024-10-30T00:05:48.971974Z"
    }
   },
   "cell_type": "code",
   "source": "print(len(labels_dbscan_umap_train), len(X_umap))",
   "id": "eb14ab63c26af41e",
   "outputs": [
    {
     "name": "stdout",
     "output_type": "stream",
     "text": [
      "10694 10694\n"
     ]
    }
   ],
   "execution_count": 34
  },
  {
   "metadata": {
    "ExecuteTime": {
     "end_time": "2024-10-30T00:06:36.125156Z",
     "start_time": "2024-10-30T00:06:36.120498Z"
    }
   },
   "cell_type": "code",
   "source": "print(np.unique(labels_dbscan_umap_train))",
   "id": "3b37ab3145d355b0",
   "outputs": [
    {
     "name": "stdout",
     "output_type": "stream",
     "text": [
      "[-1  0  1  2  3  4  5  6  7  8  9 10 11 12 13 14]\n"
     ]
    }
   ],
   "execution_count": 35
  },
  {
   "metadata": {
    "ExecuteTime": {
     "end_time": "2024-10-29T15:11:53.720263Z",
     "start_time": "2024-10-29T15:11:52.540364Z"
    }
   },
   "cell_type": "code",
   "source": [
    "silhouette_scr = silhouette_score(X_umap, labels_dbscan_umap_train)\n",
    "adjusted_rand_scr = adjusted_rand_score(Y_train, labels_dbscan_umap_train)\n",
    "mutual_info_scr = mutual_info_score(Y_train, labels_dbscan_umap_train)\n",
    "print(silhouette_scr, adjusted_rand_scr, mutual_info_scr)"
   ],
   "id": "7d52824a66e3d06",
   "outputs": [
    {
     "name": "stdout",
     "output_type": "stream",
     "text": [
      "0.48215133 0.7471182007735846 2.531974034583729\n"
     ]
    }
   ],
   "execution_count": 36
  },
  {
   "metadata": {},
   "cell_type": "code",
   "outputs": [],
   "execution_count": null,
   "source": "",
   "id": "c19fd126079a763b"
  },
  {
   "metadata": {
    "ExecuteTime": {
     "end_time": "2024-10-29T15:14:40.493043Z",
     "start_time": "2024-10-29T15:14:40.485350Z"
    }
   },
   "cell_type": "code",
   "source": [
    "prueba = {\n",
    "    'ids_train': video_ids[0:10],\n",
    "    'Y_train': Y_train[0:10],\n",
    "    'Y_pred' : labels_dbscan_umap_train[0:10]\n",
    "}\n",
    "df_prueba = pd.DataFrame(prueba)\n",
    "df_prueba"
   ],
   "id": "6bc1ad23b46349b0",
   "outputs": [
    {
     "data": {
      "text/plain": [
       "     ids_train  Y_train  Y_pred\n",
       "0  --gx7yb1-x0        1       0\n",
       "1  --Ntf6n-j9Q        1       0\n",
       "2  -07Ke73N4zI        2       1\n",
       "3  -1MXpPymXFU        0       1\n",
       "4  -2KvnLMnrA0        6       2\n",
       "5  -36efvC2K54        0       1\n",
       "6  -3tVVBhz8-o        1       0\n",
       "7  -5oULXqj45c       13       3\n",
       "8  -5s-IR39XaY        5       4\n",
       "9  -5Vx7UtZpzk        5       4"
      ],
      "text/html": [
       "<div>\n",
       "<style scoped>\n",
       "    .dataframe tbody tr th:only-of-type {\n",
       "        vertical-align: middle;\n",
       "    }\n",
       "\n",
       "    .dataframe tbody tr th {\n",
       "        vertical-align: top;\n",
       "    }\n",
       "\n",
       "    .dataframe thead th {\n",
       "        text-align: right;\n",
       "    }\n",
       "</style>\n",
       "<table border=\"1\" class=\"dataframe\">\n",
       "  <thead>\n",
       "    <tr style=\"text-align: right;\">\n",
       "      <th></th>\n",
       "      <th>ids_train</th>\n",
       "      <th>Y_train</th>\n",
       "      <th>Y_pred</th>\n",
       "    </tr>\n",
       "  </thead>\n",
       "  <tbody>\n",
       "    <tr>\n",
       "      <th>0</th>\n",
       "      <td>--gx7yb1-x0</td>\n",
       "      <td>1</td>\n",
       "      <td>0</td>\n",
       "    </tr>\n",
       "    <tr>\n",
       "      <th>1</th>\n",
       "      <td>--Ntf6n-j9Q</td>\n",
       "      <td>1</td>\n",
       "      <td>0</td>\n",
       "    </tr>\n",
       "    <tr>\n",
       "      <th>2</th>\n",
       "      <td>-07Ke73N4zI</td>\n",
       "      <td>2</td>\n",
       "      <td>1</td>\n",
       "    </tr>\n",
       "    <tr>\n",
       "      <th>3</th>\n",
       "      <td>-1MXpPymXFU</td>\n",
       "      <td>0</td>\n",
       "      <td>1</td>\n",
       "    </tr>\n",
       "    <tr>\n",
       "      <th>4</th>\n",
       "      <td>-2KvnLMnrA0</td>\n",
       "      <td>6</td>\n",
       "      <td>2</td>\n",
       "    </tr>\n",
       "    <tr>\n",
       "      <th>5</th>\n",
       "      <td>-36efvC2K54</td>\n",
       "      <td>0</td>\n",
       "      <td>1</td>\n",
       "    </tr>\n",
       "    <tr>\n",
       "      <th>6</th>\n",
       "      <td>-3tVVBhz8-o</td>\n",
       "      <td>1</td>\n",
       "      <td>0</td>\n",
       "    </tr>\n",
       "    <tr>\n",
       "      <th>7</th>\n",
       "      <td>-5oULXqj45c</td>\n",
       "      <td>13</td>\n",
       "      <td>3</td>\n",
       "    </tr>\n",
       "    <tr>\n",
       "      <th>8</th>\n",
       "      <td>-5s-IR39XaY</td>\n",
       "      <td>5</td>\n",
       "      <td>4</td>\n",
       "    </tr>\n",
       "    <tr>\n",
       "      <th>9</th>\n",
       "      <td>-5Vx7UtZpzk</td>\n",
       "      <td>5</td>\n",
       "      <td>4</td>\n",
       "    </tr>\n",
       "  </tbody>\n",
       "</table>\n",
       "</div>"
      ]
     },
     "execution_count": 37,
     "metadata": {},
     "output_type": "execute_result"
    }
   ],
   "execution_count": 37
  },
  {
   "metadata": {},
   "cell_type": "markdown",
   "source": "# DBScan implementation",
   "id": "526aa847bd5a5094"
  },
  {
   "metadata": {
    "ExecuteTime": {
     "end_time": "2024-10-30T06:19:58.120719Z",
     "start_time": "2024-10-30T06:19:58.112652Z"
    }
   },
   "cell_type": "code",
   "source": [
    "from sklearn.neighbors import KDTree\n",
    "from collections import deque\n",
    "class DBScan_custom:\n",
    "    def __init__(self, eps=0.5, min_samples=5):\n",
    "        self.eps = eps\n",
    "        self.min_samples = min_samples\n",
    "        self.X = None\n",
    "        self.labels = None\n",
    "        \n",
    "    def fit(self, X):\n",
    "        self.X = X\n",
    "        # load in KDtree for eficient search of neighbours\n",
    "        kdtree = KDTree(X)\n",
    "        # all noise\n",
    "        self.labels = np.full(len(X), -1)\n",
    "        # get the nn in the eps radius\n",
    "        nns = kdtree.query_radius(X, r=self.eps)\n",
    "        # iterate trough all the points to find the clusters\n",
    "        cluster_number = 0\n",
    "        visited_points = np.zeros(len(X))\n",
    "        for i in range(len(X)):\n",
    "            # skip if the point is already assigned to a cluster\n",
    "            if self.labels[i] != -1:\n",
    "                continue\n",
    "            visited_points[i] = 1\n",
    "            # core points\n",
    "            if len(nns[i]) >= self.min_samples:\n",
    "                cluster_number += 1\n",
    "                # assign the cluster number to the current point if doesnt have a cluster\n",
    "                if self.labels[i] == -1:\n",
    "                    self.labels[i] = cluster_number\n",
    "                # expand the cluster from the current point to its nns\n",
    "                nns_p = deque(nns[i])\n",
    "                j = nns_p.pop()\n",
    "                # iterate through all the nns and assign the same cluster number\n",
    "                while True:\n",
    "                    if visited_points[j] == 0:\n",
    "                        visited_points[j] = 1\n",
    "                        nns_nn_p = nns[j]\n",
    "                        if nns_nn_p.size >= self.min_samples:\n",
    "                            for item in nns_nn_p:\n",
    "                                nns_p.append(item)\n",
    "                    if self.labels[j] == -1:\n",
    "                        self.labels[j] = cluster_number\n",
    "                    # break if there are no more nns cores\n",
    "                    if len(nns_p) == 0:\n",
    "                        break\n",
    "                    j = nns_p.pop()\n",
    "        return self\n",
    "    def labels_(self):\n",
    "        return self.labels\n",
    "    def predict(self, X_test):\n",
    "        # return the label of the nn of the train points\n",
    "        labels = []\n",
    "        kdtree = KDTree(self.X)\n",
    "        dist, nns_1 = kdtree.query(X_test, k=1)\n",
    "        labels = self.labels[nns_1]\n",
    "        return labels\n",
    "\n",
    "        "
   ],
   "id": "26f3d27285358518",
   "outputs": [],
   "execution_count": 102
  },
  {
   "metadata": {
    "ExecuteTime": {
     "end_time": "2024-10-30T05:53:29.331531Z",
     "start_time": "2024-10-30T05:53:27.713193Z"
    }
   },
   "cell_type": "code",
   "source": [
    "dbscan = DBScan_custom(eps=1.5, min_samples=4).fit(X_umap)\n",
    "labels_dbscan_umap_train = dbscan.predict()"
   ],
   "id": "2a3f0e11b031c4ac",
   "outputs": [],
   "execution_count": 98
  },
  {
   "metadata": {
    "ExecuteTime": {
     "end_time": "2024-10-30T05:53:29.990885Z",
     "start_time": "2024-10-30T05:53:29.987133Z"
    }
   },
   "cell_type": "code",
   "source": "print(len(labels_dbscan_umap_train))",
   "id": "3de9562a48228891",
   "outputs": [
    {
     "name": "stdout",
     "output_type": "stream",
     "text": [
      "10694\n"
     ]
    }
   ],
   "execution_count": 99
  },
  {
   "metadata": {
    "ExecuteTime": {
     "end_time": "2024-10-30T05:53:31.880683Z",
     "start_time": "2024-10-30T05:53:31.876551Z"
    }
   },
   "cell_type": "code",
   "source": "print(np.unique(labels_dbscan_umap_train))",
   "id": "45e602d35e9102f4",
   "outputs": [
    {
     "name": "stdout",
     "output_type": "stream",
     "text": [
      "[-1  1  2  3  4  5  6  7  8  9 10 11 12 13 14 15]\n"
     ]
    }
   ],
   "execution_count": 100
  },
  {
   "metadata": {
    "ExecuteTime": {
     "end_time": "2024-10-30T08:05:14.378575Z",
     "start_time": "2024-10-30T08:05:14.374757Z"
    }
   },
   "cell_type": "code",
   "source": [
    "def metrics_clustering(X, Y_true, Y_pred):\n",
    "    silhouette_scr = silhouette_score(X, Y_pred)\n",
    "    rand_scr = rand_score(Y_true, Y_pred)\n",
    "    mutual_info_scr = mutual_info_score(Y_true, Y_pred)\n",
    "    adjusted_mutual_info_scr = adjusted_mutual_info_score(Y_true, Y_pred)\n",
    "    return silhouette_scr, rand_scr, mutual_info_scr, adjusted_mutual_info_scr"
   ],
   "id": "7e2e319484c6532a",
   "outputs": [],
   "execution_count": 133
  },
  {
   "metadata": {
    "ExecuteTime": {
     "end_time": "2024-10-30T08:05:16.653046Z",
     "start_time": "2024-10-30T08:05:15.440763Z"
    }
   },
   "cell_type": "code",
   "source": [
    "silhouette_scr, rand_scr, mutual_info_scr, adjusted_mutual_info_scr = metrics_clustering(X_umap, Y_train, labels_dbscan_umap_train)\n",
    "print(silhouette_scr, rand_scr, mutual_info_scr, adjusted_mutual_info_scr)"
   ],
   "id": "cc60bce7bb398609",
   "outputs": [
    {
     "name": "stdout",
     "output_type": "stream",
     "text": [
      "0.49123225 0.9676384126332777 2.5308477014338058 0.9116324925219547\n"
     ]
    }
   ],
   "execution_count": 134
  },
  {
   "metadata": {},
   "cell_type": "code",
   "outputs": [],
   "execution_count": null,
   "source": [
    "# Find the best parameters for DBScan\n",
    "# TODO: Implement a grid search, apply the model to the test data, submit the results"
   ],
   "id": "8bfa9d1d9a8fa0f5"
  },
  {
   "metadata": {},
   "cell_type": "markdown",
   "source": "# Assign acctions to the labels based on majority voting (Train)",
   "id": "5ea0be642b479e08"
  },
  {
   "metadata": {
    "ExecuteTime": {
     "end_time": "2024-10-30T07:15:51.408489Z",
     "start_time": "2024-10-30T07:15:51.404812Z"
    }
   },
   "cell_type": "code",
   "source": [
    "import statistics\n",
    "def assign_actions(labels, Y):\n",
    "    unique_labels = np.unique(labels)\n",
    "    actions = [\"\"] * len(labels)\n",
    "    for label in unique_labels:\n",
    "        index_labels = np.where(labels == label)[0]\n",
    "        actions_string = [Y[i] for i in index_labels] \n",
    "        action_majority = statistics.mode(actions_string)\n",
    "        for index in index_labels:\n",
    "            actions[index] = action_majority\n",
    "    return actions\n",
    "        \n",
    "        "
   ],
   "id": "5f3cc23538136316",
   "outputs": [],
   "execution_count": 120
  },
  {
   "metadata": {
    "ExecuteTime": {
     "end_time": "2024-10-30T07:31:24.635216Z",
     "start_time": "2024-10-30T07:31:24.628632Z"
    }
   },
   "cell_type": "code",
   "source": "Y_pred_train_string = assign_actions(labels_dbscan_umap_train, Y_train_no_encode)",
   "id": "ffaca0e2731da06e",
   "outputs": [],
   "execution_count": 124
  },
  {
   "metadata": {
    "ExecuteTime": {
     "end_time": "2024-10-30T07:16:04.425353Z",
     "start_time": "2024-10-30T07:16:04.422141Z"
    }
   },
   "cell_type": "code",
   "source": "print(Y_pred_train_string[0:10])",
   "id": "3d43ee2959f3d14d",
   "outputs": [
    {
     "name": "stdout",
     "output_type": "stream",
     "text": [
      "['balloon blowing', 'balloon blowing', 'cooking chicken', 'cooking chicken', 'golf driving', 'cooking chicken', 'balloon blowing', 'shot put', 'flipping pancake', 'flipping pancake']\n"
     ]
    }
   ],
   "execution_count": 122
  },
  {
   "metadata": {
    "ExecuteTime": {
     "end_time": "2024-10-30T07:31:32.518290Z",
     "start_time": "2024-10-30T07:31:32.498724Z"
    }
   },
   "cell_type": "code",
   "source": [
    "from sklearn.metrics import accuracy_score\n",
    "accuracy_score(Y_train_no_encode, Y_pred_train_string)"
   ],
   "id": "7e47a58762b7f9ac",
   "outputs": [
    {
     "data": {
      "text/plain": [
       "0.7610809799887788"
      ]
     },
     "execution_count": 125,
     "metadata": {},
     "output_type": "execute_result"
    }
   ],
   "execution_count": 125
  },
  {
   "metadata": {},
   "cell_type": "markdown",
   "source": "# Load Data test",
   "id": "e7d086d9b10605a9"
  },
  {
   "metadata": {
    "ExecuteTime": {
     "end_time": "2024-10-30T04:45:23.641186Z",
     "start_time": "2024-10-30T04:45:23.631516Z"
    }
   },
   "cell_type": "code",
   "source": [
    "def load_features_test():\n",
    "    with open(r\"C:\\Code\\UTEC\\ML\\Project3\\Project\\data\\pickle\\features_test.pkl\", \"rb\") as archivo:\n",
    "        feature_vectors_test_f = pickle.load(archivo)\n",
    "        video_ids_test_f = pickle.load(archivo)\n",
    "    return feature_vectors_test_f, video_ids_test_f"
   ],
   "id": "f6530743194fda74",
   "outputs": [],
   "execution_count": 69
  },
  {
   "metadata": {
    "ExecuteTime": {
     "end_time": "2024-10-30T04:45:25.661131Z",
     "start_time": "2024-10-30T04:45:25.579371Z"
    }
   },
   "cell_type": "code",
   "source": "feature_vectors_test, video_ids_test = load_features_test()",
   "id": "cf6aabe45e3625cd",
   "outputs": [],
   "execution_count": 70
  },
  {
   "metadata": {
    "ExecuteTime": {
     "end_time": "2024-10-30T04:47:38.597734Z",
     "start_time": "2024-10-30T04:47:38.565750Z"
    }
   },
   "cell_type": "code",
   "source": [
    "X_test = []\n",
    "for feature_vector in feature_vectors_test:\n",
    "    try:\n",
    "        X_test.append(np.mean(feature_vector, axis=0))\n",
    "    except:\n",
    "        print(\"Error\")"
   ],
   "id": "9e56d19b5485c288",
   "outputs": [],
   "execution_count": 71
  },
  {
   "metadata": {
    "ExecuteTime": {
     "end_time": "2024-10-30T04:48:02.528066Z",
     "start_time": "2024-10-30T04:48:02.519238Z"
    }
   },
   "cell_type": "code",
   "source": [
    "for i in range(len(X_test)):\n",
    "    if np.isnan(X_test[i]).any():\n",
    "        X_test.pop(i)\n",
    "        video_ids_test.pop(i)"
   ],
   "id": "dd43d1da5a67d3ba",
   "outputs": [],
   "execution_count": 72
  },
  {
   "metadata": {
    "ExecuteTime": {
     "end_time": "2024-10-30T04:48:16.977906Z",
     "start_time": "2024-10-30T04:48:16.970893Z"
    }
   },
   "cell_type": "code",
   "source": [
    "X_test = np.array(X_test)\n",
    "print(X_test.shape)\n",
    "print(len(video_ids_test))"
   ],
   "id": "2354f07d1919d2d9",
   "outputs": [
    {
     "name": "stdout",
     "output_type": "stream",
     "text": [
      "(1626, 512)\n",
      "1626\n"
     ]
    }
   ],
   "execution_count": 73
  },
  {
   "metadata": {},
   "cell_type": "markdown",
   "source": "# Get labels test",
   "id": "41207837708072c8"
  },
  {
   "metadata": {},
   "cell_type": "code",
   "outputs": [],
   "execution_count": null,
   "source": "",
   "id": "6064e3d39f62ca45"
  }
 ],
 "metadata": {
  "kernelspec": {
   "display_name": "Python 3",
   "language": "python",
   "name": "python3"
  },
  "language_info": {
   "codemirror_mode": {
    "name": "ipython",
    "version": 2
   },
   "file_extension": ".py",
   "mimetype": "text/x-python",
   "name": "python",
   "nbconvert_exporter": "python",
   "pygments_lexer": "ipython2",
   "version": "2.7.6"
  }
 },
 "nbformat": 4,
 "nbformat_minor": 5
}
