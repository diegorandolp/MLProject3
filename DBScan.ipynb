{
 "cells": [
  {
   "metadata": {},
   "cell_type": "markdown",
   "source": "# Load data",
   "id": "fca21fe7f6b9f5d2"
  },
  {
   "metadata": {
    "ExecuteTime": {
     "end_time": "2024-10-29T14:46:46.314384Z",
     "start_time": "2024-10-29T14:46:42.184073Z"
    }
   },
   "cell_type": "code",
   "source": [
    "import numpy as np\n",
    "import pandas as pd\n",
    "import matplotlib.pyplot as plt\n",
    "import seaborn as sns\n",
    "import umap\n",
    "import pickle\n",
    "from sklearn.preprocessing import LabelEncoder\n",
    "from sklearn.metrics import make_scorer, silhouette_score, adjusted_rand_score\n",
    "from sklearn.metrics import mutual_info_score\n",
    "from sklearn.cluster import DBSCAN"
   ],
   "id": "890bfea64590aff7",
   "outputs": [],
   "execution_count": 1
  },
  {
   "metadata": {
    "ExecuteTime": {
     "end_time": "2024-10-29T14:46:48.559454Z",
     "start_time": "2024-10-29T14:46:48.555482Z"
    }
   },
   "cell_type": "code",
   "source": [
    "# Load the data\n",
    "def load_features_train():\n",
    "    with open(r\"C:\\Code\\UTEC\\ML\\Project3\\Project\\data\\pickle\\features.pkl\", \"rb\") as archivo:\n",
    "        feature_vectors_f = pickle.load(archivo)\n",
    "        video_ids_f = pickle.load(archivo)\n",
    "    return feature_vectors_f, video_ids_f"
   ],
   "id": "f2de82eeda40c214",
   "outputs": [],
   "execution_count": 2
  },
  {
   "metadata": {
    "ExecuteTime": {
     "end_time": "2024-10-29T14:46:52.073623Z",
     "start_time": "2024-10-29T14:46:51.276712Z"
    }
   },
   "cell_type": "code",
   "source": "feature_vectors, video_ids = load_features_train()",
   "id": "373c5042111b758e",
   "outputs": [],
   "execution_count": 3
  },
  {
   "metadata": {
    "ExecuteTime": {
     "end_time": "2024-10-29T14:46:57.081718Z",
     "start_time": "2024-10-29T14:46:56.959880Z"
    }
   },
   "cell_type": "code",
   "source": [
    "# Simplify the data using the mean\n",
    "X = []\n",
    "for feature_vector in feature_vectors:\n",
    "    try:\n",
    "        X.append(np.mean(feature_vector, axis=0))\n",
    "    except:\n",
    "        print(\"Error\")"
   ],
   "id": "a58266e67996c554",
   "outputs": [],
   "execution_count": 5
  },
  {
   "metadata": {
    "ExecuteTime": {
     "end_time": "2024-10-29T14:47:20.336145Z",
     "start_time": "2024-10-29T14:47:20.312111Z"
    }
   },
   "cell_type": "code",
   "source": [
    "# Remove nan values\n",
    "for i in range(len(X)):\n",
    "    if np.isnan(X[i]).any():\n",
    "        X.pop(i)\n",
    "        video_ids.pop(i)"
   ],
   "id": "b9aa2500af73ac46",
   "outputs": [],
   "execution_count": 7
  },
  {
   "metadata": {
    "ExecuteTime": {
     "end_time": "2024-10-29T14:47:37.735478Z",
     "start_time": "2024-10-29T14:47:37.684295Z"
    }
   },
   "cell_type": "code",
   "source": [
    "X = np.array(X)\n",
    "print(X.shape)\n",
    "print(len(video_ids))"
   ],
   "id": "c5841f6318c869e7",
   "outputs": [
    {
     "name": "stdout",
     "output_type": "stream",
     "text": [
      "(10694, 512)\n",
      "10694\n"
     ]
    }
   ],
   "execution_count": 8
  },
  {
   "metadata": {},
   "cell_type": "markdown",
   "source": "# Get labels",
   "id": "d517943a32aa73dd"
  },
  {
   "metadata": {
    "ExecuteTime": {
     "end_time": "2024-10-29T14:57:46.427349Z",
     "start_time": "2024-10-29T14:57:46.408898Z"
    }
   },
   "cell_type": "code",
   "source": [
    "# get labels from train_subset.csv which contains the id and label of the videos\n",
    "train_subset_labels = pd.read_csv(r\"C:\\Code\\UTEC\\ML\\Project3\\Project\\data\\csv\\train_subset.csv\")\n",
    "# select the labels that are in video_ids\n",
    "train_subset_labels = train_subset_labels[train_subset_labels[\"youtube_id\"].isin(video_ids)]\n",
    "\n",
    "train_subset_labels"
   ],
   "id": "c0e1db912cf4e5bb",
   "outputs": [
    {
     "data": {
      "text/plain": [
       "        youtube_id               label\n",
       "0      GcTww0NOCk0           hopscotch\n",
       "1      zeIkGEHK46I        riding camel\n",
       "2      -Fwy8NwefTk            shot put\n",
       "3      YYgESo5eQD8               situp\n",
       "4      38Ml6v4vPzY    playing clarinet\n",
       "...            ...                 ...\n",
       "10712  M0O8lByHQ-k           hopscotch\n",
       "10713  XhZTEPRW5lk            shot put\n",
       "10714  egfzXatr0jc    playing clarinet\n",
       "10715  mQ0-F4Y24xo  playing ice hockey\n",
       "10716  CybHailRBYU               situp\n",
       "\n",
       "[10694 rows x 2 columns]"
      ],
      "text/html": [
       "<div>\n",
       "<style scoped>\n",
       "    .dataframe tbody tr th:only-of-type {\n",
       "        vertical-align: middle;\n",
       "    }\n",
       "\n",
       "    .dataframe tbody tr th {\n",
       "        vertical-align: top;\n",
       "    }\n",
       "\n",
       "    .dataframe thead th {\n",
       "        text-align: right;\n",
       "    }\n",
       "</style>\n",
       "<table border=\"1\" class=\"dataframe\">\n",
       "  <thead>\n",
       "    <tr style=\"text-align: right;\">\n",
       "      <th></th>\n",
       "      <th>youtube_id</th>\n",
       "      <th>label</th>\n",
       "    </tr>\n",
       "  </thead>\n",
       "  <tbody>\n",
       "    <tr>\n",
       "      <th>0</th>\n",
       "      <td>GcTww0NOCk0</td>\n",
       "      <td>hopscotch</td>\n",
       "    </tr>\n",
       "    <tr>\n",
       "      <th>1</th>\n",
       "      <td>zeIkGEHK46I</td>\n",
       "      <td>riding camel</td>\n",
       "    </tr>\n",
       "    <tr>\n",
       "      <th>2</th>\n",
       "      <td>-Fwy8NwefTk</td>\n",
       "      <td>shot put</td>\n",
       "    </tr>\n",
       "    <tr>\n",
       "      <th>3</th>\n",
       "      <td>YYgESo5eQD8</td>\n",
       "      <td>situp</td>\n",
       "    </tr>\n",
       "    <tr>\n",
       "      <th>4</th>\n",
       "      <td>38Ml6v4vPzY</td>\n",
       "      <td>playing clarinet</td>\n",
       "    </tr>\n",
       "    <tr>\n",
       "      <th>...</th>\n",
       "      <td>...</td>\n",
       "      <td>...</td>\n",
       "    </tr>\n",
       "    <tr>\n",
       "      <th>10712</th>\n",
       "      <td>M0O8lByHQ-k</td>\n",
       "      <td>hopscotch</td>\n",
       "    </tr>\n",
       "    <tr>\n",
       "      <th>10713</th>\n",
       "      <td>XhZTEPRW5lk</td>\n",
       "      <td>shot put</td>\n",
       "    </tr>\n",
       "    <tr>\n",
       "      <th>10714</th>\n",
       "      <td>egfzXatr0jc</td>\n",
       "      <td>playing clarinet</td>\n",
       "    </tr>\n",
       "    <tr>\n",
       "      <th>10715</th>\n",
       "      <td>mQ0-F4Y24xo</td>\n",
       "      <td>playing ice hockey</td>\n",
       "    </tr>\n",
       "    <tr>\n",
       "      <th>10716</th>\n",
       "      <td>CybHailRBYU</td>\n",
       "      <td>situp</td>\n",
       "    </tr>\n",
       "  </tbody>\n",
       "</table>\n",
       "<p>10694 rows × 2 columns</p>\n",
       "</div>"
      ]
     },
     "execution_count": 19,
     "metadata": {},
     "output_type": "execute_result"
    }
   ],
   "execution_count": 19
  },
  {
   "metadata": {
    "ExecuteTime": {
     "end_time": "2024-10-29T15:09:59.222109Z",
     "start_time": "2024-10-29T15:09:52.824197Z"
    }
   },
   "cell_type": "code",
   "source": [
    "Y_train = []\n",
    "# sort the labels to have the same order as in the feature vectors and video_ids\n",
    "for video_id in video_ids:\n",
    "    sort_label = train_subset_labels[train_subset_labels[\"youtube_id\"] == video_id][\"label\"].values[0]\n",
    "    Y_train.append(sort_label)\n",
    "    "
   ],
   "id": "84b563e8e48ff3f5",
   "outputs": [],
   "execution_count": 25
  },
  {
   "metadata": {
    "ExecuteTime": {
     "end_time": "2024-10-29T15:11:31.845823Z",
     "start_time": "2024-10-29T15:11:31.838320Z"
    }
   },
   "cell_type": "code",
   "source": [
    "# encode the lables to numbers\n",
    "labelEncoder = LabelEncoder()\n",
    "Y_train = labelEncoder.fit_transform(Y_train)"
   ],
   "id": "b625e09f2f1b2ff9",
   "outputs": [],
   "execution_count": 30
  },
  {
   "metadata": {
    "ExecuteTime": {
     "end_time": "2024-10-29T15:11:34.409452Z",
     "start_time": "2024-10-29T15:11:34.406301Z"
    }
   },
   "cell_type": "code",
   "source": "print(Y_train.shape)",
   "id": "a5c5339d5d1b4161",
   "outputs": [
    {
     "name": "stdout",
     "output_type": "stream",
     "text": [
      "(10694,)\n"
     ]
    }
   ],
   "execution_count": 31
  },
  {
   "metadata": {},
   "cell_type": "code",
   "outputs": [],
   "execution_count": null,
   "source": "",
   "id": "fd09e79114fd2e88"
  },
  {
   "metadata": {},
   "cell_type": "markdown",
   "source": "# UMAP",
   "id": "634084aa0607c271"
  },
  {
   "cell_type": "code",
   "id": "initial_id",
   "metadata": {
    "collapsed": true,
    "ExecuteTime": {
     "end_time": "2024-10-29T15:11:42.118250Z",
     "start_time": "2024-10-29T15:11:37.387826Z"
    }
   },
   "source": [
    "umap_red = umap.UMAP(n_components=30)\n",
    "X_umap = umap_red.fit_transform(X)"
   ],
   "outputs": [],
   "execution_count": 32
  },
  {
   "metadata": {
    "ExecuteTime": {
     "end_time": "2024-10-29T15:11:44.089401Z",
     "start_time": "2024-10-29T15:11:44.085262Z"
    }
   },
   "cell_type": "code",
   "source": "print(X_umap.shape)",
   "id": "110c53fa223306a9",
   "outputs": [
    {
     "name": "stdout",
     "output_type": "stream",
     "text": [
      "(10694, 30)\n"
     ]
    }
   ],
   "execution_count": 33
  },
  {
   "metadata": {},
   "cell_type": "markdown",
   "source": "# DBScan",
   "id": "520ff834923a43aa"
  },
  {
   "metadata": {
    "ExecuteTime": {
     "end_time": "2024-10-29T15:11:49.062356Z",
     "start_time": "2024-10-29T15:11:49.054324Z"
    }
   },
   "cell_type": "code",
   "source": [
    "from sklearn.preprocessing import StandardScaler\n",
    "\n",
    "X_umap = StandardScaler().fit_transform(X_umap)\n"
   ],
   "id": "88688dd4adb100e4",
   "outputs": [],
   "execution_count": 34
  },
  {
   "metadata": {
    "ExecuteTime": {
     "end_time": "2024-10-29T15:11:50.863504Z",
     "start_time": "2024-10-29T15:11:50.732099Z"
    }
   },
   "cell_type": "code",
   "source": [
    "dbscan = DBSCAN(eps=1.5, min_samples=4).fit(X_umap)\n",
    "labels_dbscan_umap_train = dbscan.labels_"
   ],
   "id": "e58c73884579cc9",
   "outputs": [],
   "execution_count": 35
  },
  {
   "metadata": {
    "ExecuteTime": {
     "end_time": "2024-10-29T15:11:53.720263Z",
     "start_time": "2024-10-29T15:11:52.540364Z"
    }
   },
   "cell_type": "code",
   "source": [
    "silhouette_scr = silhouette_score(X_umap, labels_dbscan_umap_train)\n",
    "adjusted_rand_scr = adjusted_rand_score(Y_train, labels_dbscan_umap_train)\n",
    "mutual_info_scr = mutual_info_score(Y_train, labels_dbscan_umap_train)\n",
    "print(silhouette_scr, adjusted_rand_scr, mutual_info_scr)"
   ],
   "id": "7d52824a66e3d06",
   "outputs": [
    {
     "name": "stdout",
     "output_type": "stream",
     "text": [
      "0.48215133 0.7471182007735846 2.531974034583729\n"
     ]
    }
   ],
   "execution_count": 36
  },
  {
   "metadata": {},
   "cell_type": "code",
   "outputs": [],
   "execution_count": null,
   "source": "",
   "id": "c19fd126079a763b"
  },
  {
   "metadata": {
    "ExecuteTime": {
     "end_time": "2024-10-29T15:14:40.493043Z",
     "start_time": "2024-10-29T15:14:40.485350Z"
    }
   },
   "cell_type": "code",
   "source": [
    "prueba = {\n",
    "    'ids_train': video_ids[0:10],\n",
    "    'Y_train': Y_train[0:10],\n",
    "    'Y_pred' : labels_dbscan_umap_train[0:10]\n",
    "}\n",
    "df_prueba = pd.DataFrame(prueba)\n",
    "df_prueba"
   ],
   "id": "6bc1ad23b46349b0",
   "outputs": [
    {
     "data": {
      "text/plain": [
       "     ids_train  Y_train  Y_pred\n",
       "0  --gx7yb1-x0        1       0\n",
       "1  --Ntf6n-j9Q        1       0\n",
       "2  -07Ke73N4zI        2       1\n",
       "3  -1MXpPymXFU        0       1\n",
       "4  -2KvnLMnrA0        6       2\n",
       "5  -36efvC2K54        0       1\n",
       "6  -3tVVBhz8-o        1       0\n",
       "7  -5oULXqj45c       13       3\n",
       "8  -5s-IR39XaY        5       4\n",
       "9  -5Vx7UtZpzk        5       4"
      ],
      "text/html": [
       "<div>\n",
       "<style scoped>\n",
       "    .dataframe tbody tr th:only-of-type {\n",
       "        vertical-align: middle;\n",
       "    }\n",
       "\n",
       "    .dataframe tbody tr th {\n",
       "        vertical-align: top;\n",
       "    }\n",
       "\n",
       "    .dataframe thead th {\n",
       "        text-align: right;\n",
       "    }\n",
       "</style>\n",
       "<table border=\"1\" class=\"dataframe\">\n",
       "  <thead>\n",
       "    <tr style=\"text-align: right;\">\n",
       "      <th></th>\n",
       "      <th>ids_train</th>\n",
       "      <th>Y_train</th>\n",
       "      <th>Y_pred</th>\n",
       "    </tr>\n",
       "  </thead>\n",
       "  <tbody>\n",
       "    <tr>\n",
       "      <th>0</th>\n",
       "      <td>--gx7yb1-x0</td>\n",
       "      <td>1</td>\n",
       "      <td>0</td>\n",
       "    </tr>\n",
       "    <tr>\n",
       "      <th>1</th>\n",
       "      <td>--Ntf6n-j9Q</td>\n",
       "      <td>1</td>\n",
       "      <td>0</td>\n",
       "    </tr>\n",
       "    <tr>\n",
       "      <th>2</th>\n",
       "      <td>-07Ke73N4zI</td>\n",
       "      <td>2</td>\n",
       "      <td>1</td>\n",
       "    </tr>\n",
       "    <tr>\n",
       "      <th>3</th>\n",
       "      <td>-1MXpPymXFU</td>\n",
       "      <td>0</td>\n",
       "      <td>1</td>\n",
       "    </tr>\n",
       "    <tr>\n",
       "      <th>4</th>\n",
       "      <td>-2KvnLMnrA0</td>\n",
       "      <td>6</td>\n",
       "      <td>2</td>\n",
       "    </tr>\n",
       "    <tr>\n",
       "      <th>5</th>\n",
       "      <td>-36efvC2K54</td>\n",
       "      <td>0</td>\n",
       "      <td>1</td>\n",
       "    </tr>\n",
       "    <tr>\n",
       "      <th>6</th>\n",
       "      <td>-3tVVBhz8-o</td>\n",
       "      <td>1</td>\n",
       "      <td>0</td>\n",
       "    </tr>\n",
       "    <tr>\n",
       "      <th>7</th>\n",
       "      <td>-5oULXqj45c</td>\n",
       "      <td>13</td>\n",
       "      <td>3</td>\n",
       "    </tr>\n",
       "    <tr>\n",
       "      <th>8</th>\n",
       "      <td>-5s-IR39XaY</td>\n",
       "      <td>5</td>\n",
       "      <td>4</td>\n",
       "    </tr>\n",
       "    <tr>\n",
       "      <th>9</th>\n",
       "      <td>-5Vx7UtZpzk</td>\n",
       "      <td>5</td>\n",
       "      <td>4</td>\n",
       "    </tr>\n",
       "  </tbody>\n",
       "</table>\n",
       "</div>"
      ]
     },
     "execution_count": 37,
     "metadata": {},
     "output_type": "execute_result"
    }
   ],
   "execution_count": 37
  }
 ],
 "metadata": {
  "kernelspec": {
   "display_name": "Python 3",
   "language": "python",
   "name": "python3"
  },
  "language_info": {
   "codemirror_mode": {
    "name": "ipython",
    "version": 2
   },
   "file_extension": ".py",
   "mimetype": "text/x-python",
   "name": "python",
   "nbconvert_exporter": "python",
   "pygments_lexer": "ipython2",
   "version": "2.7.6"
  }
 },
 "nbformat": 4,
 "nbformat_minor": 5
}
