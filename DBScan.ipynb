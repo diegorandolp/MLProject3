{
 "cells": [
  {
   "metadata": {},
   "cell_type": "markdown",
   "source": "# Load data",
   "id": "fca21fe7f6b9f5d2"
  },
  {
   "metadata": {
    "ExecuteTime": {
     "end_time": "2024-10-30T22:52:29.888049Z",
     "start_time": "2024-10-30T22:52:29.884021Z"
    }
   },
   "cell_type": "code",
   "source": [
    "from itertools import count\n",
    "\n",
    "import numpy as np\n",
    "import pandas as pd\n",
    "import matplotlib.pyplot as plt\n",
    "import seaborn as sns\n",
    "import umap\n",
    "import pickle\n",
    "\n",
    "from fontTools.misc.psOperators import ps_integer\n",
    "from networkx.classes import neighbors\n",
    "from sklearn.preprocessing import LabelEncoder\n",
    "from sklearn.metrics import make_scorer, silhouette_score, adjusted_rand_score, rand_score, adjusted_mutual_info_score\n",
    "from sklearn.metrics import mutual_info_score\n",
    "from sklearn.cluster import DBSCAN"
   ],
   "id": "890bfea64590aff7",
   "outputs": [],
   "execution_count": 175
  },
  {
   "metadata": {
    "ExecuteTime": {
     "end_time": "2024-10-31T03:11:24.847326Z",
     "start_time": "2024-10-31T03:11:24.842313Z"
    }
   },
   "cell_type": "code",
   "source": [
    "# Load the data\n",
    "def load_features_train():\n",
    "    with open(r\"C:\\Code\\UTEC\\ML\\Project3\\Project\\data\\pickle\\features.pkl\", \"rb\") as archivo:\n",
    "        feature_vectors_f = pickle.load(archivo)\n",
    "        video_ids_f = pickle.load(archivo)\n",
    "    return feature_vectors_f, video_ids_f"
   ],
   "id": "f2de82eeda40c214",
   "outputs": [],
   "execution_count": 275
  },
  {
   "metadata": {
    "ExecuteTime": {
     "end_time": "2024-10-31T03:11:28.875303Z",
     "start_time": "2024-10-31T03:11:26.191687Z"
    }
   },
   "cell_type": "code",
   "source": "feature_vectors, video_ids = load_features_train()",
   "id": "373c5042111b758e",
   "outputs": [],
   "execution_count": 276
  },
  {
   "metadata": {
    "ExecuteTime": {
     "end_time": "2024-10-30T21:18:14.591895Z",
     "start_time": "2024-10-30T21:18:13.453205Z"
    }
   },
   "cell_type": "code",
   "source": [
    "# # NO FUNCIONO: Modifier to have only the ids that are in the train_subset_10.csv\n",
    "# train_subset_10 = pd.read_csv(r\"C:\\Code\\UTEC\\ML\\Project3\\Project\\data\\csv\\train_subset_10.csv\")\n",
    "# ids_train_subset_10 = train_subset_10[\"youtube_id\"].values\n",
    "# # select the ids and labels that are in ids_train_subset_10\n",
    "# mod_feature_vectors = []\n",
    "# mod_video_ids = []\n",
    "# for i in range(len(video_ids)):\n",
    "#     if video_ids[i] in ids_train_subset_10:\n",
    "#         mod_feature_vectors.append(feature_vectors[i])\n",
    "#         mod_video_ids.append(video_ids[i])\n",
    "# feature_vectors = mod_feature_vectors\n",
    "# video_ids = mod_video_ids"
   ],
   "id": "a4d5804506cdd2",
   "outputs": [],
   "execution_count": 54
  },
  {
   "metadata": {
    "ExecuteTime": {
     "end_time": "2024-10-31T03:11:28.887355Z",
     "start_time": "2024-10-31T03:11:28.883337Z"
    }
   },
   "cell_type": "code",
   "source": [
    "print(len(feature_vectors))\n",
    "print(len(video_ids))"
   ],
   "id": "8f7ba341128f017a",
   "outputs": [
    {
     "name": "stdout",
     "output_type": "stream",
     "text": [
      "10695\n",
      "10695\n"
     ]
    }
   ],
   "execution_count": 277
  },
  {
   "metadata": {},
   "cell_type": "markdown",
   "source": "----------------------------------------------------------------",
   "id": "145eb30aa87b2f3"
  },
  {
   "metadata": {
    "ExecuteTime": {
     "end_time": "2024-10-31T03:11:30.278561Z",
     "start_time": "2024-10-31T03:11:30.064566Z"
    }
   },
   "cell_type": "code",
   "source": [
    "# Simplify the data using the mean\n",
    "X = []\n",
    "for feature_vector in feature_vectors:\n",
    "    try:\n",
    "        X.append(np.mean(feature_vector, axis=0))\n",
    "    except:\n",
    "        print(\"Error\")"
   ],
   "id": "a58266e67996c554",
   "outputs": [
    {
     "name": "stderr",
     "output_type": "stream",
     "text": [
      "C:\\Users\\Usuario\\miniconda3\\Lib\\site-packages\\numpy\\core\\fromnumeric.py:3504: RuntimeWarning: Mean of empty slice.\n",
      "  return _methods._mean(a, axis=axis, dtype=dtype,\n",
      "C:\\Users\\Usuario\\miniconda3\\Lib\\site-packages\\numpy\\core\\_methods.py:129: RuntimeWarning: invalid value encountered in scalar divide\n",
      "  ret = ret.dtype.type(ret / rcount)\n"
     ]
    }
   ],
   "execution_count": 278
  },
  {
   "metadata": {
    "ExecuteTime": {
     "end_time": "2024-10-31T03:11:33.106227Z",
     "start_time": "2024-10-31T03:11:33.082727Z"
    }
   },
   "cell_type": "code",
   "source": [
    "# Remove nan values\n",
    "for i in range(len(X)):\n",
    "    if np.isnan(X[i]).any():\n",
    "        X.pop(i)\n",
    "        video_ids.pop(i)"
   ],
   "id": "b9aa2500af73ac46",
   "outputs": [],
   "execution_count": 280
  },
  {
   "metadata": {
    "ExecuteTime": {
     "end_time": "2024-10-31T03:11:34.042112Z",
     "start_time": "2024-10-31T03:11:34.023561Z"
    }
   },
   "cell_type": "code",
   "source": [
    "X = np.array(X)\n",
    "print(X.shape)\n",
    "print(len(video_ids))"
   ],
   "id": "c5841f6318c869e7",
   "outputs": [
    {
     "name": "stdout",
     "output_type": "stream",
     "text": [
      "(10694, 512)\n",
      "10694\n"
     ]
    }
   ],
   "execution_count": 281
  },
  {
   "metadata": {},
   "cell_type": "markdown",
   "source": "-------------------------",
   "id": "5394003ed3c54622"
  },
  {
   "metadata": {},
   "cell_type": "markdown",
   "source": "# Get labels",
   "id": "d517943a32aa73dd"
  },
  {
   "metadata": {
    "ExecuteTime": {
     "end_time": "2024-10-31T03:11:36.758270Z",
     "start_time": "2024-10-31T03:11:36.727010Z"
    }
   },
   "cell_type": "code",
   "source": [
    "# get labels from train_subset.csv which contains the id and label of the videos\n",
    "train_subset_labels = pd.read_csv(r\"C:\\Code\\UTEC\\ML\\Project3\\Project\\data\\csv\\train_subset.csv\")\n",
    "# select the labels that are in video_ids\n",
    "train_subset_labels = train_subset_labels[train_subset_labels[\"youtube_id\"].isin(video_ids)]\n",
    "\n",
    "train_subset_labels"
   ],
   "id": "c0e1db912cf4e5bb",
   "outputs": [
    {
     "data": {
      "text/plain": [
       "        youtube_id               label\n",
       "0      GcTww0NOCk0           hopscotch\n",
       "1      zeIkGEHK46I        riding camel\n",
       "2      -Fwy8NwefTk            shot put\n",
       "3      YYgESo5eQD8               situp\n",
       "4      38Ml6v4vPzY    playing clarinet\n",
       "...            ...                 ...\n",
       "10712  M0O8lByHQ-k           hopscotch\n",
       "10713  XhZTEPRW5lk            shot put\n",
       "10714  egfzXatr0jc    playing clarinet\n",
       "10715  mQ0-F4Y24xo  playing ice hockey\n",
       "10716  CybHailRBYU               situp\n",
       "\n",
       "[10694 rows x 2 columns]"
      ],
      "text/html": [
       "<div>\n",
       "<style scoped>\n",
       "    .dataframe tbody tr th:only-of-type {\n",
       "        vertical-align: middle;\n",
       "    }\n",
       "\n",
       "    .dataframe tbody tr th {\n",
       "        vertical-align: top;\n",
       "    }\n",
       "\n",
       "    .dataframe thead th {\n",
       "        text-align: right;\n",
       "    }\n",
       "</style>\n",
       "<table border=\"1\" class=\"dataframe\">\n",
       "  <thead>\n",
       "    <tr style=\"text-align: right;\">\n",
       "      <th></th>\n",
       "      <th>youtube_id</th>\n",
       "      <th>label</th>\n",
       "    </tr>\n",
       "  </thead>\n",
       "  <tbody>\n",
       "    <tr>\n",
       "      <th>0</th>\n",
       "      <td>GcTww0NOCk0</td>\n",
       "      <td>hopscotch</td>\n",
       "    </tr>\n",
       "    <tr>\n",
       "      <th>1</th>\n",
       "      <td>zeIkGEHK46I</td>\n",
       "      <td>riding camel</td>\n",
       "    </tr>\n",
       "    <tr>\n",
       "      <th>2</th>\n",
       "      <td>-Fwy8NwefTk</td>\n",
       "      <td>shot put</td>\n",
       "    </tr>\n",
       "    <tr>\n",
       "      <th>3</th>\n",
       "      <td>YYgESo5eQD8</td>\n",
       "      <td>situp</td>\n",
       "    </tr>\n",
       "    <tr>\n",
       "      <th>4</th>\n",
       "      <td>38Ml6v4vPzY</td>\n",
       "      <td>playing clarinet</td>\n",
       "    </tr>\n",
       "    <tr>\n",
       "      <th>...</th>\n",
       "      <td>...</td>\n",
       "      <td>...</td>\n",
       "    </tr>\n",
       "    <tr>\n",
       "      <th>10712</th>\n",
       "      <td>M0O8lByHQ-k</td>\n",
       "      <td>hopscotch</td>\n",
       "    </tr>\n",
       "    <tr>\n",
       "      <th>10713</th>\n",
       "      <td>XhZTEPRW5lk</td>\n",
       "      <td>shot put</td>\n",
       "    </tr>\n",
       "    <tr>\n",
       "      <th>10714</th>\n",
       "      <td>egfzXatr0jc</td>\n",
       "      <td>playing clarinet</td>\n",
       "    </tr>\n",
       "    <tr>\n",
       "      <th>10715</th>\n",
       "      <td>mQ0-F4Y24xo</td>\n",
       "      <td>playing ice hockey</td>\n",
       "    </tr>\n",
       "    <tr>\n",
       "      <th>10716</th>\n",
       "      <td>CybHailRBYU</td>\n",
       "      <td>situp</td>\n",
       "    </tr>\n",
       "  </tbody>\n",
       "</table>\n",
       "<p>10694 rows × 2 columns</p>\n",
       "</div>"
      ]
     },
     "execution_count": 282,
     "metadata": {},
     "output_type": "execute_result"
    }
   ],
   "execution_count": 282
  },
  {
   "metadata": {
    "ExecuteTime": {
     "end_time": "2024-10-31T03:11:39.805165Z",
     "start_time": "2024-10-31T03:11:39.623790Z"
    }
   },
   "cell_type": "code",
   "source": [
    "# Exploratory analysys of train_subset_labels\n",
    "# Graph frequency of the labels in train_subset_labels\n",
    "plt.figure(figsize=(10, 6))\n",
    "sns.countplot(x=\"label\", data=train_subset_labels)\n",
    "plt.xticks(rotation=90)\n",
    "plt.ylabel(\"Frequency\")\n",
    "plt.title(\"Frequency of the labels in train dataset\")\n",
    "plt.show()\n"
   ],
   "id": "8c2377c383d2bbb8",
   "outputs": [
    {
     "data": {
      "text/plain": [
       "<Figure size 1000x600 with 1 Axes>"
      ],
      "image/png": "[encoded data removed]"
     },
     "metadata": {},
     "output_type": "display_data"
    }
   ],
   "execution_count": 283
  },
  {
   "metadata": {
    "ExecuteTime": {
     "end_time": "2024-10-31T03:11:49.037733Z",
     "start_time": "2024-10-31T03:11:42.374892Z"
    }
   },
   "cell_type": "code",
   "source": [
    "Y_train_no_encode = []\n",
    "# sort the labels to have the same order as in the feature vectors and video_ids\n",
    "for video_id in video_ids:\n",
    "    sort_label = train_subset_labels[train_subset_labels[\"youtube_id\"] == video_id][\"label\"].values[0]\n",
    "    Y_train_no_encode.append(sort_label)\n",
    "labels_map=sort_label"
   ],
   "id": "84b563e8e48ff3f5",
   "outputs": [],
   "execution_count": 284
  },
  {
   "metadata": {
    "ExecuteTime": {
     "end_time": "2024-10-31T03:11:49.055199Z",
     "start_time": "2024-10-31T03:11:49.042501Z"
    }
   },
   "cell_type": "code",
   "source": [
    "# encode the lables to numbers\n",
    "labelEncoder = LabelEncoder()\n",
    "Y_train = labelEncoder.fit_transform(Y_train_no_encode)"
   ],
   "id": "b625e09f2f1b2ff9",
   "outputs": [],
   "execution_count": 285
  },
  {
   "metadata": {
    "ExecuteTime": {
     "end_time": "2024-10-31T03:11:49.086022Z",
     "start_time": "2024-10-31T03:11:49.083045Z"
    }
   },
   "cell_type": "code",
   "source": "print(Y_train.shape)",
   "id": "a5c5339d5d1b4161",
   "outputs": [
    {
     "name": "stdout",
     "output_type": "stream",
     "text": [
      "(10694,)\n"
     ]
    }
   ],
   "execution_count": 286
  },
  {
   "metadata": {
    "ExecuteTime": {
     "end_time": "2024-10-31T03:11:49.173280Z",
     "start_time": "2024-10-31T03:11:49.169836Z"
    }
   },
   "cell_type": "code",
   "source": "print(Y_train_no_encode[0:5])",
   "id": "e3e5d55d74954d80",
   "outputs": [
    {
     "name": "stdout",
     "output_type": "stream",
     "text": [
      "['balloon blowing', 'balloon blowing', 'cooking chicken', 'baking cookies', 'golf driving']\n"
     ]
    }
   ],
   "execution_count": 287
  },
  {
   "metadata": {
    "ExecuteTime": {
     "end_time": "2024-10-31T03:11:50.852185Z",
     "start_time": "2024-10-31T03:11:50.847993Z"
    }
   },
   "cell_type": "code",
   "source": "print(np.unique(Y_train))",
   "id": "4efedb12be5d607d",
   "outputs": [
    {
     "name": "stdout",
     "output_type": "stream",
     "text": [
      "[ 0  1  2  3  4  5  6  7  8  9 10 11 12 13 14 15 16 17 18 19]\n"
     ]
    }
   ],
   "execution_count": 288
  },
  {
   "metadata": {},
   "cell_type": "markdown",
   "source": "# UMAP",
   "id": "634084aa0607c271"
  },
  {
   "cell_type": "code",
   "id": "initial_id",
   "metadata": {
    "collapsed": true,
    "ExecuteTime": {
     "end_time": "2024-10-31T03:12:06.414362Z",
     "start_time": "2024-10-31T03:12:00.615417Z"
    }
   },
   "source": [
    "umap_red = umap.UMAP(n_components=15)\n",
    "X_umap = umap_red.fit_transform(X)"
   ],
   "outputs": [],
   "execution_count": 289
  },
  {
   "metadata": {
    "ExecuteTime": {
     "end_time": "2024-10-31T03:12:06.431063Z",
     "start_time": "2024-10-31T03:12:06.426896Z"
    }
   },
   "cell_type": "code",
   "source": "print(X_umap.shape)",
   "id": "110c53fa223306a9",
   "outputs": [
    {
     "name": "stdout",
     "output_type": "stream",
     "text": [
      "(10694, 15)\n"
     ]
    }
   ],
   "execution_count": 290
  },
  {
   "metadata": {
    "ExecuteTime": {
     "end_time": "2024-10-29T15:26:12.112778Z",
     "start_time": "2024-10-29T15:26:12.105825Z"
    }
   },
   "cell_type": "code",
   "source": [
    "# save the umap model\n",
    "# with open(r\"C:\\Code\\UTEC\\ML\\Project3\\Project\\data\\pickle\\x_umap.pkl\", \"wb\") as archivo:\n",
    "#         pickle.dump(X_umap, archivo)"
   ],
   "id": "82f05831bff5b224",
   "outputs": [],
   "execution_count": 40
  },
  {
   "metadata": {
    "ExecuteTime": {
     "end_time": "2024-10-29T15:28:08.944753Z",
     "start_time": "2024-10-29T15:28:08.939701Z"
    }
   },
   "cell_type": "code",
   "source": [
    "# load the umap model\n",
    "# with open(r\"C:\\Code\\UTEC\\ML\\Project3\\Project\\data\\pickle\\x_umap.pkl\", \"rb\") as archivo:\n",
    "#         X_umap_temp = pickle.load(archivo)\n",
    "# print(X_umap_temp.shape)"
   ],
   "id": "c9718df7cf98dcce",
   "outputs": [
    {
     "name": "stdout",
     "output_type": "stream",
     "text": [
      "(10694, 30)\n"
     ]
    }
   ],
   "execution_count": 41
  },
  {
   "metadata": {},
   "cell_type": "markdown",
   "source": "# PCA",
   "id": "b876a56f85e87f95"
  },
  {
   "metadata": {
    "ExecuteTime": {
     "end_time": "2024-10-31T03:12:10.815497Z",
     "start_time": "2024-10-31T03:12:06.456901Z"
    }
   },
   "cell_type": "code",
   "source": [
    "from sklearn.decomposition import PCA\n",
    "pca_red = PCA(n_components=31)\n",
    "X_pca = umap_red.fit_transform(X)"
   ],
   "id": "e5bfc70a6adeb14c",
   "outputs": [],
   "execution_count": 291
  },
  {
   "metadata": {},
   "cell_type": "markdown",
   "source": "# DBScan",
   "id": "520ff834923a43aa"
  },
  {
   "metadata": {
    "ExecuteTime": {
     "end_time": "2024-10-30T22:57:56.944357Z",
     "start_time": "2024-10-30T22:57:56.938246Z"
    }
   },
   "cell_type": "code",
   "source": [
    "from sklearn.preprocessing import StandardScaler\n",
    "\n",
    "X_umap = StandardScaler().fit_transform(X_umap)\n"
   ],
   "id": "88688dd4adb100e4",
   "outputs": [],
   "execution_count": 211
  },
  {
   "metadata": {
    "ExecuteTime": {
     "end_time": "2024-10-30T22:57:58.452596Z",
     "start_time": "2024-10-30T22:57:58.004239Z"
    }
   },
   "cell_type": "code",
   "source": [
    "dbscan = DBSCAN(eps=1.5, min_samples=4).fit(X_umap)\n",
    "labels_dbscan_umap_train = dbscan.labels_"
   ],
   "id": "e58c73884579cc9",
   "outputs": [],
   "execution_count": 212
  },
  {
   "metadata": {
    "ExecuteTime": {
     "end_time": "2024-10-30T22:57:59.197673Z",
     "start_time": "2024-10-30T22:57:59.193657Z"
    }
   },
   "cell_type": "code",
   "source": "print(len(labels_dbscan_umap_train), len(X_umap))",
   "id": "eb14ab63c26af41e",
   "outputs": [
    {
     "name": "stdout",
     "output_type": "stream",
     "text": [
      "10694 10694\n"
     ]
    }
   ],
   "execution_count": 213
  },
  {
   "metadata": {
    "ExecuteTime": {
     "end_time": "2024-10-30T22:58:03.123830Z",
     "start_time": "2024-10-30T22:58:03.119652Z"
    }
   },
   "cell_type": "code",
   "source": "print(np.unique(labels_dbscan_umap_train))",
   "id": "3b37ab3145d355b0",
   "outputs": [
    {
     "name": "stdout",
     "output_type": "stream",
     "text": [
      "[ 0  1  2  3  4  5  6  7  8  9 10]\n"
     ]
    }
   ],
   "execution_count": 214
  },
  {
   "metadata": {
    "ExecuteTime": {
     "end_time": "2024-10-30T22:58:05.627825Z",
     "start_time": "2024-10-30T22:58:04.326399Z"
    }
   },
   "cell_type": "code",
   "source": [
    "silhouette_scr = silhouette_score(X_umap, labels_dbscan_umap_train)\n",
    "adjusted_rand_scr = adjusted_rand_score(Y_train, labels_dbscan_umap_train)\n",
    "mutual_info_scr = mutual_info_score(Y_train, labels_dbscan_umap_train)\n",
    "print(silhouette_scr, adjusted_rand_scr, mutual_info_scr)"
   ],
   "id": "7d52824a66e3d06",
   "outputs": [
    {
     "name": "stdout",
     "output_type": "stream",
     "text": [
      "0.67519116 0.48063673853341343 2.1063479654929096\n"
     ]
    }
   ],
   "execution_count": 215
  },
  {
   "metadata": {
    "ExecuteTime": {
     "end_time": "2024-10-30T22:58:07.239263Z",
     "start_time": "2024-10-30T22:58:07.235542Z"
    }
   },
   "cell_type": "code",
   "source": [
    "ult, cult = np.unique(labels_dbscan_umap_train, return_counts=True)\n",
    "print(ult, cult)"
   ],
   "id": "ef21b12546cd6a59",
   "outputs": [
    {
     "name": "stdout",
     "output_type": "stream",
     "text": [
      "[ 0  1  2  3  4  5  6  7  8  9 10] [ 530 1795  578  955  482 3052  483  733  627 1195  264]\n"
     ]
    }
   ],
   "execution_count": 216
  },
  {
   "metadata": {
    "ExecuteTime": {
     "end_time": "2024-10-30T22:58:14.542612Z",
     "start_time": "2024-10-30T22:58:14.535059Z"
    }
   },
   "cell_type": "code",
   "source": [
    "prueba = {\n",
    "    'ids_train': video_ids[0:10],\n",
    "    'Y_train': Y_train[0:10],\n",
    "    'Y_pred' : labels_dbscan_umap_train[0:10]\n",
    "}\n",
    "df_prueba = pd.DataFrame(prueba)\n",
    "df_prueba"
   ],
   "id": "6bc1ad23b46349b0",
   "outputs": [
    {
     "data": {
      "text/plain": [
       "     ids_train  Y_train  Y_pred\n",
       "0  --gx7yb1-x0        1       0\n",
       "1  --Ntf6n-j9Q        1       0\n",
       "2  -07Ke73N4zI        2       1\n",
       "3  -1MXpPymXFU        0       1\n",
       "4  -2KvnLMnrA0        6       2\n",
       "5  -36efvC2K54        0       1\n",
       "6  -3tVVBhz8-o        1       0\n",
       "7  -5oULXqj45c       13       3\n",
       "8  -5s-IR39XaY        5       1\n",
       "9  -5Vx7UtZpzk        5       1"
      ],
      "text/html": [
       "<div>\n",
       "<style scoped>\n",
       "    .dataframe tbody tr th:only-of-type {\n",
       "        vertical-align: middle;\n",
       "    }\n",
       "\n",
       "    .dataframe tbody tr th {\n",
       "        vertical-align: top;\n",
       "    }\n",
       "\n",
       "    .dataframe thead th {\n",
       "        text-align: right;\n",
       "    }\n",
       "</style>\n",
       "<table border=\"1\" class=\"dataframe\">\n",
       "  <thead>\n",
       "    <tr style=\"text-align: right;\">\n",
       "      <th></th>\n",
       "      <th>ids_train</th>\n",
       "      <th>Y_train</th>\n",
       "      <th>Y_pred</th>\n",
       "    </tr>\n",
       "  </thead>\n",
       "  <tbody>\n",
       "    <tr>\n",
       "      <th>0</th>\n",
       "      <td>--gx7yb1-x0</td>\n",
       "      <td>1</td>\n",
       "      <td>0</td>\n",
       "    </tr>\n",
       "    <tr>\n",
       "      <th>1</th>\n",
       "      <td>--Ntf6n-j9Q</td>\n",
       "      <td>1</td>\n",
       "      <td>0</td>\n",
       "    </tr>\n",
       "    <tr>\n",
       "      <th>2</th>\n",
       "      <td>-07Ke73N4zI</td>\n",
       "      <td>2</td>\n",
       "      <td>1</td>\n",
       "    </tr>\n",
       "    <tr>\n",
       "      <th>3</th>\n",
       "      <td>-1MXpPymXFU</td>\n",
       "      <td>0</td>\n",
       "      <td>1</td>\n",
       "    </tr>\n",
       "    <tr>\n",
       "      <th>4</th>\n",
       "      <td>-2KvnLMnrA0</td>\n",
       "      <td>6</td>\n",
       "      <td>2</td>\n",
       "    </tr>\n",
       "    <tr>\n",
       "      <th>5</th>\n",
       "      <td>-36efvC2K54</td>\n",
       "      <td>0</td>\n",
       "      <td>1</td>\n",
       "    </tr>\n",
       "    <tr>\n",
       "      <th>6</th>\n",
       "      <td>-3tVVBhz8-o</td>\n",
       "      <td>1</td>\n",
       "      <td>0</td>\n",
       "    </tr>\n",
       "    <tr>\n",
       "      <th>7</th>\n",
       "      <td>-5oULXqj45c</td>\n",
       "      <td>13</td>\n",
       "      <td>3</td>\n",
       "    </tr>\n",
       "    <tr>\n",
       "      <th>8</th>\n",
       "      <td>-5s-IR39XaY</td>\n",
       "      <td>5</td>\n",
       "      <td>1</td>\n",
       "    </tr>\n",
       "    <tr>\n",
       "      <th>9</th>\n",
       "      <td>-5Vx7UtZpzk</td>\n",
       "      <td>5</td>\n",
       "      <td>1</td>\n",
       "    </tr>\n",
       "  </tbody>\n",
       "</table>\n",
       "</div>"
      ]
     },
     "execution_count": 217,
     "metadata": {},
     "output_type": "execute_result"
    }
   ],
   "execution_count": 217
  },
  {
   "metadata": {},
   "cell_type": "markdown",
   "source": "# DBScan implementation",
   "id": "526aa847bd5a5094"
  },
  {
   "metadata": {
    "ExecuteTime": {
     "end_time": "2024-10-31T03:12:16.973526Z",
     "start_time": "2024-10-31T03:12:16.965034Z"
    }
   },
   "cell_type": "code",
   "source": [
    "from sklearn.neighbors import KDTree\n",
    "from collections import deque\n",
    "class DBScan_custom:\n",
    "    def __init__(self, eps=0.5, min_samples=5):\n",
    "        self.eps = eps\n",
    "        self.min_samples = min_samples\n",
    "        self.X = None\n",
    "        self.labels = None\n",
    "        \n",
    "    def fit(self, X):\n",
    "        self.X = X\n",
    "        # load in KDtree for eficient search of neighbours\n",
    "        kdtree = KDTree(X)\n",
    "        # all noise\n",
    "        self.labels = np.full(len(X), -1)\n",
    "        # get the nn in the eps radius\n",
    "        nns = kdtree.query_radius(X, r=self.eps)\n",
    "        # iterate trough all the points to find the clusters\n",
    "        cluster_number = 0\n",
    "        visited_points = np.zeros(len(X))\n",
    "        for i in range(len(X)):\n",
    "            # skip if the point is already assigned to a cluster\n",
    "            if self.labels[i] != -1:\n",
    "                continue\n",
    "            visited_points[i] = 1\n",
    "            # core points\n",
    "            if len(nns[i]) >= self.min_samples:\n",
    "                cluster_number += 1\n",
    "                # assign the cluster number to the current point if doesnt have a cluster\n",
    "                if self.labels[i] == -1:\n",
    "                    self.labels[i] = cluster_number\n",
    "                # expand the cluster from the current point to its nns\n",
    "                nns_p = deque(nns[i])\n",
    "                j = nns_p.pop()\n",
    "                # iterate through all the nns and assign the same cluster number\n",
    "                while True:\n",
    "                    if visited_points[j] == 0:\n",
    "                        visited_points[j] = 1\n",
    "                        nns_nn_p = nns[j]\n",
    "                        if nns_nn_p.size >= self.min_samples:\n",
    "                            for item in nns_nn_p:\n",
    "                                nns_p.append(item)\n",
    "                    if self.labels[j] == -1:\n",
    "                        self.labels[j] = cluster_number\n",
    "                    # break if there are no more nns cores\n",
    "                    if len(nns_p) == 0:\n",
    "                        break\n",
    "                    j = nns_p.pop()\n",
    "        return self\n",
    "    def labels_(self):\n",
    "        return self.labels\n",
    "    def predict(self, X_test):\n",
    "        # return the label of the nn of the train points\n",
    "        labels = []\n",
    "        kdtree = KDTree(self.X)\n",
    "        dist, nns_1 = kdtree.query(X_test, k=1)\n",
    "        for i in range(len(nns_1)):\n",
    "            labels.append(self.labels[nns_1[i][0]])\n",
    "        return labels\n",
    "\n",
    "        "
   ],
   "id": "26f3d27285358518",
   "outputs": [],
   "execution_count": 292
  },
  {
   "metadata": {
    "ExecuteTime": {
     "end_time": "2024-10-31T03:12:20.309140Z",
     "start_time": "2024-10-31T03:12:20.302326Z"
    }
   },
   "cell_type": "code",
   "source": [
    "from sklearn.preprocessing import StandardScaler\n",
    "\n",
    "X_umap = StandardScaler().fit_transform(X_umap)"
   ],
   "id": "f160bd9431bf5f5c",
   "outputs": [],
   "execution_count": 293
  },
  {
   "metadata": {
    "ExecuteTime": {
     "end_time": "2024-10-31T03:12:27.801917Z",
     "start_time": "2024-10-31T03:12:25.143855Z"
    }
   },
   "cell_type": "code",
   "source": [
    "dbscan = DBScan_custom(eps=1.5, min_samples=4).fit(X_umap)\n",
    "labels_dbscan_umap_train = dbscan.labels_()"
   ],
   "id": "2a3f0e11b031c4ac",
   "outputs": [],
   "execution_count": 294
  },
  {
   "metadata": {
    "ExecuteTime": {
     "end_time": "2024-10-31T03:12:27.812194Z",
     "start_time": "2024-10-31T03:12:27.807744Z"
    }
   },
   "cell_type": "code",
   "source": "print(len(labels_dbscan_umap_train))",
   "id": "3de9562a48228891",
   "outputs": [
    {
     "name": "stdout",
     "output_type": "stream",
     "text": [
      "10694\n"
     ]
    }
   ],
   "execution_count": 295
  },
  {
   "metadata": {
    "ExecuteTime": {
     "end_time": "2024-10-31T03:12:28.087744Z",
     "start_time": "2024-10-31T03:12:28.082731Z"
    }
   },
   "cell_type": "code",
   "source": "print(np.unique(labels_dbscan_umap_train))",
   "id": "45e602d35e9102f4",
   "outputs": [
    {
     "name": "stdout",
     "output_type": "stream",
     "text": [
      "[-1  1  2  3  4  5  6  7  8  9 10 11 12]\n"
     ]
    }
   ],
   "execution_count": 296
  },
  {
   "metadata": {
    "ExecuteTime": {
     "end_time": "2024-10-30T22:58:59.712797Z",
     "start_time": "2024-10-30T22:58:59.709290Z"
    }
   },
   "cell_type": "code",
   "source": [
    "def metrics_clustering(X, Y_true, Y_pred):\n",
    "    silhouette_scr = silhouette_score(X, Y_pred)\n",
    "    rand_scr = rand_score(Y_true, Y_pred)\n",
    "    adj_mutual_info_scr = adjusted_mutual_info_score(Y_true, Y_pred)\n",
    "    return silhouette_scr, rand_scr, adj_mutual_info_scr"
   ],
   "id": "7e2e319484c6532a",
   "outputs": [],
   "execution_count": 225
  },
  {
   "metadata": {
    "ExecuteTime": {
     "end_time": "2024-10-30T22:59:02.513581Z",
     "start_time": "2024-10-30T22:59:01.189284Z"
    }
   },
   "cell_type": "code",
   "source": [
    "silhouette_scr, rand_scr, mutual_info_scr= metrics_clustering(X_umap, Y_train, labels_dbscan_umap_train)\n",
    "print(silhouette_scr, rand_scr, mutual_info_scr)"
   ],
   "id": "cc60bce7bb398609",
   "outputs": [
    {
     "name": "stdout",
     "output_type": "stream",
     "text": [
      "0.67519116 0.9036422979357704 0.8241105332488813\n"
     ]
    }
   ],
   "execution_count": 226
  },
  {
   "metadata": {
    "ExecuteTime": {
     "end_time": "2024-10-30T22:59:09.182206Z",
     "start_time": "2024-10-30T22:59:09.177289Z"
    }
   },
   "cell_type": "code",
   "source": [
    "# Find the best parameters for DBScan\n",
    "def best_params_dbscan(X, Y_true, eps_values, min_samples_values):\n",
    "    metric_s = []\n",
    "    for eps_value in eps_values:\n",
    "        for min_samples_value in min_samples_values:\n",
    "            print(eps_value, min_samples_value)\n",
    "            dbscan = DBScan_custom(eps=eps_value, min_samples=min_samples_value).fit(X)\n",
    "            Y_pred = dbscan.labels_()\n",
    "            silhouette_scr, rand_scr, adj_mutual_info_scr = metrics_clustering(X, Y_true, Y_pred)\n",
    "            metric_s.append([eps_value, min_samples_value, silhouette_scr, rand_scr, adj_mutual_info_scr])\n",
    "    return metric_s"
   ],
   "id": "45d35a09a84daffd",
   "outputs": [],
   "execution_count": 227
  },
  {
   "metadata": {
    "ExecuteTime": {
     "end_time": "2024-10-30T23:03:05.290311Z",
     "start_time": "2024-10-30T22:59:12.848843Z"
    }
   },
   "cell_type": "code",
   "source": [
    "eps_values = [0.1, 0.5, 1, 1.5, 2, 2.5, 3]\n",
    "min_samples_values = [2, 3, 4, 5, 6, 7, 8]\n",
    "metrics_search = best_params_dbscan(X_umap, Y_train, eps_values, min_samples_values)"
   ],
   "id": "7a97c8b04c00a6ad",
   "outputs": [
    {
     "name": "stdout",
     "output_type": "stream",
     "text": [
      "0.1 2\n",
      "0.1 3\n",
      "0.1 4\n",
      "0.1 5\n",
      "0.1 6\n",
      "0.1 7\n",
      "0.1 8\n",
      "0.5 2\n",
      "0.5 3\n",
      "0.5 4\n",
      "0.5 5\n",
      "0.5 6\n",
      "0.5 7\n",
      "0.5 8\n",
      "1 2\n",
      "1 3\n",
      "1 4\n",
      "1 5\n",
      "1 6\n",
      "1 7\n",
      "1 8\n",
      "1.5 2\n",
      "1.5 3\n",
      "1.5 4\n",
      "1.5 5\n",
      "1.5 6\n",
      "1.5 7\n",
      "1.5 8\n",
      "2 2\n",
      "2 3\n",
      "2 4\n",
      "2 5\n",
      "2 6\n",
      "2 7\n",
      "2 8\n",
      "2.5 2\n",
      "2.5 3\n",
      "2.5 4\n",
      "2.5 5\n",
      "2.5 6\n",
      "2.5 7\n",
      "2.5 8\n",
      "3 2\n",
      "3 3\n",
      "3 4\n",
      "3 5\n",
      "3 6\n",
      "3 7\n",
      "3 8\n"
     ]
    }
   ],
   "execution_count": 228
  },
  {
   "metadata": {
    "ExecuteTime": {
     "end_time": "2024-10-30T23:03:05.791769Z",
     "start_time": "2024-10-30T23:03:05.327690Z"
    }
   },
   "cell_type": "code",
   "source": [
    "# graph the rsultas of the grid search\n",
    "df_metric_search = pd.DataFrame(metrics_search, columns=[\"eps\", \"min_samples\", \"silhouette_scr\", \"rand_scr\", \"adj_mutual_info_scr\"])\n",
    "\n",
    "for metric in [\"silhouette_scr\", \"rand_scr\", \"adj_mutual_info_scr\"]:\n",
    "    heatmap_data = df_metric_search.pivot(index=\"eps\", columns=\"min_samples\", values=metric)\n",
    "    plt.figure(figsize=(8, 6))\n",
    "    sns.heatmap(heatmap_data, annot=True, fmt=\".2f\", cbar_kws={'label': metric})\n",
    "    plt.title(f\"Heatmap of {metric} for different eps and min_samples\")\n",
    "    plt.xlabel(\"min_samples\")\n",
    "    plt.ylabel(\"eps\")\n",
    "    plt.show()\n"
   ],
   "id": "5d4883649ebd807a",
   "outputs": [
    {
     "data": {
      "text/plain": [
       "<Figure size 800x600 with 2 Axes>"
      ],
      "image/png": "[encoded data removed]"
     },
     "metadata": {},
     "output_type": "display_data"
    },
    {
     "data": {
      "text/plain": [
       "<Figure size 800x600 with 2 Axes>"
      ],
      "image/png": "[encoded data removed]"
     },
     "metadata": {},
     "output_type": "display_data"
    },
    {
     "data": {
      "text/plain": [
       "<Figure size 800x600 with 2 Axes>"
      ],
      "image/png": "[encoded data removed]"
     },
     "metadata": {},
     "output_type": "display_data"
    }
   ],
   "execution_count": 229
  },
  {
   "metadata": {},
   "cell_type": "markdown",
   "source": "### Segun los graficos los mejores parametros son eps=0.5y min_samples = [2:8], se escoge min_samples = 4",
   "id": "c6d629eee7b1374c"
  },
  {
   "metadata": {
    "ExecuteTime": {
     "end_time": "2024-10-31T04:00:58.103824Z",
     "start_time": "2024-10-31T04:00:55.530775Z"
    }
   },
   "cell_type": "code",
   "source": [
    "# The same but for PCA\n",
    "X_pca = StandardScaler().fit_transform(X_pca)\n",
    "dbscan_pca = DBScan_custom(eps=0.5, min_samples=4).fit(X_pca)\n",
    "labels_dbscan_pca_train = dbscan_pca.labels_()\n",
    "print(np.unique(labels_dbscan_pca_train))"
   ],
   "id": "670e0a496b48d6b2",
   "outputs": [
    {
     "name": "stdout",
     "output_type": "stream",
     "text": [
      "[-1  1  2  3  4  5  6  7  8  9 10 11 12 13]\n"
     ]
    }
   ],
   "execution_count": 345
  },
  {
   "metadata": {
    "ExecuteTime": {
     "end_time": "2024-10-31T04:01:17.983978Z",
     "start_time": "2024-10-31T04:01:16.530868Z"
    }
   },
   "cell_type": "code",
   "source": [
    "silhouette_scr, rand_scr, mutual_info_scr= metrics_clustering(X_pca, Y_train, labels_dbscan_pca_train)\n",
    "print(silhouette_scr, rand_scr, mutual_info_scr)"
   ],
   "id": "86a4ccf64212efc",
   "outputs": [
    {
     "name": "stdout",
     "output_type": "stream",
     "text": [
      "0.64307195 0.9392663332847753 0.8733229511834153\n"
     ]
    }
   ],
   "execution_count": 346
  },
  {
   "metadata": {
    "ExecuteTime": {
     "end_time": "2024-10-31T04:08:09.113273Z",
     "start_time": "2024-10-31T04:05:14.762155Z"
    }
   },
   "cell_type": "code",
   "source": [
    "eps_values = [0.1, 0.5, 1, 1.5, 2, 2.5, 3]\n",
    "min_samples_values = [2, 3, 4, 5, 6, 7, 8]\n",
    "metrics_search2 = best_params_dbscan(X_pca, Y_train, eps_values, min_samples_values)"
   ],
   "id": "87137455635f84eb",
   "outputs": [
    {
     "name": "stdout",
     "output_type": "stream",
     "text": [
      "0.1 2\n",
      "0.1 3\n",
      "0.1 4\n",
      "0.1 5\n",
      "0.1 6\n",
      "0.1 7\n",
      "0.1 8\n",
      "0.5 2\n",
      "0.5 3\n",
      "0.5 4\n",
      "0.5 5\n",
      "0.5 6\n",
      "0.5 7\n",
      "0.5 8\n",
      "1 2\n",
      "1 3\n",
      "1 4\n",
      "1 5\n",
      "1 6\n",
      "1 7\n",
      "1 8\n",
      "1.5 2\n",
      "1.5 3\n",
      "1.5 4\n",
      "1.5 5\n",
      "1.5 6\n",
      "1.5 7\n",
      "1.5 8\n",
      "2 2\n",
      "2 3\n",
      "2 4\n",
      "2 5\n",
      "2 6\n",
      "2 7\n",
      "2 8\n",
      "2.5 2\n",
      "2.5 3\n",
      "2.5 4\n",
      "2.5 5\n",
      "2.5 6\n",
      "2.5 7\n",
      "2.5 8\n",
      "3 2\n",
      "3 3\n",
      "3 4\n",
      "3 5\n",
      "3 6\n",
      "3 7\n",
      "3 8\n"
     ]
    }
   ],
   "execution_count": 347
  },
  {
   "metadata": {
    "ExecuteTime": {
     "end_time": "2024-10-31T04:08:18.564886Z",
     "start_time": "2024-10-31T04:08:18.550739Z"
    }
   },
   "cell_type": "code",
   "source": [
    "\n",
    "df_metric_search2 = pd.DataFrame(metrics_search2, columns=[\"eps\", \"min_samples\", \"silhouette_scr\", \"rand_scr\", \"adj_mutual_info_scr\"])\n",
    "df_metric_search2"
   ],
   "id": "f298ae4d1db264c4",
   "outputs": [
    {
     "data": {
      "text/plain": [
       "    eps  min_samples  silhouette_scr  rand_scr  adj_mutual_info_scr\n",
       "0   0.1            2       -0.270136  0.946341             0.667772\n",
       "1   0.1            3       -0.232154  0.932448             0.678138\n",
       "2   0.1            4       -0.224692  0.905401             0.655162\n",
       "3   0.1            5       -0.238910  0.871475             0.613951\n",
       "4   0.1            6       -0.254972  0.831307             0.585220\n",
       "5   0.1            7       -0.263064  0.786838             0.550475\n",
       "6   0.1            8       -0.292005  0.737020             0.516708\n",
       "7   0.5            2        0.763529  0.975096             0.925598\n",
       "8   0.5            3        0.763529  0.975096             0.925598\n",
       "9   0.5            4        0.786224  0.975096             0.925545\n",
       "10  0.5            5        0.786224  0.975096             0.925545\n",
       "11  0.5            6        0.784944  0.975102             0.925620\n",
       "12  0.5            7        0.784944  0.975102             0.925620\n",
       "13  0.5            8        0.784944  0.975102             0.925620\n",
       "14  1.0            2        0.732230  0.964559             0.901768\n",
       "15  1.0            3        0.732230  0.964559             0.901768\n",
       "16  1.0            4        0.732230  0.964559             0.901768\n",
       "17  1.0            5        0.732230  0.964559             0.901768\n",
       "18  1.0            6        0.732230  0.964559             0.901768\n",
       "19  1.0            7        0.732230  0.964559             0.901768\n",
       "20  1.0            8        0.732230  0.964559             0.901768\n",
       "21  1.5            2        0.643072  0.939266             0.873323\n",
       "22  1.5            3        0.643072  0.939266             0.873323\n",
       "23  1.5            4        0.643072  0.939266             0.873323\n",
       "24  1.5            5        0.643072  0.939266             0.873323\n",
       "25  1.5            6        0.643072  0.939266             0.873323\n",
       "26  1.5            7        0.643072  0.939266             0.873323\n",
       "27  1.5            8        0.643072  0.939266             0.873323\n",
       "28  2.0            2        0.672481  0.914452             0.844887\n",
       "29  2.0            3        0.672481  0.914452             0.844887\n",
       "30  2.0            4        0.672481  0.914452             0.844887\n",
       "31  2.0            5        0.672481  0.914452             0.844887\n",
       "32  2.0            6        0.672481  0.914452             0.844887\n",
       "33  2.0            7        0.672481  0.914452             0.844887\n",
       "34  2.0            8        0.672481  0.914452             0.844887\n",
       "35  2.5            2        0.540597  0.840059             0.770574\n",
       "36  2.5            3        0.540597  0.840059             0.770574\n",
       "37  2.5            4        0.540597  0.840059             0.770574\n",
       "38  2.5            5        0.540597  0.840059             0.770574\n",
       "39  2.5            6        0.540597  0.840059             0.770574\n",
       "40  2.5            7        0.540597  0.840059             0.770574\n",
       "41  2.5            8        0.540597  0.840059             0.770574\n",
       "42  3.0            2        0.495250  0.800709             0.731026\n",
       "43  3.0            3        0.495250  0.800709             0.731026\n",
       "44  3.0            4        0.495250  0.800709             0.731026\n",
       "45  3.0            5        0.495250  0.800709             0.731026\n",
       "46  3.0            6        0.495250  0.800709             0.731026\n",
       "47  3.0            7        0.495250  0.800709             0.731026\n",
       "48  3.0            8        0.495250  0.800709             0.731026"
      ],
      "text/html": [
       "<div>\n",
       "<style scoped>\n",
       "    .dataframe tbody tr th:only-of-type {\n",
       "        vertical-align: middle;\n",
       "    }\n",
       "\n",
       "    .dataframe tbody tr th {\n",
       "        vertical-align: top;\n",
       "    }\n",
       "\n",
       "    .dataframe thead th {\n",
       "        text-align: right;\n",
       "    }\n",
       "</style>\n",
       "<table border=\"1\" class=\"dataframe\">\n",
       "  <thead>\n",
       "    <tr style=\"text-align: right;\">\n",
       "      <th></th>\n",
       "      <th>eps</th>\n",
       "      <th>min_samples</th>\n",
       "      <th>silhouette_scr</th>\n",
       "      <th>rand_scr</th>\n",
       "      <th>adj_mutual_info_scr</th>\n",
       "    </tr>\n",
       "  </thead>\n",
       "  <tbody>\n",
       "    <tr>\n",
       "      <th>0</th>\n",
       "      <td>0.1</td>\n",
       "      <td>2</td>\n",
       "      <td>-0.270136</td>\n",
       "      <td>0.946341</td>\n",
       "      <td>0.667772</td>\n",
       "    </tr>\n",
       "    <tr>\n",
       "      <th>1</th>\n",
       "      <td>0.1</td>\n",
       "      <td>3</td>\n",
       "      <td>-0.232154</td>\n",
       "      <td>0.932448</td>\n",
       "      <td>0.678138</td>\n",
       "    </tr>\n",
       "    <tr>\n",
       "      <th>2</th>\n",
       "      <td>0.1</td>\n",
       "      <td>4</td>\n",
       "      <td>-0.224692</td>\n",
       "      <td>0.905401</td>\n",
       "      <td>0.655162</td>\n",
       "    </tr>\n",
       "    <tr>\n",
       "      <th>3</th>\n",
       "      <td>0.1</td>\n",
       "      <td>5</td>\n",
       "      <td>-0.238910</td>\n",
       "      <td>0.871475</td>\n",
       "      <td>0.613951</td>\n",
       "    </tr>\n",
       "    <tr>\n",
       "      <th>4</th>\n",
       "      <td>0.1</td>\n",
       "      <td>6</td>\n",
       "      <td>-0.254972</td>\n",
       "      <td>0.831307</td>\n",
       "      <td>0.585220</td>\n",
       "    </tr>\n",
       "    <tr>\n",
       "      <th>5</th>\n",
       "      <td>0.1</td>\n",
       "      <td>7</td>\n",
       "      <td>-0.263064</td>\n",
       "      <td>0.786838</td>\n",
       "      <td>0.550475</td>\n",
       "    </tr>\n",
       "    <tr>\n",
       "      <th>6</th>\n",
       "      <td>0.1</td>\n",
       "      <td>8</td>\n",
       "      <td>-0.292005</td>\n",
       "      <td>0.737020</td>\n",
       "      <td>0.516708</td>\n",
       "    </tr>\n",
       "    <tr>\n",
       "      <th>7</th>\n",
       "      <td>0.5</td>\n",
       "      <td>2</td>\n",
       "      <td>0.763529</td>\n",
       "      <td>0.975096</td>\n",
       "      <td>0.925598</td>\n",
       "    </tr>\n",
       "    <tr>\n",
       "      <th>8</th>\n",
       "      <td>0.5</td>\n",
       "      <td>3</td>\n",
       "      <td>0.763529</td>\n",
       "      <td>0.975096</td>\n",
       "      <td>0.925598</td>\n",
       "    </tr>\n",
       "    <tr>\n",
       "      <th>9</th>\n",
       "      <td>0.5</td>\n",
       "      <td>4</td>\n",
       "      <td>0.786224</td>\n",
       "      <td>0.975096</td>\n",
       "      <td>0.925545</td>\n",
       "    </tr>\n",
       "    <tr>\n",
       "      <th>10</th>\n",
       "      <td>0.5</td>\n",
       "      <td>5</td>\n",
       "      <td>0.786224</td>\n",
       "      <td>0.975096</td>\n",
       "      <td>0.925545</td>\n",
       "    </tr>\n",
       "    <tr>\n",
       "      <th>11</th>\n",
       "      <td>0.5</td>\n",
       "      <td>6</td>\n",
       "      <td>0.784944</td>\n",
       "      <td>0.975102</td>\n",
       "      <td>0.925620</td>\n",
       "    </tr>\n",
       "    <tr>\n",
       "      <th>12</th>\n",
       "      <td>0.5</td>\n",
       "      <td>7</td>\n",
       "      <td>0.784944</td>\n",
       "      <td>0.975102</td>\n",
       "      <td>0.925620</td>\n",
       "    </tr>\n",
       "    <tr>\n",
       "      <th>13</th>\n",
       "      <td>0.5</td>\n",
       "      <td>8</td>\n",
       "      <td>0.784944</td>\n",
       "      <td>0.975102</td>\n",
       "      <td>0.925620</td>\n",
       "    </tr>\n",
       "    <tr>\n",
       "      <th>14</th>\n",
       "      <td>1.0</td>\n",
       "      <td>2</td>\n",
       "      <td>0.732230</td>\n",
       "      <td>0.964559</td>\n",
       "      <td>0.901768</td>\n",
       "    </tr>\n",
       "    <tr>\n",
       "      <th>15</th>\n",
       "      <td>1.0</td>\n",
       "      <td>3</td>\n",
       "      <td>0.732230</td>\n",
       "      <td>0.964559</td>\n",
       "      <td>0.901768</td>\n",
       "    </tr>\n",
       "    <tr>\n",
       "      <th>16</th>\n",
       "      <td>1.0</td>\n",
       "      <td>4</td>\n",
       "      <td>0.732230</td>\n",
       "      <td>0.964559</td>\n",
       "      <td>0.901768</td>\n",
       "    </tr>\n",
       "    <tr>\n",
       "      <th>17</th>\n",
       "      <td>1.0</td>\n",
       "      <td>5</td>\n",
       "      <td>0.732230</td>\n",
       "      <td>0.964559</td>\n",
       "      <td>0.901768</td>\n",
       "    </tr>\n",
       "    <tr>\n",
       "      <th>18</th>\n",
       "      <td>1.0</td>\n",
       "      <td>6</td>\n",
       "      <td>0.732230</td>\n",
       "      <td>0.964559</td>\n",
       "      <td>0.901768</td>\n",
       "    </tr>\n",
       "    <tr>\n",
       "      <th>19</th>\n",
       "      <td>1.0</td>\n",
       "      <td>7</td>\n",
       "      <td>0.732230</td>\n",
       "      <td>0.964559</td>\n",
       "      <td>0.901768</td>\n",
       "    </tr>\n",
       "    <tr>\n",
       "      <th>20</th>\n",
       "      <td>1.0</td>\n",
       "      <td>8</td>\n",
       "      <td>0.732230</td>\n",
       "      <td>0.964559</td>\n",
       "      <td>0.901768</td>\n",
       "    </tr>\n",
       "    <tr>\n",
       "      <th>21</th>\n",
       "      <td>1.5</td>\n",
       "      <td>2</td>\n",
       "      <td>0.643072</td>\n",
       "      <td>0.939266</td>\n",
       "      <td>0.873323</td>\n",
       "    </tr>\n",
       "    <tr>\n",
       "      <th>22</th>\n",
       "      <td>1.5</td>\n",
       "      <td>3</td>\n",
       "      <td>0.643072</td>\n",
       "      <td>0.939266</td>\n",
       "      <td>0.873323</td>\n",
       "    </tr>\n",
       "    <tr>\n",
       "      <th>23</th>\n",
       "      <td>1.5</td>\n",
       "      <td>4</td>\n",
       "      <td>0.643072</td>\n",
       "      <td>0.939266</td>\n",
       "      <td>0.873323</td>\n",
       "    </tr>\n",
       "    <tr>\n",
       "      <th>24</th>\n",
       "      <td>1.5</td>\n",
       "      <td>5</td>\n",
       "      <td>0.643072</td>\n",
       "      <td>0.939266</td>\n",
       "      <td>0.873323</td>\n",
       "    </tr>\n",
       "    <tr>\n",
       "      <th>25</th>\n",
       "      <td>1.5</td>\n",
       "      <td>6</td>\n",
       "      <td>0.643072</td>\n",
       "      <td>0.939266</td>\n",
       "      <td>0.873323</td>\n",
       "    </tr>\n",
       "    <tr>\n",
       "      <th>26</th>\n",
       "      <td>1.5</td>\n",
       "      <td>7</td>\n",
       "      <td>0.643072</td>\n",
       "      <td>0.939266</td>\n",
       "      <td>0.873323</td>\n",
       "    </tr>\n",
       "    <tr>\n",
       "      <th>27</th>\n",
       "      <td>1.5</td>\n",
       "      <td>8</td>\n",
       "      <td>0.643072</td>\n",
       "      <td>0.939266</td>\n",
       "      <td>0.873323</td>\n",
       "    </tr>\n",
       "    <tr>\n",
       "      <th>28</th>\n",
       "      <td>2.0</td>\n",
       "      <td>2</td>\n",
       "      <td>0.672481</td>\n",
       "      <td>0.914452</td>\n",
       "      <td>0.844887</td>\n",
       "    </tr>\n",
       "    <tr>\n",
       "      <th>29</th>\n",
       "      <td>2.0</td>\n",
       "      <td>3</td>\n",
       "      <td>0.672481</td>\n",
       "      <td>0.914452</td>\n",
       "      <td>0.844887</td>\n",
       "    </tr>\n",
       "    <tr>\n",
       "      <th>30</th>\n",
       "      <td>2.0</td>\n",
       "      <td>4</td>\n",
       "      <td>0.672481</td>\n",
       "      <td>0.914452</td>\n",
       "      <td>0.844887</td>\n",
       "    </tr>\n",
       "    <tr>\n",
       "      <th>31</th>\n",
       "      <td>2.0</td>\n",
       "      <td>5</td>\n",
       "      <td>0.672481</td>\n",
       "      <td>0.914452</td>\n",
       "      <td>0.844887</td>\n",
       "    </tr>\n",
       "    <tr>\n",
       "      <th>32</th>\n",
       "      <td>2.0</td>\n",
       "      <td>6</td>\n",
       "      <td>0.672481</td>\n",
       "      <td>0.914452</td>\n",
       "      <td>0.844887</td>\n",
       "    </tr>\n",
       "    <tr>\n",
       "      <th>33</th>\n",
       "      <td>2.0</td>\n",
       "      <td>7</td>\n",
       "      <td>0.672481</td>\n",
       "      <td>0.914452</td>\n",
       "      <td>0.844887</td>\n",
       "    </tr>\n",
       "    <tr>\n",
       "      <th>34</th>\n",
       "      <td>2.0</td>\n",
       "      <td>8</td>\n",
       "      <td>0.672481</td>\n",
       "      <td>0.914452</td>\n",
       "      <td>0.844887</td>\n",
       "    </tr>\n",
       "    <tr>\n",
       "      <th>35</th>\n",
       "      <td>2.5</td>\n",
       "      <td>2</td>\n",
       "      <td>0.540597</td>\n",
       "      <td>0.840059</td>\n",
       "      <td>0.770574</td>\n",
       "    </tr>\n",
       "    <tr>\n",
       "      <th>36</th>\n",
       "      <td>2.5</td>\n",
       "      <td>3</td>\n",
       "      <td>0.540597</td>\n",
       "      <td>0.840059</td>\n",
       "      <td>0.770574</td>\n",
       "    </tr>\n",
       "    <tr>\n",
       "      <th>37</th>\n",
       "      <td>2.5</td>\n",
       "      <td>4</td>\n",
       "      <td>0.540597</td>\n",
       "      <td>0.840059</td>\n",
       "      <td>0.770574</td>\n",
       "    </tr>\n",
       "    <tr>\n",
       "      <th>38</th>\n",
       "      <td>2.5</td>\n",
       "      <td>5</td>\n",
       "      <td>0.540597</td>\n",
       "      <td>0.840059</td>\n",
       "      <td>0.770574</td>\n",
       "    </tr>\n",
       "    <tr>\n",
       "      <th>39</th>\n",
       "      <td>2.5</td>\n",
       "      <td>6</td>\n",
       "      <td>0.540597</td>\n",
       "      <td>0.840059</td>\n",
       "      <td>0.770574</td>\n",
       "    </tr>\n",
       "    <tr>\n",
       "      <th>40</th>\n",
       "      <td>2.5</td>\n",
       "      <td>7</td>\n",
       "      <td>0.540597</td>\n",
       "      <td>0.840059</td>\n",
       "      <td>0.770574</td>\n",
       "    </tr>\n",
       "    <tr>\n",
       "      <th>41</th>\n",
       "      <td>2.5</td>\n",
       "      <td>8</td>\n",
       "      <td>0.540597</td>\n",
       "      <td>0.840059</td>\n",
       "      <td>0.770574</td>\n",
       "    </tr>\n",
       "    <tr>\n",
       "      <th>42</th>\n",
       "      <td>3.0</td>\n",
       "      <td>2</td>\n",
       "      <td>0.495250</td>\n",
       "      <td>0.800709</td>\n",
       "      <td>0.731026</td>\n",
       "    </tr>\n",
       "    <tr>\n",
       "      <th>43</th>\n",
       "      <td>3.0</td>\n",
       "      <td>3</td>\n",
       "      <td>0.495250</td>\n",
       "      <td>0.800709</td>\n",
       "      <td>0.731026</td>\n",
       "    </tr>\n",
       "    <tr>\n",
       "      <th>44</th>\n",
       "      <td>3.0</td>\n",
       "      <td>4</td>\n",
       "      <td>0.495250</td>\n",
       "      <td>0.800709</td>\n",
       "      <td>0.731026</td>\n",
       "    </tr>\n",
       "    <tr>\n",
       "      <th>45</th>\n",
       "      <td>3.0</td>\n",
       "      <td>5</td>\n",
       "      <td>0.495250</td>\n",
       "      <td>0.800709</td>\n",
       "      <td>0.731026</td>\n",
       "    </tr>\n",
       "    <tr>\n",
       "      <th>46</th>\n",
       "      <td>3.0</td>\n",
       "      <td>6</td>\n",
       "      <td>0.495250</td>\n",
       "      <td>0.800709</td>\n",
       "      <td>0.731026</td>\n",
       "    </tr>\n",
       "    <tr>\n",
       "      <th>47</th>\n",
       "      <td>3.0</td>\n",
       "      <td>7</td>\n",
       "      <td>0.495250</td>\n",
       "      <td>0.800709</td>\n",
       "      <td>0.731026</td>\n",
       "    </tr>\n",
       "    <tr>\n",
       "      <th>48</th>\n",
       "      <td>3.0</td>\n",
       "      <td>8</td>\n",
       "      <td>0.495250</td>\n",
       "      <td>0.800709</td>\n",
       "      <td>0.731026</td>\n",
       "    </tr>\n",
       "  </tbody>\n",
       "</table>\n",
       "</div>"
      ]
     },
     "execution_count": 349,
     "metadata": {},
     "output_type": "execute_result"
    }
   ],
   "execution_count": 349
  },
  {
   "metadata": {},
   "cell_type": "markdown",
   "source": "# Assign acctions to the labels based on majority voting (Train)",
   "id": "5ea0be642b479e08"
  },
  {
   "metadata": {
    "ExecuteTime": {
     "end_time": "2024-10-30T23:03:59.821222Z",
     "start_time": "2024-10-30T23:03:59.816759Z"
    }
   },
   "cell_type": "code",
   "source": [
    "import statistics\n",
    "def actions_dictionary(labels, Y):\n",
    "    unique_labels = np.unique(labels)\n",
    "    action_dict = {}\n",
    "    for label in unique_labels:\n",
    "        index_labels = np.where(labels == label)[0]\n",
    "        actions_string = [Y[i] for i in index_labels] \n",
    "        action_majority = statistics.mode(actions_string)\n",
    "        action_dict[label] = action_majority\n",
    "    return action_dict\n",
    "        \n",
    "        "
   ],
   "id": "5f3cc23538136316",
   "outputs": [],
   "execution_count": 230
  },
  {
   "metadata": {
    "ExecuteTime": {
     "end_time": "2024-10-30T23:04:01.262227Z",
     "start_time": "2024-10-30T23:04:01.255569Z"
    }
   },
   "cell_type": "code",
   "source": "train_dictionary_actions = actions_dictionary(labels_dbscan_umap_train, Y_train_no_encode)",
   "id": "ffaca0e2731da06e",
   "outputs": [],
   "execution_count": 231
  },
  {
   "metadata": {
    "ExecuteTime": {
     "end_time": "2024-10-30T23:04:02.214185Z",
     "start_time": "2024-10-30T23:04:02.210252Z"
    }
   },
   "cell_type": "code",
   "source": "print(train_dictionary_actions)",
   "id": "3d43ee2959f3d14d",
   "outputs": [
    {
     "name": "stdout",
     "output_type": "stream",
     "text": [
      "{1: 'balloon blowing', 2: 'cooking chicken', 3: 'golf driving', 4: 'shot put', 5: 'riding camel', 6: 'wrapping present', 7: 'hopscotch', 8: 'playing clarinet', 9: 'playing ice hockey', 10: 'dying hair', 11: 'spraying'}\n"
     ]
    }
   ],
   "execution_count": 232
  },
  {
   "metadata": {
    "ExecuteTime": {
     "end_time": "2024-10-30T23:04:04.521156Z",
     "start_time": "2024-10-30T23:04:04.517533Z"
    }
   },
   "cell_type": "code",
   "source": "print(type(train_dictionary_actions))",
   "id": "5e2e9c7294d2af9",
   "outputs": [
    {
     "name": "stdout",
     "output_type": "stream",
     "text": [
      "<class 'dict'>\n"
     ]
    }
   ],
   "execution_count": 233
  },
  {
   "metadata": {
    "ExecuteTime": {
     "end_time": "2024-10-30T23:04:05.925241Z",
     "start_time": "2024-10-30T23:04:05.921728Z"
    }
   },
   "cell_type": "code",
   "source": [
    "# Decode the actions\n",
    "def decode_labels(labels, dictionary):\n",
    "    decoded_labels = []\n",
    "    for label in labels:\n",
    "        decoded_labels.append(dictionary[label])\n",
    "    return decoded_labels"
   ],
   "id": "242d184101a1fa2f",
   "outputs": [],
   "execution_count": 234
  },
  {
   "metadata": {},
   "cell_type": "markdown",
   "source": "# Load Data test",
   "id": "e7d086d9b10605a9"
  },
  {
   "metadata": {
    "ExecuteTime": {
     "end_time": "2024-10-30T23:04:08.304994Z",
     "start_time": "2024-10-30T23:04:08.301580Z"
    }
   },
   "cell_type": "code",
   "source": [
    "def load_features_test():\n",
    "    with open(r\"C:\\Code\\UTEC\\ML\\Project3\\Project\\data\\pickle\\features_test.pkl\", \"rb\") as archivo:\n",
    "        feature_vectors_test_f = pickle.load(archivo)\n",
    "        video_ids_test_f = pickle.load(archivo)\n",
    "    return feature_vectors_test_f, video_ids_test_f"
   ],
   "id": "f6530743194fda74",
   "outputs": [],
   "execution_count": 235
  },
  {
   "metadata": {
    "ExecuteTime": {
     "end_time": "2024-10-31T03:12:55.675128Z",
     "start_time": "2024-10-31T03:12:55.414314Z"
    }
   },
   "cell_type": "code",
   "source": "feature_vectors_test, video_ids_test = load_features_test()",
   "id": "cf6aabe45e3625cd",
   "outputs": [],
   "execution_count": 297
  },
  {
   "metadata": {
    "ExecuteTime": {
     "end_time": "2024-10-31T03:12:56.548894Z",
     "start_time": "2024-10-31T03:12:56.519285Z"
    }
   },
   "cell_type": "code",
   "source": [
    "X_test = []\n",
    "for feature_vector in feature_vectors_test:\n",
    "    try:\n",
    "        X_test.append(np.mean(feature_vector, axis=0))\n",
    "    except:\n",
    "        print(\"Error\")"
   ],
   "id": "9e56d19b5485c288",
   "outputs": [],
   "execution_count": 298
  },
  {
   "metadata": {
    "ExecuteTime": {
     "end_time": "2024-10-31T03:12:58.516913Z",
     "start_time": "2024-10-31T03:12:58.508367Z"
    }
   },
   "cell_type": "code",
   "source": [
    "for i in range(len(X_test)):\n",
    "    if np.isnan(X_test[i]).any():\n",
    "        X_test.pop(i)\n",
    "        video_ids_test.pop(i)"
   ],
   "id": "dd43d1da5a67d3ba",
   "outputs": [],
   "execution_count": 299
  },
  {
   "metadata": {
    "ExecuteTime": {
     "end_time": "2024-10-31T03:12:59.418644Z",
     "start_time": "2024-10-31T03:12:59.411180Z"
    }
   },
   "cell_type": "code",
   "source": [
    "X_test = np.array(X_test)\n",
    "print(X_test.shape)\n",
    "print(len(video_ids_test))"
   ],
   "id": "2354f07d1919d2d9",
   "outputs": [
    {
     "name": "stdout",
     "output_type": "stream",
     "text": [
      "(1626, 512)\n",
      "1626\n"
     ]
    }
   ],
   "execution_count": 300
  },
  {
   "metadata": {},
   "cell_type": "markdown",
   "source": "# Apply the best model of DBScan-UMAP to the test data",
   "id": "41207837708072c8"
  },
  {
   "metadata": {
    "ExecuteTime": {
     "end_time": "2024-10-31T03:13:14.865199Z",
     "start_time": "2024-10-31T03:13:11.091581Z"
    }
   },
   "cell_type": "code",
   "source": [
    "umap_red = umap.UMAP(n_components=15)\n",
    "X_test_umap = umap_red.fit_transform(X_test)\n",
    "X_test_umap = StandardScaler().fit_transform(X_test_umap)\n"
   ],
   "id": "9095f41f45515316",
   "outputs": [],
   "execution_count": 301
  },
  {
   "metadata": {
    "ExecuteTime": {
     "end_time": "2024-10-31T03:13:14.873217Z",
     "start_time": "2024-10-31T03:13:14.870204Z"
    }
   },
   "cell_type": "code",
   "source": "print(X_test_umap.shape)",
   "id": "b8b526035c809ece",
   "outputs": [
    {
     "name": "stdout",
     "output_type": "stream",
     "text": [
      "(1626, 15)\n"
     ]
    }
   ],
   "execution_count": 302
  },
  {
   "metadata": {
    "ExecuteTime": {
     "end_time": "2024-10-31T03:23:17.332455Z",
     "start_time": "2024-10-31T03:23:15.946373Z"
    }
   },
   "cell_type": "code",
   "source": [
    "dbscan = DBScan_custom(eps=0.5, min_samples=4).fit(X_umap)\n",
    "Y_test_pred = dbscan.predict(X_test_umap)"
   ],
   "id": "6064e3d39f62ca45",
   "outputs": [],
   "execution_count": 335
  },
  {
   "metadata": {
    "ExecuteTime": {
     "end_time": "2024-10-31T03:23:17.981256Z",
     "start_time": "2024-10-31T03:23:17.977605Z"
    }
   },
   "cell_type": "code",
   "source": "print(Y_test_pred[0:10])",
   "id": "6732b1fc236870a",
   "outputs": [
    {
     "name": "stdout",
     "output_type": "stream",
     "text": [
      "[11, -1, -1, 11, 15, -1, 15, 2, 11, 2]\n"
     ]
    }
   ],
   "execution_count": 336
  },
  {
   "metadata": {
    "ExecuteTime": {
     "end_time": "2024-10-31T03:23:21.787413Z",
     "start_time": "2024-10-31T03:23:21.768904Z"
    }
   },
   "cell_type": "code",
   "source": "Y_test_pred_string = decode_labels(Y_test_pred, train_dictionary_actions)",
   "id": "ea79a5055a8fbcd6",
   "outputs": [
    {
     "ename": "KeyError",
     "evalue": "-1",
     "output_type": "error",
     "traceback": [
      "\u001B[1;31m---------------------------------------------------------------------------\u001B[0m",
      "\u001B[1;31mKeyError\u001B[0m                                  Traceback (most recent call last)",
      "Cell \u001B[1;32mIn[337], line 1\u001B[0m\n\u001B[1;32m----> 1\u001B[0m Y_test_pred_string \u001B[38;5;241m=\u001B[39m decode_labels(Y_test_pred, train_dictionary_actions)\n",
      "Cell \u001B[1;32mIn[234], line 5\u001B[0m, in \u001B[0;36mdecode_labels\u001B[1;34m(labels, dictionary)\u001B[0m\n\u001B[0;32m      3\u001B[0m decoded_labels \u001B[38;5;241m=\u001B[39m []\n\u001B[0;32m      4\u001B[0m \u001B[38;5;28;01mfor\u001B[39;00m label \u001B[38;5;129;01min\u001B[39;00m labels:\n\u001B[1;32m----> 5\u001B[0m     decoded_labels\u001B[38;5;241m.\u001B[39mappend(dictionary[label])\n\u001B[0;32m      6\u001B[0m \u001B[38;5;28;01mreturn\u001B[39;00m decoded_labels\n",
      "\u001B[1;31mKeyError\u001B[0m: -1"
     ]
    }
   ],
   "execution_count": 337
  },
  {
   "metadata": {
    "ExecuteTime": {
     "end_time": "2024-10-31T04:37:15.227888Z",
     "start_time": "2024-10-31T04:37:15.116703Z"
    }
   },
   "cell_type": "code",
   "source": [
    "# graph a hist of Y_test_pred_string\n",
    "plt.figure(figsize=(10, 6))\n",
    "sns.countplot(x=Y_test_pred)\n",
    "plt.xticks(rotation=90)\n",
    "plt.ylabel(\"Frequency\")\n",
    "plt.title(\"Frequency of the labels in test dataset\")\n",
    "plt.show()"
   ],
   "id": "e44229e3cbc23627",
   "outputs": [
    {
     "data": {
      "text/plain": [
       "<Figure size 1000x600 with 1 Axes>"
      ],
      "image/png": "[encoded data removed]"
     },
     "metadata": {},
     "output_type": "display_data"
    }
   ],
   "execution_count": 354
  },
  {
   "metadata": {
    "ExecuteTime": {
     "end_time": "2024-10-31T03:23:30.651503Z",
     "start_time": "2024-10-31T03:23:30.646601Z"
    }
   },
   "cell_type": "code",
   "source": [
    "lu, clu = np.unique(Y_test_pred, return_counts=True)\n",
    "print(lu, clu)"
   ],
   "id": "d747b0adf52bbb27",
   "outputs": [
    {
     "name": "stdout",
     "output_type": "stream",
     "text": [
      "[-1  1  2  3  6  9 11 12 15] [530  71 227  72  84  40 380 140  82]\n"
     ]
    }
   ],
   "execution_count": 339
  },
  {
   "metadata": {
    "ExecuteTime": {
     "end_time": "2024-10-31T03:23:35.898828Z",
     "start_time": "2024-10-31T03:23:35.886449Z"
    }
   },
   "cell_type": "code",
   "source": [
    "prueba2 = { \"youtube_id\": video_ids_test, \"label\": Y_test_pred}\n",
    "df_prueba2 = pd.DataFrame(prueba2)\n",
    "df_prueba2"
   ],
   "id": "ccb32f154699ddd3",
   "outputs": [
    {
     "data": {
      "text/plain": [
       "       youtube_id  label\n",
       "0     -3T2VPGo2jI     11\n",
       "1     -7Wz9S-ZZz4     -1\n",
       "2     -a1f1ikmdd8     -1\n",
       "3     -AZMzKjls-k     11\n",
       "4     -bGVnGCy2yY     15\n",
       "...           ...    ...\n",
       "1621  Ztyij17ill0     11\n",
       "1622  zujZagp-4jQ     -1\n",
       "1623  ZuvChCAjbak     -1\n",
       "1624  ZxpwgIZg4lI     -1\n",
       "1625  zz1YMml9Z6k     -1\n",
       "\n",
       "[1626 rows x 2 columns]"
      ],
      "text/html": [
       "<div>\n",
       "<style scoped>\n",
       "    .dataframe tbody tr th:only-of-type {\n",
       "        vertical-align: middle;\n",
       "    }\n",
       "\n",
       "    .dataframe tbody tr th {\n",
       "        vertical-align: top;\n",
       "    }\n",
       "\n",
       "    .dataframe thead th {\n",
       "        text-align: right;\n",
       "    }\n",
       "</style>\n",
       "<table border=\"1\" class=\"dataframe\">\n",
       "  <thead>\n",
       "    <tr style=\"text-align: right;\">\n",
       "      <th></th>\n",
       "      <th>youtube_id</th>\n",
       "      <th>label</th>\n",
       "    </tr>\n",
       "  </thead>\n",
       "  <tbody>\n",
       "    <tr>\n",
       "      <th>0</th>\n",
       "      <td>-3T2VPGo2jI</td>\n",
       "      <td>11</td>\n",
       "    </tr>\n",
       "    <tr>\n",
       "      <th>1</th>\n",
       "      <td>-7Wz9S-ZZz4</td>\n",
       "      <td>-1</td>\n",
       "    </tr>\n",
       "    <tr>\n",
       "      <th>2</th>\n",
       "      <td>-a1f1ikmdd8</td>\n",
       "      <td>-1</td>\n",
       "    </tr>\n",
       "    <tr>\n",
       "      <th>3</th>\n",
       "      <td>-AZMzKjls-k</td>\n",
       "      <td>11</td>\n",
       "    </tr>\n",
       "    <tr>\n",
       "      <th>4</th>\n",
       "      <td>-bGVnGCy2yY</td>\n",
       "      <td>15</td>\n",
       "    </tr>\n",
       "    <tr>\n",
       "      <th>...</th>\n",
       "      <td>...</td>\n",
       "      <td>...</td>\n",
       "    </tr>\n",
       "    <tr>\n",
       "      <th>1621</th>\n",
       "      <td>Ztyij17ill0</td>\n",
       "      <td>11</td>\n",
       "    </tr>\n",
       "    <tr>\n",
       "      <th>1622</th>\n",
       "      <td>zujZagp-4jQ</td>\n",
       "      <td>-1</td>\n",
       "    </tr>\n",
       "    <tr>\n",
       "      <th>1623</th>\n",
       "      <td>ZuvChCAjbak</td>\n",
       "      <td>-1</td>\n",
       "    </tr>\n",
       "    <tr>\n",
       "      <th>1624</th>\n",
       "      <td>ZxpwgIZg4lI</td>\n",
       "      <td>-1</td>\n",
       "    </tr>\n",
       "    <tr>\n",
       "      <th>1625</th>\n",
       "      <td>zz1YMml9Z6k</td>\n",
       "      <td>-1</td>\n",
       "    </tr>\n",
       "  </tbody>\n",
       "</table>\n",
       "<p>1626 rows × 2 columns</p>\n",
       "</div>"
      ]
     },
     "execution_count": 340,
     "metadata": {},
     "output_type": "execute_result"
    }
   ],
   "execution_count": 340
  },
  {
   "metadata": {
    "ExecuteTime": {
     "end_time": "2024-10-31T03:23:37.653876Z",
     "start_time": "2024-10-31T03:23:37.647721Z"
    }
   },
   "cell_type": "code",
   "source": [
    "# Save the results as csv\n",
    "df_prueba2.to_csv(r\"C:\\Code\\UTEC\\ML\\Project3\\Project\\data\\csv\\submission.csv\", index=False)"
   ],
   "id": "3a0d5e895fe9fd0e",
   "outputs": [],
   "execution_count": 341
  },
  {
   "metadata": {
    "ExecuteTime": {
     "end_time": "2024-10-31T03:23:38.432574Z",
     "start_time": "2024-10-31T03:23:38.425865Z"
    }
   },
   "cell_type": "code",
   "source": [
    "test_subset_10 = pd.read_csv(r\"C:\\Code\\UTEC\\ML\\Project3\\Project\\data\\csv\\test_subset_10.csv\")\n",
    "ids_test_subset_10 = test_subset_10[\"youtube_id\"].values\n",
    "# select the ids and labels that are in ids_test_subset_10\n",
    "df_prueba2_subset = df_prueba2[df_prueba2[\"youtube_id\"].isin(ids_test_subset_10)]\n",
    "print(df_prueba2_subset.head(5))"
   ],
   "id": "eca69fed10938592",
   "outputs": [
    {
     "name": "stdout",
     "output_type": "stream",
     "text": [
      "    youtube_id  label\n",
      "1  -7Wz9S-ZZz4     -1\n",
      "2  -a1f1ikmdd8     -1\n",
      "4  -bGVnGCy2yY     15\n",
      "5  -BrNqmFy-6Y     -1\n",
      "6  -CsBjy8T-II     15\n"
     ]
    }
   ],
   "execution_count": 342
  },
  {
   "metadata": {
    "ExecuteTime": {
     "end_time": "2024-10-31T03:23:39.717379Z",
     "start_time": "2024-10-31T03:23:39.713924Z"
    }
   },
   "cell_type": "code",
   "source": "print(len(df_prueba2_subset.values))",
   "id": "ebd7e1c4ded13bec",
   "outputs": [
    {
     "name": "stdout",
     "output_type": "stream",
     "text": [
      "805\n"
     ]
    }
   ],
   "execution_count": 343
  },
  {
   "metadata": {
    "ExecuteTime": {
     "end_time": "2024-10-31T03:23:40.644441Z",
     "start_time": "2024-10-31T03:23:40.545203Z"
    }
   },
   "cell_type": "code",
   "source": [
    "# plot the frequency of the labels in the subset\n",
    "plt.figure(figsize=(10, 6))\n",
    "sns.countplot(x=\"label\", data=df_prueba2_subset)\n",
    "plt.xticks(rotation=90)\n",
    "plt.ylabel(\"Frequency\")\n",
    "plt.title(\"Frequency of the labels in test subset dataset\")\n",
    "plt.show()"
   ],
   "id": "7496391c78437cc4",
   "outputs": [
    {
     "data": {
      "text/plain": [
       "<Figure size 1000x600 with 1 Axes>"
      ],
      "image/png": "[encoded data removed]"
     },
     "metadata": {},
     "output_type": "display_data"
    }
   ],
   "execution_count": 344
  },
  {
   "metadata": {
    "ExecuteTime": {
     "end_time": "2024-10-30T23:04:54.983184Z",
     "start_time": "2024-10-30T23:04:54.977609Z"
    }
   },
   "cell_type": "code",
   "source": [
    "# Save the results as csv\n",
    "df_prueba2_subset.to_csv(r\"C:\\Code\\UTEC\\ML\\Project3\\Project\\data\\csv\\submission_subset.csv\", index=False)"
   ],
   "id": "ebea65cf9c13659c",
   "outputs": [],
   "execution_count": 250
  },
  {
   "metadata": {
    "ExecuteTime": {
     "end_time": "2024-10-31T04:30:13.727220Z",
     "start_time": "2024-10-31T04:30:08.424141Z"
    }
   },
   "cell_type": "code",
   "source": [
    "# Test PCA, the same but with pca\n",
    "pca_red = PCA(n_components=31)\n",
    "X_test_pca = umap_red.fit_transform(X_test)\n",
    "X_test_pca = StandardScaler().fit_transform(X_test_pca)\n",
    "dbscan_pca = DBScan_custom(eps=0.5, min_samples=4).fit(X_pca)\n",
    "Y_test_pred_pca = dbscan_pca.predict(X_test_pca)\n",
    "# select only the labels that are in the train_subset_10.csv\n",
    "prueba2 = { \"youtube_id\": video_ids_test, \"label\": Y_test_pred_pca}\n",
    "df_prueba2 = pd.DataFrame(prueba2)\n",
    "\n"
   ],
   "id": "a0697c2804c54f94",
   "outputs": [],
   "execution_count": 350
  },
  {
   "metadata": {
    "ExecuteTime": {
     "end_time": "2024-10-31T04:33:13.235650Z",
     "start_time": "2024-10-31T04:33:13.228698Z"
    }
   },
   "cell_type": "code",
   "source": "df_prueba2_subset = df_prueba2[df_prueba2[\"youtube_id\"].isin(ids_test_subset_10)]",
   "id": "820839de8003044f",
   "outputs": [],
   "execution_count": 352
  },
  {
   "metadata": {
    "ExecuteTime": {
     "end_time": "2024-10-31T04:33:27.796574Z",
     "start_time": "2024-10-31T04:33:27.689216Z"
    }
   },
   "cell_type": "code",
   "source": [
    "# plot the frequency of the labels in the subset\n",
    "plt.figure(figsize=(10, 6))\n",
    "sns.countplot(x=\"label\", data=df_prueba2_subset)\n",
    "plt.xticks(rotation=90)\n",
    "plt.ylabel(\"Frequency\")\n",
    "plt.title(\"Frequency of the labels in test subset dataset\")\n",
    "plt.show()"
   ],
   "id": "7592dc12439760ad",
   "outputs": [
    {
     "data": {
      "text/plain": [
       "<Figure size 1000x600 with 1 Axes>"
      ],
      "image/png": "[encoded data removed]"
     },
     "metadata": {},
     "output_type": "display_data"
    }
   ],
   "execution_count": 353
  }
 ],
 "metadata": {
  "kernelspec": {
   "display_name": "Python 3",
   "language": "python",
   "name": "python3"
  },
  "language_info": {
   "codemirror_mode": {
    "name": "ipython",
    "version": 2
   },
   "file_extension": ".py",
   "mimetype": "text/x-python",
   "name": "python",
   "nbconvert_exporter": "python",
   "pygments_lexer": "ipython2",
   "version": "2.7.6"
  }
 },
 "nbformat": 4,
 "nbformat_minor": 5
}
